{
 "metadata": {
  "name": "",
  "signature": "sha256:612795eaf6bec68c52640e77b32d0444fe17f394901e67c982d760106a009e20"
 },
 "nbformat": 3,
 "nbformat_minor": 0,
 "worksheets": [
  {
   "cells": [
    {
     "cell_type": "markdown",
     "metadata": {},
     "source": [
      "Benchmarking Axe\n",
      "================\n",
      "\n",
      "This notebook is about benchmarking axe, both in terms of speed and accuracy. It's a work in progress, as I have time. I intend to benchmark axe against several comparable tools:\n",
      "\n",
      " - [sabre](https://github.com/najoshi/sabre) \n",
      " - [flexbar](http://sourceforge.net/projects/flexbar/)\n",
      " - [fastx_barcode_splitter.pl](abcde)"
     ]
    },
    {
     "cell_type": "markdown",
     "metadata": {},
     "source": [
      "Setup\n",
      "-----\n",
      "\n",
      "Lets get started. For reproduceability's sake, lets get versions etc of all tools.\n",
      "\n",
      "These are:\n",
      "\n",
      "- axe, built from version `0.1.4+git=9e8af9e` with libqes version `0.1.3 (gebe6f36)`. \n",
      "- sabre, build from git revision `039a55e`, on github [here](https://github.com/najoshi/sabre/tree/039a55e500ba07b7e6432ea6ec2ddcfb3471d949)\n",
      "- pairs, from Vince Buffalo's `seqqs` tool, built from git revision `3d05375`, on github [here](https://github.com/vsbuffalo/seqqs/tree/3d05375004c26c29b15e390c7cd904da8dc3d78c)"
     ]
    },
    {
     "cell_type": "markdown",
     "metadata": {},
     "source": [
      "#### setup python env"
     ]
    },
    {
     "cell_type": "code",
     "collapsed": false,
     "input": [
      "%pylab inline\n",
      "import pandas as pd\n",
      "import itertools\n",
      "import random\n",
      "from collections import Counter\n",
      "import glob\n",
      "import re"
     ],
     "language": "python",
     "metadata": {},
     "outputs": [
      {
       "output_type": "stream",
       "stream": "stdout",
       "text": [
        "Populating the interactive namespace from numpy and matplotlib\n"
       ]
      }
     ],
     "prompt_number": 1
    },
    {
     "cell_type": "markdown",
     "metadata": {},
     "source": [
      "#### Define common python functions"
     ]
    },
    {
     "cell_type": "code",
     "collapsed": false,
     "input": [
      "def mutate_bcd(seq, dist):\n",
      "    \"\"\"Mutates seq by dist nucleotides\"\"\"\n",
      "    idx = list(range(len(seq)))                                                 \n",
      "    random.shuffle(idx)                                                         \n",
      "    nts = list(\"AGTC\")                                                          \n",
      "    seq = list(seq)                                                             \n",
      "    for i in range(dist):                                                       \n",
      "        rep = random.choice(nts)                                                \n",
      "        while seq[idx[i]] == rep:                                               \n",
      "            rep = random.choice(nts)                                            \n",
      "        seq[idx[i]] = rep                                                       \n",
      "    return \"\".join(seq)\n",
      "\n",
      "def fqitr(fp):\n",
      "    \"\"\"Fastq iterator. Whoop for python golf! Just\n",
      "       gives the 4 bits of it stripped, and avoids depending on\n",
      "       biopython or pycogent\"\"\"\n",
      "    for hdr, seq, _, qual in itertools.izip(fp, fp, fp, fp):\n",
      "        yield [hdr.strip(), seq.strip(), '+', qual.strip()]\n",
      "\n",
      "\n",
      "def get_true_bcd_from_header(hdr):\n",
      "    return hdr.strip().split(' ')[2]"
     ],
     "language": "python",
     "metadata": {},
     "outputs": [],
     "prompt_number": 2
    },
    {
     "cell_type": "markdown",
     "metadata": {},
     "source": [
      "#### Check tool versions"
     ]
    },
    {
     "cell_type": "code",
     "collapsed": false,
     "input": [
      "!binaries/axe -V"
     ],
     "language": "python",
     "metadata": {},
     "outputs": [
      {
       "output_type": "stream",
       "stream": "stdout",
       "text": [
        "axe Version 0.1.4+git=9e8af9e\r\n"
       ]
      }
     ],
     "prompt_number": 3
    },
    {
     "cell_type": "code",
     "collapsed": false,
     "input": [
      "!binaries/wgsim 2>&1 | head -n 3"
     ],
     "language": "python",
     "metadata": {},
     "outputs": [
      {
       "output_type": "stream",
       "stream": "stdout",
       "text": [
        "\r\n",
        "Program: wgsim (short read simulator)\r\n",
        "Version: 0.3.1-r13\r\n"
       ]
      }
     ],
     "prompt_number": 4
    },
    {
     "cell_type": "markdown",
     "metadata": {},
     "source": [
      "#### Clean up workspace\n",
      "We should clean up all previous runs. This means removing things from `./generated_data`, and `./out` then `mkdir`ing them again\n"
     ]
    },
    {
     "cell_type": "code",
     "collapsed": false,
     "input": [
      "%%bash\n",
      "test -d generated_data/ && rm -r generated_data/\n",
      "test -d out/ && rm -r out/\n",
      "mkdir generated_data/\n",
      "mkdir out/\n",
      "mkdir out/axe\n",
      "mkdir out/sabre\n",
      "mkdir out/fastx\n",
      "mkdir out/flexbar"
     ],
     "language": "python",
     "metadata": {},
     "outputs": [],
     "prompt_number": 5
    },
    {
     "cell_type": "markdown",
     "metadata": {},
     "source": [
      "Fake reads\n",
      "----------\n",
      "\n",
      "OK, now we need to make some fake reads. Let's generate reads from the *Arabadopsis thaliana* TAIR10 chloroplast genome (ChrC). This is just so I can distribute a reproducible tarball. We'll generate 1M read pairs of 101bp each, simulating a typical HiSeq 2000+ run. We explicity don't simulate mutation, and simulate a base error rate of 2% (the default)."
     ]
    },
    {
     "cell_type": "code",
     "collapsed": false,
     "input": [
      "n_reads = int(1e4)"
     ],
     "language": "python",
     "metadata": {},
     "outputs": [],
     "prompt_number": 6
    },
    {
     "cell_type": "code",
     "collapsed": false,
     "input": [
      "!md5sum data/ChrC.fa"
     ],
     "language": "python",
     "metadata": {},
     "outputs": [
      {
       "output_type": "stream",
       "stream": "stdout",
       "text": [
        "e98292ce15367c2ae30ad1b6df1d47f1  data/ChrC.fa\r\n"
       ]
      }
     ],
     "prompt_number": 7
    },
    {
     "cell_type": "code",
     "collapsed": false,
     "input": [
      "!binaries/wgsim \\\n",
      "    -S 16384 \\\n",
      "    -1 101 -2 101 \\\n",
      "    -N $n_reads \\\n",
      "    -h -r 0.0 \\\n",
      "    data/ChrC.fa \\\n",
      "    generated_data/chrc_raw_r1.fq \\\n",
      "    generated_data/chrc_raw_r2.fq"
     ],
     "language": "python",
     "metadata": {},
     "outputs": [
      {
       "output_type": "stream",
       "stream": "stdout",
       "text": [
        "[wgsim] seed = 16384\r\n",
        "[wgsim_core] calculating the total length of the reference sequence...\r\n",
        "[wgsim_core] 1 sequences, total length: 154478\r\n"
       ]
      }
     ],
     "prompt_number": 8
    },
    {
     "cell_type": "markdown",
     "metadata": {},
     "source": [
      "#### Ensure that we've generated the right reads\n",
      "The output of this (with 1M reads) should be:\n",
      "```\n",
      "93a3fa374a1f165268b00e03003fb2c4  generated_data/chrc_raw_r1.fq\n",
      "eb6a52c44f15f69b758397339ca36d15  generated_data/chrc_raw_r2.fq\n",
      "```\n",
      "If the below cell does't output this, you milage may vary, but everything should still work, provided the files aren't empty."
     ]
    },
    {
     "cell_type": "code",
     "collapsed": false,
     "input": [
      "!md5sum generated_data/chrc_raw_*.fq"
     ],
     "language": "python",
     "metadata": {},
     "outputs": [
      {
       "output_type": "stream",
       "stream": "stdout",
       "text": [
        "f08e3626d6c9dad5bde09b69eb8cfe8c  generated_data/chrc_raw_r1.fq\r\n",
        "ede4386cf0d0b46fc09e3883f5583b5c  generated_data/chrc_raw_r2.fq\r\n"
       ]
      }
     ],
     "prompt_number": 9
    },
    {
     "cell_type": "markdown",
     "metadata": {},
     "source": [
      "#### Adding simple barcodes\n",
      "So, we have some raw reads. We now need to add barcodes. Initially, we just add them with no mismatches. First, we define the barcodes we'll use and write both a AXE barcode file and a sabre config file"
     ]
    },
    {
     "cell_type": "code",
     "collapsed": false,
     "input": [
      "barcodes = [\n",
      "    \"AAAA\",\n",
      "    \"CCCC\",\n",
      "    \"GGGG\",\n",
      "    \"TTTT\",\n",
      "    ]\n",
      "\n",
      "\n",
      "with open(\"generated_data/simple_barcodes.axe\", \"w\") as bcd_fh:\n",
      "    for iii, bcd  in enumerate(barcodes):\n",
      "        bcd_fh.write(\"{}\\t{}\\n\".format(bcd, bcd))\n",
      "\n",
      "with open(\"generated_data/simple_barcodes.flexbar\", \"w\") as bcd_fh:\n",
      "    for iii, bcd  in enumerate(barcodes):\n",
      "        bcd_fh.write(\">{}\\n{}\\n\".format(bcd, bcd))\n",
      "\n",
      "def make_sabre_se(analysis_name):\n",
      "    with open(\"generated_data/simple_barcodes.sabre\", \"w\") as bcd_fh:\n",
      "        for iii, bcd  in enumerate(barcodes):\n",
      "            bcd_fh.write(\"{}\\tout/sabre/{}_{}.fq\\n\".format(\n",
      "                        bcd, analysis_name, iii))\n",
      "\n",
      "def make_sabre_pe(analysis_name):\n",
      "    with open(\"generated_data/simple_barcodes.sabre\", \"w\") as bcd_fh:\n",
      "        for iii, bcd  in enumerate(barcodes):\n",
      "            bcd_fh.write(\"{}\\tout/sabre/{}_{}_R1.fq\\tout/sabre/{}_{}_R2.fq\\n\".format(\n",
      "                        bcd, analysis_name, iii, analysis_name, iii))\n",
      "\n",
      "\n",
      "make_sabre_se(\"simple_0mm\")"
     ],
     "language": "python",
     "metadata": {},
     "outputs": [],
     "prompt_number": 10
    },
    {
     "cell_type": "code",
     "collapsed": false,
     "input": [
      "random.seed(16384)\n",
      "\n",
      "r1fh = open('generated_data/chrc_raw_r1.fq')\n",
      "r2fh = open('generated_data/chrc_raw_r2.fq')\n",
      "outfh = open(\"generated_data/chrc_singlebarcoded_0mm_il.fq\", \"w\")\n",
      "counts = Counter()\n",
      "for r1, r2 in itertools.izip(fqitr(r1fh),  fqitr(r2fh)):\n",
      "    for read in (r1, r2):\n",
      "        barcode = random.choice(barcodes)\n",
      "        counts[barcode] += 1\n",
      "        # Add barcode as a comment to the fastq header\n",
      "        read[0] = read[0] + \" \" + barcode + \" \" + barcode\n",
      "        read[1] = barcode + read[1]\n",
      "        read[3] = '2' * len(barcode) + read[3]\n",
      "        outfh.write(\"\\n\".join(read) + '\\n')\n",
      "    #outfh.write(\"\\n\".join(r2) + '\\n')\n",
      "outfh.close()\n",
      "r1fh.close()\n",
      "r2fh.close()\n",
      "for bcd, count in counts.most_common():\n",
      "    print bcd + \"\\t\" + str(count)"
     ],
     "language": "python",
     "metadata": {},
     "outputs": [
      {
       "output_type": "stream",
       "stream": "stdout",
       "text": [
        "AAAA\t5100\n",
        "GGGG\t5032\n",
        "CCCC\t5021\n",
        "TTTT\t4847\n"
       ]
      }
     ],
     "prompt_number": 11
    },
    {
     "cell_type": "code",
     "collapsed": true,
     "input": [
      "# hack the counter into a pandas dataframe\n",
      "real_dct = dict(counts.most_common())\n",
      "real_dct[\"No Barcode\"] = 0\n",
      "real_df = pd.DataFrame({\"Reality\":real_dct.values()},\n",
      "                       index=real_dct.keys())"
     ],
     "language": "python",
     "metadata": {},
     "outputs": [],
     "prompt_number": 39
    },
    {
     "cell_type": "code",
     "collapsed": false,
     "input": [
      "!md5sum generated_data/chrc_singlebarcoded_0mm_il.fq"
     ],
     "language": "python",
     "metadata": {},
     "outputs": [
      {
       "output_type": "stream",
       "stream": "stdout",
       "text": [
        "6c2bec988cf81984fa1d8e63ff125ad7  generated_data/chrc_singlebarcoded_0mm_il.fq\r\n"
       ]
      }
     ],
     "prompt_number": 40
    },
    {
     "cell_type": "markdown",
     "metadata": {},
     "source": [
      "So we now have a file, generated_data/chrc_singlebarcoded_0mm_il.fq, that contains the generated reads with a barcode spliced into the R1 read only."
     ]
    },
    {
     "cell_type": "markdown",
     "metadata": {},
     "source": [
      "Cross-compare axe in single barcode mode\n",
      "----------------------------------------"
     ]
    },
    {
     "cell_type": "code",
     "collapsed": false,
     "input": [
      "%%bash\n",
      "/usr/bin/time -v binaries/axe \\\n",
      "    -b generated_data/simple_barcodes.axe \\\n",
      "    -f generated_data/chrc_singlebarcoded_0mm_il.fq \\\n",
      "    -F out/axe/se_0mm \\\n",
      "    -t out/axe/se_0mm.tab"
     ],
     "language": "python",
     "metadata": {},
     "outputs": [
      {
       "output_type": "stream",
       "stream": "stderr",
       "text": [
        "[process_file] (13:12:34) Starting demultiplexing\n",
        "13:12:34: Processed 0.1M reads\r",
        "13:12:34: Processed 0.2M reads\r",
        "13:12:34: Processed 0.3M reads\r",
        "13:12:35: Processed 0.4M reads\r",
        "13:12:35: Processed 0.5M reads\r",
        "13:12:35: Processed 0.6M reads\r",
        "13:12:35: Processed 0.7M reads\r",
        "13:12:35: Processed 0.8M reads\r",
        "13:12:35: Processed 0.9M reads\r",
        "13:12:35: Processed 1.0M reads\r",
        "13:12:35: Processed 1.1M reads\r",
        "13:12:35: Processed 1.2M reads\r",
        "13:12:36: Processed 1.3M reads\r",
        "13:12:36: Processed 1.4M reads\r",
        "13:12:36: Processed 1.5M reads\r",
        "13:12:36: Processed 1.6M reads\r",
        "13:12:36: Processed 1.7M reads\r",
        "13:12:36: Processed 1.8M reads\r",
        "13:12:36: Processed 1.9M reads\r",
        "13:12:36: Processed 2.0M reads\r",
        "\r",
        "[process_file] (13:12:36) Finished demultiplexing\n",
        "\n",
        "Run Summary:\n",
        "Processed 2000000 reads in 2.3 seconds (882.179k reads/sec)\n",
        "2000000 reads contained valid barcodes\n",
        "0 reads could not be demultiplexed\n",
        "\tCommand being timed: \"binaries/axe -b generated_data/simple_barcodes.axe -f generated_data/chrc_singlebarcoded_0mm_il.fq -F out/axe/se_0mm -t out/axe/se_0mm.tab\"\n",
        "\tUser time (seconds): 1.84\n",
        "\tSystem time (seconds): 0.58\n",
        "\tPercent of CPU this job got: 29%\n",
        "\tElapsed (wall clock) time (h:mm:ss or m:ss): 0:08.34\n",
        "\tAverage shared text size (kbytes): 0\n",
        "\tAverage unshared data size (kbytes): 0\n",
        "\tAverage stack size (kbytes): 0\n",
        "\tAverage total size (kbytes): 0\n",
        "\tMaximum resident set size (kbytes): 2956\n",
        "\tAverage resident set size (kbytes): 0\n",
        "\tMajor (requiring I/O) page faults: 0\n",
        "\tMinor (reclaiming a frame) page faults: 186\n",
        "\tVoluntary context switches: 6\n",
        "\tInvoluntary context switches: 1277\n",
        "\tSwaps: 0\n",
        "\tFile system inputs: 32\n",
        "\tFile system outputs: 994152\n",
        "\tSocket messages sent: 0\n",
        "\tSocket messages received: 0\n",
        "\tSignals delivered: 0\n",
        "\tPage size (bytes): 4096\n",
        "\tExit status: 0\n"
       ]
      }
     ],
     "prompt_number": 50
    },
    {
     "cell_type": "code",
     "collapsed": false,
     "input": [
      "%%bash --out sabre_se_out\n",
      "\n",
      "/usr/bin/time -v binaries/sabre se \\\n",
      "    -f generated_data/chrc_singlebarcoded_0mm_il.fq \\\n",
      "    -b generated_data/simple_barcodes.sabre \\\n",
      "    -u out/sabre/se_0mm_unknown.fastq"
     ],
     "language": "python",
     "metadata": {},
     "outputs": [
      {
       "output_type": "stream",
       "stream": "stderr",
       "text": [
        "\tCommand being timed: \"binaries/sabre se -f generated_data/chrc_singlebarcoded_0mm_il.fq -b generated_data/simple_barcodes.sabre -u out/sabre/se_0mm_unknown.fastq\"\n",
        "\tUser time (seconds): 5.01\n",
        "\tSystem time (seconds): 0.86\n",
        "\tPercent of CPU this job got: 45%\n",
        "\tElapsed (wall clock) time (h:mm:ss or m:ss): 0:12.89\n",
        "\tAverage shared text size (kbytes): 0\n",
        "\tAverage unshared data size (kbytes): 0\n",
        "\tAverage stack size (kbytes): 0\n",
        "\tAverage total size (kbytes): 0\n",
        "\tMaximum resident set size (kbytes): 1540\n",
        "\tAverage resident set size (kbytes): 0\n",
        "\tMajor (requiring I/O) page faults: 0\n",
        "\tMinor (reclaiming a frame) page faults: 83\n",
        "\tVoluntary context switches: 11\n",
        "\tInvoluntary context switches: 983\n",
        "\tSwaps: 0\n",
        "\tFile system inputs: 40\n",
        "\tFile system outputs: 1175760\n",
        "\tSocket messages sent: 0\n",
        "\tSocket messages received: 0\n",
        "\tSignals delivered: 0\n",
        "\tPage size (bytes): 4096\n",
        "\tExit status: 0\n"
       ]
      }
     ],
     "prompt_number": 44
    },
    {
     "cell_type": "code",
     "collapsed": false,
     "input": [
      "#print sabre_se_out"
     ],
     "language": "python",
     "metadata": {},
     "outputs": [],
     "prompt_number": 12
    },
    {
     "cell_type": "markdown",
     "metadata": {},
     "source": [
      "the fastx-toolkit's demuxer uses the same format as `axe`"
     ]
    },
    {
     "cell_type": "code",
     "collapsed": false,
     "input": [
      "%%bash\n",
      "cat generated_data/chrc_singlebarcoded_0mm_il.fq |\n",
      "/usr/bin/time -v fastx_barcode_splitter.pl \\\n",
      "    --bcfile generated_data/simple_barcodes.axe \\\n",
      "    --bol --prefix out/fastx/se_0mm_ --suffix _il.fq"
     ],
     "language": "python",
     "metadata": {},
     "outputs": [
      {
       "output_type": "stream",
       "stream": "stdout",
       "text": [
        "Barcode\tCount\tLocation\n",
        "AAAA\t499184\tout/fastx/se_0mm_AAAA_il.fq\n",
        "CCCC\t500529\tout/fastx/se_0mm_CCCC_il.fq\n",
        "GGGG\t500591\tout/fastx/se_0mm_GGGG_il.fq\n",
        "TTTT\t499696\tout/fastx/se_0mm_TTTT_il.fq\n",
        "unmatched\t0\tout/fastx/se_0mm_unmatched_il.fq\n",
        "total\t2000000\n"
       ]
      },
      {
       "output_type": "stream",
       "stream": "stderr",
       "text": [
        "\tCommand being timed: \"fastx_barcode_splitter.pl --bcfile generated_data/simple_barcodes.axe --bol --prefix out/fastx/se_0mm_ --suffix _il.fq\"\n",
        "\tUser time (seconds): 21.74\n",
        "\tSystem time (seconds): 0.87\n",
        "\tPercent of CPU this job got: 85%\n",
        "\tElapsed (wall clock) time (h:mm:ss or m:ss): 0:26.41\n",
        "\tAverage shared text size (kbytes): 0\n",
        "\tAverage unshared data size (kbytes): 0\n",
        "\tAverage stack size (kbytes): 0\n",
        "\tAverage total size (kbytes): 0\n",
        "\tMaximum resident set size (kbytes): 7416\n",
        "\tAverage resident set size (kbytes): 0\n",
        "\tMajor (requiring I/O) page faults: 0\n",
        "\tMinor (reclaiming a frame) page faults: 985\n",
        "\tVoluntary context switches: 12\n",
        "\tInvoluntary context switches: 768\n",
        "\tSwaps: 0\n",
        "\tFile system inputs: 32\n",
        "\tFile system outputs: 1025392\n",
        "\tSocket messages sent: 0\n",
        "\tSocket messages received: 0\n",
        "\tSignals delivered: 0\n",
        "\tPage size (bytes): 4096\n",
        "\tExit status: 0\n"
       ]
      }
     ],
     "prompt_number": 47
    },
    {
     "cell_type": "code",
     "collapsed": false,
     "input": [
      "%%bash\n",
      "\n",
      "/usr/bin/time -v flexbar \\\n",
      "    -r generated_data/chrc_singlebarcoded_0mm_il.fq \\\n",
      "    -t out/flexbar/se_0mm_ \\\n",
      "    -b generated_data/simple_barcodes.flexbar"
     ],
     "language": "python",
     "metadata": {},
     "outputs": [
      {
       "output_type": "stream",
       "stream": "stdout",
       "text": [
        "\n",
        "               ________          __              \n",
        "              / ____/ /__  _  __/ /_  ____ ______\n",
        "             / /_  / / _ \\| |/ / __ \\/ __ `/ ___/\n",
        "            / __/ / /  __/>  </ /_/ / /_/ / /    \n",
        "           /_/   /_/\\___/_/|_/_.___/\\__,_/_/     \n",
        "\n",
        "Flexbar - flexible barcode and adapter removal, version 2.5\n",
        "\n",
        "\n",
        "Local time:            Mon Nov 17 13:09:17 2014\n",
        "\n",
        "Target name:           out/flexbar/se_0mm_\n",
        "File type:             fastq\n",
        "Reads file:            generated_data/chrc_singlebarcoded_0mm_il.fq\n",
        "Barcode file:          generated_data/simple_barcodes.flexbar\n",
        "\n",
        "threads:               1\n",
        "max-uncalled:          0\n",
        "min-read-length:       18\n",
        "\n",
        "barcode-trim-end:      ANY\n",
        "barcode-threshold:     1\n",
        "barcode-match:         1\n",
        "barcode-mismatch:     -1\n",
        "barcode-gap:          -9\n",
        "\n",
        "Barcode:               Sequence:\n",
        "AAAA                   AAAA\n",
        "CCCC                   CCCC\n",
        "GGGG                   GGGG\n",
        "TTTT                   TTTT\n",
        "\n",
        "\n",
        "Processing reads ...done.\n",
        "\n",
        "Computation time:  3 min 17 sec\n",
        "\n",
        "\n",
        "Output file statistics\n",
        "======================\n",
        "Read file:               out/flexbar/se_0mm__barcode_AAAA.fastq\n",
        "  written reads          1402785\n",
        "  skipped short reads    0\n",
        "\n",
        "Read file:               out/flexbar/se_0mm__barcode_CCCC.fastq\n",
        "  written reads          283033\n",
        "  skipped short reads    0\n",
        "\n",
        "Read file:               out/flexbar/se_0mm__barcode_GGGG.fastq\n",
        "  written reads          187236\n",
        "  skipped short reads    0\n",
        "\n",
        "Read file:               out/flexbar/se_0mm__barcode_TTTT.fastq\n",
        "  written reads          126946\n",
        "  skipped short reads    0\n",
        "\n",
        "\n",
        "Filtering statistics\n",
        "====================\n",
        "Processed reads                   2000000\n",
        "  skipped due to uncalled bases         0\n",
        "  skipped unassigned reads              0\n",
        "  finally skipped short reads           0\n",
        "Discarded reads overall                 0\n",
        "Remaining reads                   2000000   (100% of input)\n",
        "\n",
        "Processed bases:   210000000\n",
        "Remaining bases:   176288591   (83% of input)\n",
        "\n",
        "\n",
        "Flexbar completed barcode removal within reads.\n",
        "\n"
       ]
      },
      {
       "output_type": "stream",
       "stream": "stderr",
       "text": [
        "\tCommand being timed: \"flexbar -r generated_data/chrc_singlebarcoded_0mm_il.fq -t out/flexbar/se_0mm_ -b generated_data/simple_barcodes.flexbar\"\n",
        "\tUser time (seconds): 196.04\n",
        "\tSystem time (seconds): 0.76\n",
        "\tPercent of CPU this job got: 100%\n",
        "\tElapsed (wall clock) time (h:mm:ss or m:ss): 3:16.80\n",
        "\tAverage shared text size (kbytes): 0\n",
        "\tAverage unshared data size (kbytes): 0\n",
        "\tAverage stack size (kbytes): 0\n",
        "\tAverage total size (kbytes): 0\n",
        "\tMaximum resident set size (kbytes): 4736\n",
        "\tAverage resident set size (kbytes): 0\n",
        "\tMajor (requiring I/O) page faults: 1\n",
        "\tMinor (reclaiming a frame) page faults: 296\n",
        "\tVoluntary context switches: 28\n",
        "\tInvoluntary context switches: 11448\n",
        "\tSwaps: 0\n",
        "\tFile system inputs: 208\n",
        "\tFile system outputs: 893712\n",
        "\tSocket messages sent: 0\n",
        "\tSocket messages received: 0\n",
        "\tSignals delivered: 0\n",
        "\tPage size (bytes): 4096\n",
        "\tExit status: 0\n"
       ]
      }
     ],
     "prompt_number": 49
    },
    {
     "cell_type": "markdown",
     "metadata": {},
     "source": [
      "#### So, the sabre stats are output in a fairly arcane manner, so we have to hack it into an DF"
     ]
    },
    {
     "cell_type": "code",
     "collapsed": false,
     "input": [
      "def get_sabre_stats(output):\n",
      "    sabre_se_match = {}\n",
      "    for line in output.splitlines():\n",
      "    if re.search('mismatches|Total', line):\n",
      "        # remove the Total FastQ .. line and the Num mismatches line\n",
      "        continue\n",
      "    m = re.search(r'(\\w+): (\\d+)', line)\n",
      "    if m is not None:\n",
      "        sabre_se_match[m.groups()[0]] = m.groups()[1]\n",
      "sabre_se_match['No Barcode'] = sabre_se_match['match']\n",
      "del sabre_se_match['match']\n",
      "sabre_df = pd.DataFrame({'Sabre':sabre_se_match.values()}, index=sabre_se_match.keys())"
     ],
     "language": "python",
     "metadata": {},
     "outputs": [],
     "prompt_number": 116
    },
    {
     "cell_type": "code",
     "collapsed": false,
     "input": [
      "axe_df = pd.read_table(\"out/axe/se_0mm.tab\", index_col=1)\n",
      "del axe_df['Barcode']\n",
      "axe_df.columns = ['Axe']\n",
      "#print se_tab.append({\"sabre\": sabre_se_match},ignore_index=True)\n",
      "#pl.label_outer(res.Barcode)\n",
      "se_tab =  pd.concat([axe_df, sabre_df, real_df], axis=1)\n",
      "print se_tab\n",
      "pl = se_tab.plot(kind='bar')\n"
     ],
     "language": "python",
     "metadata": {},
     "outputs": [
      {
       "output_type": "stream",
       "stream": "stdout",
       "text": [
        "               Axe   Sabre  Reality\n",
        "AAAA        499184  499184   499184\n",
        "CCCC        500529  500529   500529\n",
        "GGGG        500591  500591   500591\n",
        "No Barcode       0       0        0\n",
        "TTTT        499696  499696   499696\n"
       ]
      },
      {
       "metadata": {},
       "output_type": "display_data",
       "png": "[encoded data removed]",
       "text": [
        "<matplotlib.figure.Figure at 0x7f6ec8030410>"
       ]
      }
     ],
     "prompt_number": 128
    },
    {
     "cell_type": "markdown",
     "metadata": {},
     "source": [
      "Looks familiar, eh! To my eye, that's a perfect match. But wait, there's more! Let's grab out the barcode from the header of the R1 reads, and check what they are!"
     ]
    },
    {
     "cell_type": "code",
     "collapsed": false,
     "input": [
      "def calc_assignments_se(path):\n",
      "    assignments = Counter()\n",
      "    for bcd in barcodes:\n",
      "        file = path.format(bcd)\n",
      "        with open(file) as fh:\n",
      "            for lnum, line in enumerate(fh):\n",
      "                if lnum % 8 == 0:\n",
      "                    truth = get_true_bcd_from_header(line)\n",
      "                    assignments[truth == bcd] += 1\n",
      "    return assignments"
     ],
     "language": "python",
     "metadata": {},
     "outputs": [],
     "prompt_number": 20
    },
    {
     "cell_type": "code",
     "collapsed": false,
     "input": [
      "calc_assignments_se(\"out/axe/se_0mm_{}_il.fastq\")"
     ],
     "language": "python",
     "metadata": {},
     "outputs": [
      {
       "metadata": {},
       "output_type": "pyout",
       "prompt_number": 23,
       "text": [
        "Counter({True: 1000000})"
       ]
      }
     ],
     "prompt_number": 23
    },
    {
     "cell_type": "markdown",
     "metadata": {},
     "source": [
      "Yep, It's a match. Awesome."
     ]
    },
    {
     "cell_type": "markdown",
     "metadata": {},
     "source": [
      "And now for something much the same - mismatches\n",
      "------------------------------------------------\n",
      "\n",
      "If it were that easy, someone else would have done it...\n",
      "\n",
      "So, mismatches. Time for a lot of copy pasting. Basically, we need to mutate a percentage of the reads. If we take the base error rate to be about 1% across all bases of all reads on average (dodgy I know, but bear with me...), then we want to mutate `len(barcode) * 0.01` bases in each barcode (or 1 in every `1/(len(barcode) * 0.01)` barcodes). In my experience, this is an overestimate of the error rate, expecially at the start of reads, but just call it a bad lane :). And we have real data below anyhow..."
     ]
    },
    {
     "cell_type": "code",
     "collapsed": false,
     "input": [
      "random.seed(12345)\n",
      "r1fh = open('generated_data/chrc_raw_r1.fq')\n",
      "r2fh = open('generated_data/chrc_raw_r2.fq')\n",
      "outfh = open(\"generated_data/chrc_singlebarcoded_1mm_il.fq\", \"w\")\n",
      "counts = Counter()\n",
      "errcount = Counter()\n",
      "\n",
      "for r1, r2 in itertools.izip(fqitr(r1fh),  fqitr(r2fh)):\n",
      "    #print r1, r2\n",
      "    barcode = random.choice(barcodes)\n",
      "    barcode_orig = barcode\n",
      "    if 1: #random.random() < (0.06):\n",
      "        errcount[barcode] += 1\n",
      "        barcode = mutate_bcd(barcode, 1)\n",
      "    counts[barcode_orig] += 1\n",
      "    # Add barcode as a comment to the fastq header\n",
      "    r1[0] = r1[0] + \" \" + barcode + ' ' + barcode_orig\n",
      "    #r1[1] = barcode +  \"N\" + r1[1]\n",
      "    r1[1] = barcode +  r1[1]\n",
      "    #r1[3] = '2' * (len(barcode) + 1) + r1[3]\n",
      "    r1[3] = '2' * (len(barcode)) + r1[3]\n",
      "    #print r1, r2\n",
      "    outfh.write(\"\\n\".join(r1) + '\\n')\n",
      "    outfh.write(\"\\n\".join(r2) + '\\n')\n",
      "outfh.close()\n",
      "r1fh.close()\n",
      "r2fh.close()\n",
      "for bcd, count in counts.most_common():\n",
      "    print bcd.ljust(9) + \"\\t\" + str(count)"
     ],
     "language": "python",
     "metadata": {},
     "outputs": [
      {
       "output_type": "stream",
       "stream": "stdout",
       "text": [
        "CCGGATAT \t10094\n",
        "TAATA    \t10093\n",
        "AGGAT    \t10038\n",
        "TATTTTT  \t10021\n",
        "ATGCCT   \t9994\n",
        "GTAA     \t9982\n",
        "CGCGGAGA \t9974\n",
        "TTCTG    \t9970\n",
        "CCTAG    \t9933\n",
        "CTAGG    \t9901\n"
       ]
      }
     ],
     "prompt_number": 17
    },
    {
     "cell_type": "code",
     "collapsed": false,
     "input": [
      "!binaries/axe \\\n",
      "    -b generated_data/barcodes.axe \\\n",
      "    -i generated_data/chrc_singlebarcoded_1mm_il.fq \\\n",
      "    -I out/axe/se_1mm \\\n",
      "    -t out/axe/se_1mm.tab"
     ],
     "language": "python",
     "metadata": {},
     "outputs": [
      {
       "output_type": "stream",
       "stream": "stdout",
       "text": [
        "[process_file] (18:34:46) Starting demultiplexing\r\n"
       ]
      },
      {
       "output_type": "stream",
       "stream": "stdout",
       "text": [
        "18:34:47: Processed 0.1M read pairs\r",
        "\r",
        "[process_file] (18:34:47) Finished demultiplexing\r\n",
        "\r\n",
        "Run Summary:\r\n",
        "Processed 100000 read pairs in 0.1 seconds (686.488k read pairs/sec)\r\n",
        "100000 read pairs contained valid barcodes\r\n",
        "0 read pairs could not be demultiplexed\r\n"
       ]
      }
     ],
     "prompt_number": 18
    },
    {
     "cell_type": "code",
     "collapsed": false,
     "input": [
      "!grep -v '^Barcode' out/axe/se_1mm.tab | cut -f 1,3 | sort -nrk2 |column -t"
     ],
     "language": "python",
     "metadata": {},
     "outputs": [
      {
       "output_type": "stream",
       "stream": "stdout",
       "text": [
        "TATTTTT   10189\r\n",
        "CTAGG     10163\r\n",
        "CCGGATAT  10094\r\n",
        "AGGAT     10038\r\n",
        "CGCGGAGA  10008\r\n",
        "ATGCCT    9994\r\n",
        "TTCTG     9970\r\n",
        "CCTAG     9933\r\n",
        "TAATA     9925\r\n",
        "GTAA      9686\r\n",
        "N         0\r\n"
       ]
      }
     ],
     "prompt_number": 19
    },
    {
     "cell_type": "markdown",
     "metadata": {},
     "source": [
      "Even with mismatches,  and nested barcodes, that's perfect."
     ]
    },
    {
     "cell_type": "code",
     "collapsed": false,
     "input": [
      "%%bash\n",
      "for file in out/axe/se_1mm_[0-9]_il.fastq;\n",
      "do\n",
      "    echo -ne \"$file\\t\"\n",
      "    # grab the barcode from the file header\n",
      "    grep '^@ChrC.*/1' $file | cut -d ' ' -f 2 | sort -u |tr '\\n' ' '\n",
      "    # the fancy counting version:\n",
      "    #echo \"$file\"\n",
      "    #grep '^@ChrC.*/1' $file | cut -d ' ' -f 2 | sort |uniq -c| sort -nrk1|sed 's/^/\\t/'\n",
      "    echo\n",
      "done"
     ],
     "language": "python",
     "metadata": {},
     "outputs": [
      {
       "output_type": "stream",
       "stream": "stdout",
       "text": [
        "out/axe/se_1mm_0_il.fastq\tATAA CTAA GAAA GCAA GGAA GTAC GTAG GTAT GTCA GTGA GTTA TTAA \n",
        "out/axe/se_1mm_1_il.fastq\tAATTTTT CATTTTT GATTTTT TAATT TAATTTT TACTTTT TAGTTTT TATATTT TATCTTT TATGTTT TATTA TATTATT TATTCTT TATTGTT TATTTAT TATTTCT TATTTGT TATTTTA TATTTTC TATTTTG TCTTTTT TGTTTTT TTTTTTT \n",
        "out/axe/se_1mm_2_il.fastq\tAAATA CAATA GAATA TAAAA TAACA TAAGA TAATC TAATG TAATT TACTA TAGTA TATTA TCATA TGATA TTATA \n",
        "out/axe/se_1mm_3_il.fastq\tACGGATAT CAGGATAT CCAGATAT CCCGATAT CCGAATAT CCGCATAT CCGGAAAT CCGGACAT CCGGAGAT CCGGATAA CCGGATAC CCGGATAG CCGGATCT CCGGATGT CCGGATTT CCGGCTAT CCGGGTAT CCGGTTAT CCGTATAT CCTGATAT CGGGATAT CTGGATAT GCGGATAT TCGGATAT \n",
        "out/axe/se_1mm_4_il.fastq\tATCTG CTCTG GTCTG TACTG TCCTG TGCTG TTATG TTCAG TTCCG TTCGG TTCTA TTCTC TTCTT TTGTG TTTTG \n",
        "out/axe/se_1mm_5_il.fastq\tATAGG CAAGG CCAGG CGAGG CTAA CTAAG CTACG CTAGA CTAGC CTAGT CTATG CTCGG CTGGG CTTGG GTAG GTAGG TTAGG \n",
        "out/axe/se_1mm_6_il.fastq\tAAGAT ACGAT AGAAT AGCAT AGGAA AGGAC AGGAG AGGCT AGGGT AGGTT AGTAT ATGAT CGGAT GGGAT TGGAT \n",
        "out/axe/se_1mm_7_il.fastq\tAAGCCT ACGCCT AGGCCT ATACCT ATCCCT ATGACT ATGCAT ATGCCA ATGCCC ATGCCG ATGCGT ATGCTT ATGGCT ATGTCT ATTCCT CTGCCT GTGCCT TTGCCT \n",
        "out/axe/se_1mm_8_il.fastq\tAGCGGAGA CACGGAGA CCCGGAGA CGAGG CGAGGAGA CGCAGAGA CGCCGAGA CGCGAAGA CGCGCAGA CGCGGAAA CGCGGACA CGCGGAGC CGCGGAGG CGCGGAGT CGCGGATA CGCGGCGA CGCGGGGA CGCGGTGA CGCGTAGA CGCTGAGA CGGGGAGA CGTGGAGA CTCGG CTCGGAGA GGCGGAGA TGCGGAGA \n",
        "out/axe/se_1mm_9_il.fastq\tACTAG CATAG CCAAG CCCAG CCGAG CCTAA CCTAC CCTAT CCTCG CCTGG CCTTG CGTAG CTTAG GCTAG TCTAG \n"
       ]
      }
     ],
     "prompt_number": 20
    },
    {
     "cell_type": "markdown",
     "metadata": {},
     "source": [
      "Fairly nice!\n",
      "\n",
      "Below, we grab any barcodes out of the seq header from reads that couldn't be demultiplexed."
     ]
    },
    {
     "cell_type": "code",
     "collapsed": false,
     "input": [
      "!grep -P '@ChrC.+/1' out/axe/se_1mm_unknown_il.fastq |cut -d ' ' -f 2-3 |sort -u"
     ],
     "language": "python",
     "metadata": {},
     "outputs": [],
     "prompt_number": 21
    },
    {
     "cell_type": "markdown",
     "metadata": {},
     "source": [
      "GBS-like Barcoding\n",
      "==================\n",
      "\n",
      "We want to simulate GBS, so we need to add RE sites to the start of our random reads from above.\n",
      "\n",
      "I'm going to pilfer wholesale the code above."
     ]
    },
    {
     "cell_type": "code",
     "collapsed": false,
     "input": [
      "\n",
      "gbs_barcodes = [\n",
      "    \"GTAA\",\n",
      "    \"TATTTTT\",\n",
      "    \"TAATA\",\n",
      "    \"CCGGATAT\",\n",
      "    \"TTCTG\",\n",
      "    \"CTAGG\",\n",
      "    \"AGGAT\",\n",
      "    \"ATGCCT\",\n",
      "    \"CGCGGAGA\",\n",
      "    \"CCTAG\",\n",
      "    ]\n",
      "\n",
      "nested_barcodes = [\n",
      "    \"AAAA\",\n",
      "    \"AAAAAAAA\",\n",
      "    \"CCCC\",\n",
      "    \"CCCCCCCC\",\n",
      "    \"GGGG\",\n",
      "    \"GGGGGGGG\",\n",
      "    \"TTTT\",\n",
      "    \"TTTTTTTT\",\n",
      "    ]\n",
      "\n",
      "\n",
      "random.seed(12345)\n",
      "r1fh = open('generated_data/chrc_raw_r1.fq')\n",
      "r2fh = open('generated_data/chrc_raw_r2.fq')\n",
      "outfh = open(\"generated_data/chrc_GBS_1mm_il.fq\", \"w\")\n",
      "counts = Counter()\n",
      "errcount = Counter()\n",
      "resite = \"TGCAG\"\n",
      "# use the worst-case barcodes\n",
      "barcodes = nested_barcodes\n",
      "with open(\"generated_data/gbs_barcodes.axe\", \"w\") as bcd_fh:\n",
      "    for iii, bcd  in enumerate(barcodes):\n",
      "        bcd_fh.write(\"{}\\t{}\\n\".format(bcd, iii))\n",
      "for r1, r2 in itertools.izip(fqitr(r1fh),  fqitr(r2fh)):\n",
      "    barcode = random.choice(barcodes)\n",
      "    barcode_orig = barcode\n",
      "    if random.random() < (0.06):\n",
      "        errcount[barcode] += 1\n",
      "        barcode = mutate_bcd(barcode, 1)\n",
      "    our_re = resite\n",
      "    if random.random() < (0.2): # Barcode is commonly mutated at a greater rate in our data\n",
      "        our_re = mutate_bcd(resite, 1)\n",
      "    counts[barcode_orig] += 1\n",
      "    # Add barcode as a comment to the fastq header\n",
      "    r1[0] = r1[0] + \" \" + barcode + ' ' + barcode_orig + ' ' + our_re\n",
      "    r1[1] = barcode +  our_re + r1[1]\n",
      "    r1[3] = '2' * (len(barcode) + len(our_re)) + r1[3]\n",
      "    outfh.write(\"\\n\".join(r1) + '\\n')\n",
      "    outfh.write(\"\\n\".join(r2) + '\\n')\n",
      "outfh.close()\n",
      "r1fh.close()\n",
      "r2fh.close()\n",
      "for bcd, count in counts.most_common():\n",
      "    print bcd.ljust(9) + \"\\t\" + str(count)"
     ],
     "language": "python",
     "metadata": {},
     "outputs": [
      {
       "output_type": "stream",
       "stream": "stdout",
       "text": [
        "TTTT     \t12648\n",
        "TTTTTTTT \t12623\n",
        "AAAA     \t12591\n",
        "GGGGGGGG \t12493\n",
        "AAAAAAAA \t12447\n",
        "CCCC     \t12443\n",
        "GGGG     \t12441\n",
        "CCCCCCCC \t12314\n"
       ]
      }
     ],
     "prompt_number": 22
    },
    {
     "cell_type": "code",
     "collapsed": false,
     "input": [
      "!binaries/axe \\\n",
      "    -b generated_data/gbs_barcodes.axe \\\n",
      "    -i generated_data/chrc_GBS_1mm_il.fq \\\n",
      "    -I out/axe/gbs_1mm \\\n",
      "    -t out/axe/gbs_1mm.tab"
     ],
     "language": "python",
     "metadata": {},
     "outputs": [
      {
       "output_type": "stream",
       "stream": "stdout",
       "text": [
        "[process_file] (18:34:48) Starting demultiplexing\r\n"
       ]
      },
      {
       "output_type": "stream",
       "stream": "stdout",
       "text": [
        "18:34:48: Processed 0.1M read pairs\r",
        "\r",
        "[process_file] (18:34:48) Finished demultiplexing\r\n",
        "\r\n",
        "Run Summary:\r\n",
        "Processed 100000 read pairs in 0.1 seconds (675.078k read pairs/sec)\r\n",
        "100000 read pairs contained valid barcodes\r\n",
        "0 read pairs could not be demultiplexed\r\n"
       ]
      }
     ],
     "prompt_number": 23
    },
    {
     "cell_type": "code",
     "collapsed": false,
     "input": [
      "!grep -v '^Barcode' out/axe/gbs_1mm.tab | cut -f 1,3 | sort -nrk2 |column -t"
     ],
     "language": "python",
     "metadata": {},
     "outputs": [
      {
       "output_type": "stream",
       "stream": "stdout",
       "text": [
        "TTTT      12648\r\n",
        "TTTTTTTT  12623\r\n",
        "AAAA      12591\r\n",
        "GGGGGGGG  12493\r\n",
        "AAAAAAAA  12447\r\n",
        "CCCC      12443\r\n",
        "GGGG      12441\r\n",
        "CCCCCCCC  12314\r\n",
        "N         0\r\n"
       ]
      }
     ],
     "prompt_number": 24
    },
    {
     "cell_type": "markdown",
     "metadata": {},
     "source": [
      "This looks like a perfect demultiplexing again."
     ]
    },
    {
     "cell_type": "code",
     "collapsed": false,
     "input": [
      "%%bash\n",
      "for file in out/axe/gbs_1mm_[0-9]_il.fastq;\n",
      "do\n",
      "    echo -ne \"$file\\t\"\n",
      "    # grab the barcode from the file header\n",
      "    grep '^@ChrC.*/1' $file | cut -d ' ' -f 2 | sort -u |tr '\\n' ' '\n",
      "    # the fancy counting version:\n",
      "    #echo \"$file\"\n",
      "    #grep '^@ChrC.*/1' $file | cut -d ' ' -f 2 | sort |uniq -c| sort -nrk1|sed 's/^/\\t/'\n",
      "    echo\n",
      "done"
     ],
     "language": "python",
     "metadata": {},
     "outputs": [
      {
       "output_type": "stream",
       "stream": "stdout",
       "text": [
        "out/axe/gbs_1mm_0_il.fastq\tAAAA AAAC AAAG AAAT AACA AAGA AATA ACAA AGAA ATAA CAAA GAAA TAAA \n",
        "out/axe/gbs_1mm_1_il.fastq\tAAAAAAAA AAAAAAAC AAAAAAAG AAAAAAAT AAAAAACA AAAAAAGA AAAAAATA AAAAACAA AAAAAGAA AAAAATAA AAAACAAA AAAAGAAA AAAATAAA AAACAAAA AAAGAAAA AAATAAAA AACAAAAA AAGAAAAA AATAAAAA ACAAAAAA AGAAAAAA ATAAAAAA CAAAAAAA GAAAAAAA TAAAAAAA \n",
        "out/axe/gbs_1mm_2_il.fastq\tACCC CACC CCAC CCCA CCCC CCCG CCCT CCGC CCTC CGCC CTCC GCCC TCCC \n",
        "out/axe/gbs_1mm_3_il.fastq\tACCCCCCC CACCCCCC CCACCCCC CCCACCCC CCCCACCC CCCCCACC CCCCCCAC CCCCCCCA CCCCCCCC CCCCCCCG CCCCCCCT CCCCCCGC CCCCCCTC CCCCCGCC CCCCCTCC CCCCGCCC CCCCTCCC CCCGCCCC CCCTCCCC CCGCCCCC CCTCCCCC CGCCCCCC CTCCCCCC GCCCCCCC TCCCCCCC \n",
        "out/axe/gbs_1mm_4_il.fastq\tAGGG CGGG GAGG GCGG GGAG GGCG GGGA GGGC GGGG GGGT GGTG GTGG TGGG \n",
        "out/axe/gbs_1mm_5_il.fastq\tAGGGGGGG CGGGGGGG GAGGGGGG GCGGGGGG GGAGGGGG GGCGGGGG GGGAGGGG GGGCGGGG GGGGAGGG GGGGCGGG GGGGGAGG GGGGGCGG GGGGGGAG GGGGGGCG GGGGGGGA GGGGGGGC GGGGGGGG GGGGGGGT GGGGGGTG GGGGGTGG GGGGTGGG GGGTGGGG GGTGGGGG GTGGGGGG TGGGGGGG \n",
        "out/axe/gbs_1mm_6_il.fastq\tATTT CTTT GTTT TATT TCTT TGTT TTAT TTCT TTGT TTTA TTTC TTTG TTTT \n",
        "out/axe/gbs_1mm_7_il.fastq\tATTTTTTT CTTTTTTT GTTTTTTT TATTTTTT TCTTTTTT TGTTTTTT TTATTTTT TTCTTTTT TTGTTTTT TTTATTTT TTTCTTTT TTTGTTTT TTTTATTT TTTTCTTT TTTTGTTT TTTTTATT TTTTTCTT TTTTTGTT TTTTTTAT TTTTTTCT TTTTTTGT TTTTTTTA TTTTTTTC TTTTTTTG TTTTTTTT \n"
       ]
      }
     ],
     "prompt_number": 25
    },
    {
     "cell_type": "markdown",
     "metadata": {},
     "source": [
      "Combinatoral Barcoding\n",
      "----------------------\n",
      "\n",
      "A main feature of AXE is its ability to demultiplex combinatorially barcoded reads."
     ]
    },
    {
     "cell_type": "code",
     "collapsed": false,
     "input": [
      "random.seed(12345)\n",
      "\n",
      "resite = \"TGCAG\"\n",
      "barcodes = gbs_barcodes\n",
      "barcode_pairs = list(itertools.product(barcodes, barcodes))\n",
      "\n",
      "with open(\"generated_data/comb_barcodes.axe\", \"w\") as bcd_fh:\n",
      "    for iii, (bcd1, bcd2) in enumerate(barcode_pairs):\n",
      "        bcd_fh.write(\"{}\\t{}\\t{}\\n\".format(bcd1, bcd2, iii))"
     ],
     "language": "python",
     "metadata": {},
     "outputs": [],
     "prompt_number": 26
    },
    {
     "cell_type": "code",
     "collapsed": false,
     "input": [
      "counts = Counter()\n",
      "r1fh = open('generated_data/chrc_raw_r1.fq')\n",
      "r2fh = open('generated_data/chrc_raw_r2.fq')\n",
      "outfh = open(\"generated_data/chrc_comb_1mm_il.fq\", \"w\")\n",
      "\n",
      "for r1, r2 in itertools.izip(fqitr(r1fh),  fqitr(r2fh)):\n",
      "    bcd1, bcd2 = random.choice(barcode_pairs)\n",
      "    barcode_orig = (bcd1, bcd2)\n",
      "    counts[barcode_orig] += 1\n",
      "    # Mutate the two barcodes seperately\n",
      "    if random.random() < (0.06):\n",
      "        bcd1 = mutate_bcd(bcd1, 1)\n",
      "    if random.random() < (0.06):\n",
      "        bcd2 = mutate_bcd(bcd2, 1)\n",
      "    # Mutate the RE site\n",
      "    our_re = resite\n",
      "    if random.random() < (0.2): # Barcode is commonly mutated at a greater rate in our data\n",
      "        our_re = mutate_bcd(resite, 1)\n",
      "    # Add barcode as a comment to the fastq header\n",
      "    r1[0] = r1[0] + \" \" + bcd1 + ' ' + barcode_orig[0] + ' ' + our_re\n",
      "    r1[1] = bcd1 +  our_re + r1[1]\n",
      "    r1[3] = '2' * (len(bcd1) + len(our_re)) + r1[3]\n",
      "    # R2, with bcd2\n",
      "    r2[0] = r2[0] + \" \" + bcd2 + ' ' + barcode_orig[1] + ' ' + our_re\n",
      "    r2[1] = bcd2 +  our_re + r2[1]\n",
      "    r2[3] = '2' * (len(bcd2) + len(our_re)) + r2[3]\n",
      "    outfh.write(\"\\n\".join(r1) + '\\n')\n",
      "    outfh.write(\"\\n\".join(r2) + '\\n')\n",
      "outfh.close()\n",
      "r1fh.close()\n",
      "r2fh.close()\n",
      "for bcd, count in counts.most_common():\n",
      "    print bcd[0].ljust(9) + \"\\t\" + bcd[1].ljust(9) + \"\\t\" + str(count)"
     ],
     "language": "python",
     "metadata": {},
     "outputs": [
      {
       "output_type": "stream",
       "stream": "stdout",
       "text": [
        "ATGCCT   \tATGCCT   \t1082\n",
        "CCGGATAT \tCCGGATAT \t1068\n",
        "ATGCCT   \tAGGAT    \t1063\n",
        "CGCGGAGA \tTATTTTT  \t1050\n",
        "ATGCCT   \tTAATA    \t1048\n",
        "CCTAG    \tTAATA    \t1046\n",
        "TAATA    \tTTCTG    \t1045\n",
        "CGCGGAGA \tCCGGATAT \t1042\n",
        "AGGAT    \tTATTTTT  \t1042\n",
        "GTAA     \tAGGAT    \t1041\n",
        "CTAGG    \tGTAA     \t1040\n",
        "TATTTTT  \tCGCGGAGA \t1040\n",
        "CTAGG    \tATGCCT   \t1040\n",
        "TAATA    \tGTAA     \t1040\n",
        "CTAGG    \tTAATA    \t1039\n",
        "CCTAG    \tAGGAT    \t1037\n",
        "GTAA     \tTTCTG    \t1036\n",
        "CGCGGAGA \tTTCTG    \t1036\n",
        "AGGAT    \tCTAGG    \t1035\n",
        "CCGGATAT \tAGGAT    \t1034\n",
        "TATTTTT  \tCCGGATAT \t1033\n",
        "TTCTG    \tTTCTG    \t1033\n",
        "CCGGATAT \tCGCGGAGA \t1033\n",
        "CCTAG    \tCCGGATAT \t1030\n",
        "TTCTG    \tATGCCT   \t1024\n",
        "CCTAG    \tGTAA     \t1024\n",
        "CCTAG    \tTTCTG    \t1022\n",
        "AGGAT    \tAGGAT    \t1020\n",
        "CCTAG    \tATGCCT   \t1016\n",
        "CGCGGAGA \tCTAGG    \t1015\n",
        "TTCTG    \tCGCGGAGA \t1013\n",
        "CTAGG    \tCCTAG    \t1013\n",
        "ATGCCT   \tCTAGG    \t1013\n",
        "CGCGGAGA \tATGCCT   \t1011\n",
        "TAATA    \tAGGAT    \t1011\n",
        "GTAA     \tCCTAG    \t1009\n",
        "CGCGGAGA \tTAATA    \t1008\n",
        "TATTTTT  \tAGGAT    \t1007\n",
        "CCGGATAT \tATGCCT   \t1007\n",
        "CCTAG    \tTATTTTT  \t1007\n",
        "ATGCCT   \tCCGGATAT \t1004\n",
        "CCTAG    \tCTAGG    \t1004\n",
        "CCGGATAT \tCTAGG    \t1003\n",
        "TAATA    \tTAATA    \t1003\n",
        "CGCGGAGA \tAGGAT    \t1002\n",
        "TTCTG    \tCCGGATAT \t1001\n",
        "ATGCCT   \tCGCGGAGA \t1001\n",
        "TTCTG    \tTAATA    \t998\n",
        "AGGAT    \tCGCGGAGA \t998\n",
        "CTAGG    \tCGCGGAGA \t998\n",
        "TATTTTT  \tGTAA     \t997\n",
        "TAATA    \tCCGGATAT \t997\n",
        "CTAGG    \tTATTTTT  \t996\n",
        "CTAGG    \tCCGGATAT \t995\n",
        "TTCTG    \tCTAGG    \t995\n",
        "TTCTG    \tCCTAG    \t995\n",
        "AGGAT    \tATGCCT   \t994\n",
        "GTAA     \tTAATA    \t994\n",
        "TATTTTT  \tCTAGG    \t990\n",
        "CCGGATAT \tTATTTTT  \t989\n",
        "CCGGATAT \tGTAA     \t989\n",
        "AGGAT    \tTAATA    \t988\n",
        "ATGCCT   \tGTAA     \t987\n",
        "CGCGGAGA \tCCTAG    \t987\n",
        "TATTTTT  \tTTCTG    \t986\n",
        "GTAA     \tGTAA     \t985\n",
        "CCTAG    \tCCTAG    \t984\n",
        "TAATA    \tATGCCT   \t984\n",
        "CTAGG    \tTTCTG    \t984\n",
        "TAATA    \tCCTAG    \t983\n",
        "AGGAT    \tGTAA     \t983\n",
        "CCTAG    \tCGCGGAGA \t982\n",
        "GTAA     \tATGCCT   \t981\n",
        "AGGAT    \tTTCTG    \t980\n",
        "CCGGATAT \tTAATA    \t980\n",
        "TATTTTT  \tTATTTTT  \t979\n",
        "GTAA     \tCGCGGAGA \t979\n",
        "TTCTG    \tGTAA     \t978\n",
        "ATGCCT   \tCCTAG    \t978\n",
        "TTCTG    \tAGGAT    \t974\n",
        "CGCGGAGA \tCGCGGAGA \t974\n",
        "TATTTTT  \tCCTAG    \t973\n",
        "CTAGG    \tAGGAT    \t973\n",
        "TATTTTT  \tTAATA    \t973\n",
        "GTAA     \tCTAGG    \t970\n",
        "CGCGGAGA \tGTAA     \t970\n",
        "AGGAT    \tCCTAG    \t966\n",
        "TTCTG    \tTATTTTT  \t964\n",
        "AGGAT    \tCCGGATAT \t963\n",
        "ATGCCT   \tTATTTTT  \t963\n",
        "TAATA    \tTATTTTT  \t957\n",
        "CCGGATAT \tTTCTG    \t957\n",
        "TAATA    \tCTAGG    \t956\n",
        "GTAA     \tCCGGATAT \t951\n",
        "GTAA     \tTATTTTT  \t949\n",
        "TATTTTT  \tATGCCT   \t948\n",
        "CTAGG    \tCTAGG    \t941\n",
        "CCGGATAT \tCCTAG    \t941\n",
        "ATGCCT   \tTTCTG    \t938\n",
        "TAATA    \tCGCGGAGA \t915\n"
       ]
      }
     ],
     "prompt_number": 27
    },
    {
     "cell_type": "code",
     "collapsed": false,
     "input": [
      "!binaries/axe \\\n",
      "    -c \\\n",
      "    -b generated_data/comb_barcodes.axe \\\n",
      "    -i generated_data/chrc_comb_1mm_il.fq\\\n",
      "    -I out/axe/comb_1mm \\\n",
      "    -t out/axe/comb_1mm.tab"
     ],
     "language": "python",
     "metadata": {},
     "outputs": [
      {
       "output_type": "stream",
       "stream": "stdout",
       "text": [
        "[process_file] (18:34:53) Starting demultiplexing\r\n"
       ]
      },
      {
       "output_type": "stream",
       "stream": "stdout",
       "text": [
        "18:34:53: Processed 0.1M read pairs\r",
        "\r",
        "[process_file] (18:34:53) Finished demultiplexing\r\n",
        "\r\n",
        "Run Summary:\r\n",
        "Processed 100000 read pairs in 0.2 seconds (527.482k read pairs/sec)\r\n",
        "100000 read pairs contained valid barcodes\r\n",
        "0 read pairs could not be demultiplexed\r\n"
       ]
      }
     ],
     "prompt_number": 28
    },
    {
     "cell_type": "code",
     "collapsed": false,
     "input": [
      "!grep -v 'R1Barcode' out/axe/comb_1mm.tab | cut -f 1,2,4 | sort -nrk3 |column -t"
     ],
     "language": "python",
     "metadata": {},
     "outputs": [
      {
       "output_type": "stream",
       "stream": "stdout",
       "text": [
        "ATGCCT    ATGCCT    1082\r\n",
        "CCGGATAT  CCGGATAT  1068\r\n",
        "ATGCCT    AGGAT     1063\r\n",
        "CGCGGAGA  TATTTTT   1050\r\n",
        "ATGCCT    TAATA     1048\r\n",
        "CCTAG     TAATA     1046\r\n",
        "TAATA     TTCTG     1045\r\n",
        "CGCGGAGA  CCGGATAT  1042\r\n",
        "AGGAT     TATTTTT   1042\r\n",
        "GTAA      AGGAT     1041\r\n",
        "TATTTTT   CGCGGAGA  1040\r\n",
        "TAATA     GTAA      1040\r\n",
        "CTAGG     GTAA      1040\r\n",
        "CTAGG     ATGCCT    1040\r\n",
        "CTAGG     TAATA     1039\r\n",
        "CCTAG     AGGAT     1037\r\n",
        "GTAA      TTCTG     1036\r\n",
        "CGCGGAGA  TTCTG     1036\r\n",
        "AGGAT     CTAGG     1036\r\n",
        "TATTTTT   CCGGATAT  1034\r\n",
        "CCGGATAT  AGGAT     1034\r\n",
        "TTCTG     TTCTG     1033\r\n",
        "CCGGATAT  CGCGGAGA  1033\r\n",
        "CCTAG     CCGGATAT  1030\r\n",
        "TTCTG     ATGCCT    1024\r\n",
        "CCTAG     GTAA      1024\r\n",
        "CCTAG     TTCTG     1022\r\n",
        "AGGAT     AGGAT     1020\r\n",
        "CCTAG     ATGCCT    1016\r\n",
        "CGCGGAGA  CTAGG     1015\r\n",
        "TTCTG     CGCGGAGA  1013\r\n",
        "CTAGG     CCTAG     1013\r\n",
        "ATGCCT    CTAGG     1013\r\n",
        "TAATA     AGGAT     1011\r\n",
        "CGCGGAGA  ATGCCT    1011\r\n",
        "GTAA      CCTAG     1009\r\n",
        "CGCGGAGA  TAATA     1008\r\n",
        "TATTTTT   AGGAT     1007\r\n",
        "CCTAG     TATTTTT   1007\r\n",
        "CCGGATAT  ATGCCT    1007\r\n",
        "CCTAG     CTAGG     1004\r\n",
        "ATGCCT    CCGGATAT  1004\r\n",
        "TAATA     TAATA     1003\r\n",
        "CCGGATAT  CTAGG     1003\r\n",
        "CGCGGAGA  AGGAT     1002\r\n",
        "TTCTG     CCGGATAT  1001\r\n",
        "ATGCCT    CGCGGAGA  1001\r\n",
        "TTCTG     TAATA     998\r\n",
        "CTAGG     CGCGGAGA  998\r\n",
        "AGGAT     CGCGGAGA  998\r\n",
        "TATTTTT   GTAA      997\r\n",
        "TAATA     CCGGATAT  996\r\n",
        "CTAGG     TATTTTT   996\r\n",
        "TTCTG     CTAGG     995\r\n",
        "TTCTG     CCTAG     995\r\n",
        "CTAGG     CCGGATAT  995\r\n",
        "GTAA      TAATA     994\r\n",
        "AGGAT     ATGCCT    994\r\n",
        "TATTTTT   CTAGG     990\r\n",
        "CCGGATAT  TATTTTT   989\r\n",
        "CCGGATAT  GTAA      989\r\n",
        "AGGAT     TAATA     988\r\n",
        "CGCGGAGA  CCTAG     987\r\n",
        "ATGCCT    GTAA      987\r\n",
        "TATTTTT   TTCTG     986\r\n",
        "GTAA      GTAA      985\r\n",
        "TAATA     ATGCCT    984\r\n",
        "CTAGG     TTCTG     984\r\n",
        "CCTAG     CCTAG     984\r\n",
        "TAATA     CCTAG     983\r\n",
        "CCTAG     CGCGGAGA  982\r\n",
        "AGGAT     GTAA      982\r\n",
        "GTAA      ATGCCT    981\r\n",
        "CCGGATAT  TAATA     980\r\n",
        "AGGAT     TTCTG     980\r\n",
        "TATTTTT   TATTTTT   979\r\n",
        "GTAA      CGCGGAGA  979\r\n",
        "TTCTG     GTAA      978\r\n",
        "ATGCCT    CCTAG     978\r\n",
        "TTCTG     AGGAT     974\r\n",
        "CGCGGAGA  CGCGGAGA  974\r\n",
        "TATTTTT   TAATA     973\r\n",
        "TATTTTT   CCTAG     973\r\n",
        "CTAGG     AGGAT     973\r\n",
        "GTAA      CTAGG     970\r\n",
        "CGCGGAGA  GTAA      970\r\n",
        "AGGAT     CCTAG     966\r\n",
        "TTCTG     TATTTTT   964\r\n",
        "ATGCCT    TATTTTT   963\r\n",
        "AGGAT     CCGGATAT  963\r\n",
        "TAATA     TATTTTT   957\r\n",
        "CCGGATAT  TTCTG     957\r\n",
        "TAATA     CTAGG     956\r\n",
        "GTAA      CCGGATAT  951\r\n",
        "GTAA      TATTTTT   949\r\n",
        "TATTTTT   ATGCCT    948\r\n",
        "CTAGG     CTAGG     941\r\n",
        "CCGGATAT  CCTAG     941\r\n",
        "ATGCCT    TTCTG     938\r\n",
        "TAATA     CGCGGAGA  915\r\n",
        "N         N         0\r\n"
       ]
      }
     ],
     "prompt_number": 29
    },
    {
     "cell_type": "markdown",
     "metadata": {},
     "source": [
      "Downright torture\n",
      "-----------------\n",
      "\n",
      "Here, I do all I can to break axe.\n",
      "\n",
      "- Leave some reads unbarcoded\n",
      "- mutate to 2-3 errors"
     ]
    },
    {
     "cell_type": "code",
     "collapsed": false,
     "input": [
      "random.seed(12345)\n",
      "r1fh = open('generated_data/chrc_raw_r1.fq')\n",
      "r2fh = open('generated_data/chrc_raw_r2.fq')\n",
      "outfh = open(\"generated_data/chrc_torture_1mm_il.fq\", \"w\")\n",
      "counts = Counter()\n",
      "errcount = Counter()\n",
      "resite = \"TGCAG\"\n",
      "# use the worst-case barcodes\n",
      "barcodes = nested_barcodes\n",
      "with open(\"generated_data/gbs_barcodes.axe\", \"w\") as bcd_fh:\n",
      "    for iii, bcd  in enumerate(barcodes):\n",
      "        bcd_fh.write(\"{}\\t{}\\n\".format(bcd, iii))\n",
      "bad = 0\n",
      "for r1, r2 in itertools.izip(fqitr(r1fh),  fqitr(r2fh)):\n",
      "    barcode = random.choice(barcodes)\n",
      "    barcode_orig = barcode\n",
      "    \n",
      "    if random.random() < (0.003): # triple error\n",
      "        counts[\"None\"] += 1\n",
      "        bad += 1\n",
      "        barcode_orig = \"N\"\n",
      "        barcode = mutate_bcd(barcode, 3)\n",
      "    elif random.random() < (0.01): # double error\n",
      "        bad += 1\n",
      "        counts[\"None\"] += 1\n",
      "        barcode_orig = \"N\"\n",
      "        barcode = mutate_bcd(barcode, 2)\n",
      "    elif random.random() < (0.07): # single error\n",
      "        # we should recover a single err\n",
      "        #errcount[barcode_orig] += 1\n",
      "        barcode = mutate_bcd(barcode, 1)\n",
      "    elif random.random() < (0.01): # no barcode\n",
      "        bad += 1\n",
      "        counts[\"None\"] += 1\n",
      "        barcode = \"N\"\n",
      "        barcode_orig = \"N\"\n",
      "    else:\n",
      "        counts[barcode_orig] += 1\n",
      "    our_re = resite\n",
      "    if random.random() < (0.2): # RE site is commonly mutated at a greater rate in our data\n",
      "        our_re = mutate_bcd(resite, 1)\n",
      "    # Add barcode as a comment to the fastq header\n",
      "    r1[0] = r1[0] + \" \" + barcode + ' ' + barcode_orig + ' ' + our_re\n",
      "    r1[1] = barcode +  our_re + r1[1]\n",
      "    r1[3] = '2' * (len(barcode) + len(our_re)) + r1[3]\n",
      "    outfh.write(\"\\n\".join(r1) + '\\n')\n",
      "    outfh.write(\"\\n\".join(r2) + '\\n')\n",
      "outfh.close()\n",
      "r1fh.close()\n",
      "r2fh.close()\n",
      "print \"bad:\", bad\n",
      "for bcd, count in counts.most_common():\n",
      "    print bcd.ljust(8), str(count)"
     ],
     "language": "python",
     "metadata": {},
     "outputs": [
      {
       "output_type": "stream",
       "stream": "stdout",
       "text": [
        "bad: 2261\n",
        "AAAAAAAA 11545\n",
        "CCCCCCCC 11488\n",
        "TTTTTTTT 11377\n",
        "TTTT     11319\n",
        "AAAA     11307\n",
        "GGGG     11301\n",
        "GGGGGGGG 11251\n",
        "CCCC     11178\n",
        "None     2261\n"
       ]
      }
     ],
     "prompt_number": 127
    },
    {
     "cell_type": "code",
     "collapsed": false,
     "input": [
      "!binaries/axe \\\n",
      "    -b generated_data/gbs_barcodes.axe \\\n",
      "    -i generated_data/chrc_torture_1mm_il.fq\\\n",
      "    -I out/axe/torture_1mm \\\n",
      "    -t out/axe/torture_1mm.tab"
     ],
     "language": "python",
     "metadata": {},
     "outputs": [
      {
       "output_type": "stream",
       "stream": "stdout",
       "text": [
        "[process_file] (19:14:51) Starting demultiplexing\r\n"
       ]
      },
      {
       "output_type": "stream",
       "stream": "stdout",
       "text": [
        "19:14:51: Processed 0.1M read pairs\r",
        "\r",
        "[process_file] (19:14:51) Finished demultiplexing\r\n",
        "\r\n",
        "Run Summary:\r\n",
        "Processed 100000 read pairs in 0.1 seconds (696.879k read pairs/sec)\r\n",
        "98242 read pairs contained valid barcodes\r\n",
        "1758 read pairs could not be demultiplexed\r\n"
       ]
      }
     ],
     "prompt_number": 128
    },
    {
     "cell_type": "code",
     "collapsed": true,
     "input": [
      "!grep -v '^Barcode' out/axe/torture_1mm.tab | sed 's/No Barcode/None/'|cut -d \\t -f 1,2,4 | sort -nrk3 |column -t"
     ],
     "language": "python",
     "metadata": {},
     "outputs": [
      {
       "output_type": "stream",
       "stream": "stdout",
       "text": [
        "AAAAAAAA  1     12411\r\n",
        "CCCCCCCC  3     12340\r\n",
        "TTTT      6     12306\r\n",
        "AAAA      0     12305\r\n",
        "TTTTTTTT  7     12279\r\n",
        "GGGG      4     12269\r\n",
        "CCCC      2     12196\r\n",
        "GGGGGGGG  5     12136\r\n",
        "N         None  1758\r\n"
       ]
      }
     ],
     "prompt_number": 129
    },
    {
     "cell_type": "markdown",
     "metadata": {},
     "source": [
      "So, some stats. First, sensitivity or True pos rate."
     ]
    },
    {
     "cell_type": "code",
     "collapsed": false,
     "input": [
      "tpr_res = {}\n",
      "for f in [1,2,3,4,5,6,7]:\n",
      "    tpr_res[barcodes[f]] = Counter()\n",
      "    fle = 'out/axe/torture_1mm_' + str(f) + '_il.fastq'\n",
      "    fh = open(fle)\n",
      "    for linenum, line in enumerate(fh):\n",
      "        if linenum % 8 != 0:\n",
      "            continue\n",
      "        ID, bcd, truebcd, re = line.strip().split(' ')\n",
      "        if truebcd == barcodes[f]:\n",
      "            tpr_res[barcodes[f]][True] += 1\n",
      "        else:\n",
      "            tpr_res[barcodes[f]][truebcd] += 1\n",
      "            \n",
      "truths = 0\n",
      "falses = 0\n",
      "for bcd, ctr in tpr_res.items():\n",
      "    for r, c in ctr.most_common():\n",
      "        if r is True:\n",
      "            truths += c\n",
      "        else:\n",
      "            falses += c\n",
      "            # uncomment to show what gets falsely assigned\n",
      "            #print bcd.ljust(8), r, c\n",
      "TPR = float(truths)/float(truths + falses)"
     ],
     "language": "python",
     "metadata": {},
     "outputs": [],
     "prompt_number": 130
    },
    {
     "cell_type": "code",
     "collapsed": false,
     "input": [
      "tnr_res = Counter()\n",
      "fh = open(\"out/axe/torture_1mm_unknown_il.fastq\")\n",
      "for linenum, line in enumerate(fh):\n",
      "    if linenum % 8 != 0:\n",
      "        continue\n",
      "    ID, bcd, truebcd, re = line.strip().split(' ')\n",
      "    if truebcd == \"N\":\n",
      "        tnr_res[True] += 1\n",
      "    else:\n",
      "        tnr_res[truebcd] += 1\n",
      "\n",
      "truths = 0\n",
      "falses = 0\n",
      "print(tnr_res)\n",
      "for r, c in tnr_res.most_common():\n",
      "    if r is True:\n",
      "        truths += c\n",
      "    else:\n",
      "        falses += c\n",
      "        print r.ljust(8), c\n",
      "TNR = float(truths)/float(truths + falses)"
     ],
     "language": "python",
     "metadata": {},
     "outputs": [
      {
       "output_type": "stream",
       "stream": "stdout",
       "text": [
        "Counter({True: 1758})\n"
       ]
      }
     ],
     "prompt_number": 131
    },
    {
     "cell_type": "code",
     "collapsed": false,
     "input": [
      "print \"sensitiviy:\", TPR\n",
      "print \"specificity:\", TNR"
     ],
     "language": "python",
     "metadata": {},
     "outputs": [
      {
       "output_type": "stream",
       "stream": "stdout",
       "text": [
        "sensitiviy: 0.995775975424\n",
        "specificity: 1.0\n"
       ]
      }
     ],
     "prompt_number": 132
    },
    {
     "cell_type": "markdown",
     "metadata": {},
     "source": [
      "Cross-comparison with Sabre\n",
      "---------------------------\n",
      "\n",
      "\n",
      "Sabre doesn't support different lengthed barcodes, so we have to do the dodgy and just \"fill in\" the smaller ones with restriction site:"
     ]
    },
    {
     "cell_type": "code",
     "collapsed": false,
     "input": [
      "barcodes = nested_barcodes\n",
      "maxlen = max(map(len, barcodes))\n",
      "\n",
      "with open(\"generated_data/fixed_len_barcodes.sabre\", \"w\") as bcd_fh:\n",
      "    for iii, bcd  in enumerate(barcodes):\n",
      "        if len(bcd) < maxlen:\n",
      "            re_len_needed = maxlen - len(bcd)\n",
      "            bcd =  bcd + resite[0:re_len_needed]\n",
      "        bcd_fh.write(\"{}\\tout/sabre/gbs_1mm_{}_R1.fq\\tout/sabre/gbs_1mm_{}_R2.fq\\n\".format(bcd, iii, iii))\n",
      "\n",
      "with open(\"generated_data/nested.axe\", \"w\") as bcd_fh:\n",
      "    for iii, bcd  in enumerate(barcodes):\n",
      "        bcd_fh.write(\"{}\\t{}\\n\".format(bcd, iii))\n",
      "\n",
      "with open(\"generated_data/fixed_len_barcodes.axe\", \"w\") as bcd_fh:\n",
      "    for iii, bcd  in enumerate(barcodes):\n",
      "        if len(bcd) < maxlen:\n",
      "            re_len_needed = maxlen - len(bcd)\n",
      "            bcd =  bcd + resite[0:re_len_needed]\n",
      "        bcd_fh.write(\"{}\\t{}\\n\".format(bcd, iii))"
     ],
     "language": "python",
     "metadata": {},
     "outputs": [],
     "prompt_number": 59
    },
    {
     "cell_type": "code",
     "collapsed": false,
     "input": [
      "random.seed(12345)\n",
      "r1fh = open('generated_data/chrc_raw_r1.fq')\n",
      "r2fh = open('generated_data/chrc_raw_r2.fq')\n",
      "outfh = open(\"generated_data/chrc_xcomp_1mm_il.fq\", \"w\")\n",
      "counts = Counter()\n",
      "errcount = Counter()\n",
      "\n",
      "for r1, r2 in itertools.izip(fqitr(r1fh),  fqitr(r2fh)):\n",
      "    barcode = random.choice(barcodes)\n",
      "    barcode_orig = barcode\n",
      "    if random.random() < (0.06):\n",
      "        errcount[barcode] += 1\n",
      "        barcode = mutate_bcd(barcode, 1)\n",
      "    our_re = resite\n",
      "    if random.random() < (0.2): # Barcode is commonly mutated at a greater rate in our data\n",
      "        our_re = mutate_bcd(resite, 1)\n",
      "    counts[barcode_orig] += 1\n",
      "    # Add barcode as a comment to the fastq header\n",
      "    r1[0] = r1[0] + \" \" + barcode + ' ' + barcode_orig + ' ' + our_re\n",
      "    r1[1] = barcode +  our_re + r1[1]\n",
      "    r1[3] = '2' * (len(barcode) + len(our_re)) + r1[3]\n",
      "    outfh.write(\"\\n\".join(r1) + '\\n')\n",
      "    outfh.write(\"\\n\".join(r2) + '\\n')\n",
      "outfh.close()\n",
      "r1fh.close()\n",
      "r2fh.close()\n",
      "for bcd, count in counts.most_common():\n",
      "    print bcd.ljust(9) + \"\\t\" + str(count)"
     ],
     "language": "python",
     "metadata": {},
     "outputs": [
      {
       "output_type": "stream",
       "stream": "stdout",
       "text": [
        "TTTTTTTT \t125504\n",
        "AAAAAAAA \t125186\n",
        "TTTT     \t125008\n",
        "AAAA     \t124927\n",
        "CCCCCCCC \t124904\n",
        "CCCC     \t124898\n",
        "GGGG     \t124808\n",
        "GGGGGGGG \t124765\n"
       ]
      }
     ],
     "prompt_number": 60
    },
    {
     "cell_type": "markdown",
     "metadata": {},
     "source": [
      "we'll run sabre with the simulated gbs data with 1 mismatch as we did for axe above, but first we have to split the read file\n"
     ]
    },
    {
     "cell_type": "code",
     "collapsed": false,
     "input": [
      "!pairs split \\\n",
      "    -1 generated_data/chrc_GBS_1mm_R1.fq \\\n",
      "    -2 generated_data/chrc_GBS_1mm_R2.fq \\\n",
      "    -u /dev/null \\\n",
      "    generated_data/chrc_GBS_1mm_il.fq"
     ],
     "language": "python",
     "metadata": {},
     "outputs": [
      {
       "output_type": "stream",
       "stream": "stdout",
       "text": [
        "totals: 1000000 1000000\r\n",
        "removed: 0 0\r\n"
       ]
      }
     ],
     "prompt_number": 61
    },
    {
     "cell_type": "code",
     "collapsed": false,
     "input": [
      "%%bash \n",
      "time binaries/sabre pe \\\n",
      "    -b generated_data/fixed_len_barcodes.sabre \\\n",
      "    -f generated_data/chrc_GBS_1mm_R1.fq \\\n",
      "    -r generated_data/chrc_GBS_1mm_R2.fq \\\n",
      "    -u out/sabre/fgbs_1mm_unknown_R1.fq \\\n",
      "    -w out/sabre/fgbs_1mm_unknown_R2.fq \\\n",
      "    -m 1"
     ],
     "language": "python",
     "metadata": {},
     "outputs": [
      {
       "output_type": "stream",
       "stream": "stdout",
       "text": [
        "\n",
        "Total FastQ records: 2000000 (1000000 pairs)\n",
        "\n",
        "FastQ records for barcode TTTTTTTT: 251008 (125504 pairs)\n",
        "FastQ records for barcode TTTTTGCA: 247690 (123845 pairs)\n",
        "FastQ records for barcode GGGGGGGG: 249530 (124765 pairs)\n",
        "FastQ records for barcode GGGGTGCA: 247170 (123585 pairs)\n",
        "FastQ records for barcode CCCCCCCC: 249808 (124904 pairs)\n",
        "FastQ records for barcode CCCCTGCA: 247444 (123722 pairs)\n",
        "FastQ records for barcode AAAAAAAA: 250372 (125186 pairs)\n",
        "FastQ records for barcode AAAATGCA: 247554 (123777 pairs)\n",
        "\n",
        "FastQ records with no barcode match: 9424 (4712 pairs)\n",
        "\n",
        "Number of mismatches allowed: 1\n",
        "\n"
       ]
      },
      {
       "output_type": "stream",
       "stream": "stderr",
       "text": [
        "\n",
        "real\t0m3.714s\n",
        "user\t0m3.196s\n",
        "sys\t0m0.508s\n"
       ]
      }
     ],
     "prompt_number": 62
    },
    {
     "cell_type": "code",
     "collapsed": false,
     "input": [
      "%%bash\n",
      "time binaries/axe \\\n",
      "    -b generated_data/nested.axe \\\n",
      "    -f generated_data/chrc_GBS_1mm_R1.fq \\\n",
      "    -r generated_data/chrc_GBS_1mm_R2.fq \\\n",
      "    -F out/axe/fgbs_1mm \\\n",
      "    -R out/axe/fgbs_1mm \\\n",
      "    -t /dev/stdout \\\n",
      "    -m 1 -p"
     ],
     "language": "python",
     "metadata": {},
     "outputs": [
      {
       "output_type": "stream",
       "stream": "stdout",
       "text": [
        "Barcode\tSample\tCount\n",
        "AAAA\t0\t124927\n",
        "AAAAAAAA\t1\t125186\n",
        "CCCC\t2\t124898\n",
        "CCCCCCCC\t3\t124904\n",
        "GGGG\t4\t124808\n",
        "GGGGGGGG\t5\t124765\n",
        "TTTT\t6\t125008\n",
        "TTTTTTTT\t7\t125504\n",
        "N\tNo Barcode\t0\n"
       ]
      },
      {
       "output_type": "stream",
       "stream": "stderr",
       "text": [
        "[process_file] (13:32:10) Starting demultiplexing\n",
        "13:32:10: Processed 0.1M read pairs\r",
        "13:32:10: Processed 0.2M read pairs\r",
        "13:32:10: Processed 0.3M read pairs\r",
        "13:32:10: Processed 0.4M read pairs\r",
        "13:32:10: Processed 0.5M read pairs\r",
        "13:32:11: Processed 0.6M read pairs\r",
        "13:32:11: Processed 0.7M read pairs\r",
        "13:32:11: Processed 0.8M read pairs\r",
        "13:32:11: Processed 0.9M read pairs\r",
        "13:32:17: Processed 1.0M read pairs\r",
        "\r",
        "[process_file] (13:32:17) Finished demultiplexing\n",
        "\n",
        "Run Summary:\n",
        "Processed 1000000 read pairs in 1.4 seconds (711.192k read pairs/sec)\n",
        "1000000 read pairs contained valid barcodes\n",
        "0 read pairs could not be demultiplexed\n",
        "\n",
        "real\t0m7.952s\n",
        "user\t0m1.128s\n",
        "sys\t0m0.408s\n"
       ]
      }
     ],
     "prompt_number": 63
    },
    {
     "cell_type": "code",
     "collapsed": false,
     "input": [
      "%%bash\n",
      "time binaries/axe \\\n",
      "    -b generated_data/fixed_len_barcodes.axe \\\n",
      "    -f generated_data/chrc_GBS_1mm_R1.fq \\\n",
      "    -r generated_data/chrc_GBS_1mm_R2.fq \\\n",
      "    -F out/axe/fgbs_1mm \\\n",
      "    -R out/axe/fgbs_1mm \\\n",
      "    -t /dev/stdout"
     ],
     "language": "python",
     "metadata": {},
     "outputs": [
      {
       "output_type": "stream",
       "stream": "stdout",
       "text": [
        "Barcode\tSample\tCount\n",
        "AAAATGCA\t0\t123777\n",
        "AAAAAAAA\t1\t125186\n",
        "CCCCTGCA\t2\t123722\n",
        "CCCCCCCC\t3\t124904\n",
        "GGGGTGCA\t4\t123585\n",
        "GGGGGGGG\t5\t124765\n",
        "TTTTTGCA\t6\t123845\n",
        "TTTTTTTT\t7\t125504\n",
        "N\tNo Barcode\t4712\n"
       ]
      },
      {
       "output_type": "stream",
       "stream": "stderr",
       "text": [
        "[process_file] (13:33:31) Starting demultiplexing\n",
        "13:33:31: Processed 0.1M read pairs\r",
        "13:33:31: Processed 0.2M read pairs\r",
        "13:33:32: Processed 0.3M read pairs\r",
        "13:33:32: Processed 0.4M read pairs\r",
        "13:33:32: Processed 0.5M read pairs\r",
        "13:33:32: Processed 0.6M read pairs\r",
        "13:33:32: Processed 0.7M read pairs\r",
        "13:33:32: Processed 0.8M read pairs\r",
        "13:33:32: Processed 0.9M read pairs\r",
        "13:33:32: Processed 1.0M read pairs\r",
        "\r",
        "[process_file] (13:33:32) Finished demultiplexing\n",
        "\n",
        "Run Summary:\n",
        "Processed 1000000 read pairs in 1.3 seconds (748.217k read pairs/sec)\n",
        "995288 read pairs contained valid barcodes\n",
        "4712 read pairs could not be demultiplexed\n",
        "\n",
        "real\t0m3.143s\n",
        "user\t0m1.012s\n",
        "sys\t0m0.448s\n"
       ]
      }
     ],
     "prompt_number": 66
    },
    {
     "cell_type": "markdown",
     "metadata": {},
     "source": [
      "Clean Up\n",
      "--------\n",
      "\n",
      "We  best clean up things now. Don't run this if you want to keep the files around"
     ]
    },
    {
     "cell_type": "code",
     "collapsed": false,
     "input": [
      "!test -d generated_data/ && rm -r generated_data/\n",
      "!test -d out/ && rm -r out/"
     ],
     "language": "python",
     "metadata": {},
     "outputs": [],
     "prompt_number": 76
    },
    {
     "cell_type": "code",
     "collapsed": false,
     "input": [],
     "language": "python",
     "metadata": {},
     "outputs": []
    }
   ],
   "metadata": {}
  }
 ]
}