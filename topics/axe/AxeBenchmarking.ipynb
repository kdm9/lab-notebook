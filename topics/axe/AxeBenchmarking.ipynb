{
 "metadata": {
  "name": "",
  "signature": "sha256:5c25b24ce9dfc62e38ad66528948a3ee36885d1686a5474f45a34c44d4441c5c"
 },
 "nbformat": 3,
 "nbformat_minor": 0,
 "worksheets": [
  {
   "cells": [
    {
     "cell_type": "markdown",
     "metadata": {},
     "source": [
      "Benchmarking Axe\n",
      "================\n",
      "\n",
      "This notebook is about benchmarking axe, both in terms of speed and accuracy. It's a work in progress, as I have time. I intend to benchmark axe against several comparable tools:\n",
      "\n",
      " - [sabre](https://github.com/najoshi/sabre) \n",
      " - [flexbar](http://sourceforge.net/projects/flexbar/)"
     ]
    },
    {
     "cell_type": "markdown",
     "metadata": {},
     "source": [
      "Setup\n",
      "-----\n",
      "\n",
      "Lets get started. For reproduceability's sake, lets get versions etc of all tools.\n",
      "\n",
      "These are:\n",
      "\n",
      "- axe, built from git version `x` with libqes version `x`. \n",
      "- sabre, build from git revision `039a55e`, on github [here](https://github.com/najoshi/sabre/tree/039a55e500ba07b7e6432ea6ec2ddcfb3471d949)\n",
      "- pairs, from Vince Buffalo's `seqqs` tool, built from git revision `3d05375`, on github [here](https://github.com/vsbuffalo/seqqs/tree/3d05375004c26c29b15e390c7cd904da8dc3d78c)\n",
      "- "
     ]
    },
    {
     "cell_type": "code",
     "collapsed": false,
     "input": [
      "!md5sum binaries/*"
     ],
     "language": "python",
     "metadata": {},
     "outputs": [
      {
       "output_type": "stream",
       "stream": "stdout",
       "text": [
        "90fe941f4966612923fafe99136ae5c9  binaries/axe\r\n",
        "f73f4e910ac470551091779250bcc395  binaries/pairs\r\n",
        "c010b6c75bfc216576b3b7dbd55d6cce  binaries/sabre\r\n",
        "c84171334b193676d650cabeae3e720f  binaries/wgsim\r\n"
       ]
      }
     ],
     "prompt_number": 1
    },
    {
     "cell_type": "code",
     "collapsed": false,
     "input": [
      "!binaries/axe -V"
     ],
     "language": "python",
     "metadata": {},
     "outputs": [
      {
       "output_type": "stream",
       "stream": "stdout",
       "text": [
        "axe Version 0.1.1+git.8d8db56\r\n"
       ]
      }
     ],
     "prompt_number": 2
    },
    {
     "cell_type": "code",
     "collapsed": false,
     "input": [
      "!binaries/wgsim"
     ],
     "language": "python",
     "metadata": {},
     "outputs": [
      {
       "output_type": "stream",
       "stream": "stdout",
       "text": [
        "\r\n",
        "Program: wgsim (short read simulator)\r\n",
        "Version: 0.3.1-r13\r\n",
        "Contact: Heng Li <lh3@sanger.ac.uk>\r\n",
        "\r\n",
        "Usage:   wgsim [options] <in.ref.fa> <out.read1.fq> <out.read2.fq>\r\n",
        "\r\n",
        "Options: -e FLOAT      base error rate [0.020]\r\n",
        "         -d INT        outer distance between the two ends [500]\r\n",
        "         -s INT        standard deviation [50]\r\n",
        "         -N INT        number of read pairs [1000000]\r\n",
        "         -1 INT        length of the first read [70]\r\n",
        "         -2 INT        length of the second read [70]\r\n",
        "         -r FLOAT      rate of mutations [0.0010]\r\n",
        "         -R FLOAT      fraction of indels [0.15]\r\n",
        "         -X FLOAT      probability an indel is extended [0.30]\r\n",
        "         -S INT        seed for random generator [-1]\r\n",
        "         -A FLOAT      disgard if the fraction of ambiguous bases higher than FLOAT [0.05]\r\n",
        "         -h            haplotype mode\r\n",
        "\r\n"
       ]
      }
     ],
     "prompt_number": 3
    },
    {
     "cell_type": "markdown",
     "metadata": {},
     "source": [
      "We should clean up all previous runs. This means removing things from `./generated_data`, and `./out` then `mkdir`ing them again\n"
     ]
    },
    {
     "cell_type": "code",
     "collapsed": false,
     "input": [
      "%%bash\n",
      "rm -r generated_data/ out/\n",
      "mkdir generated_data/\n",
      "mkdir out/\n",
      "mkdir out/axe\n",
      "mkdir out/sabre\n",
      "mkdir out/flexbar"
     ],
     "language": "python",
     "metadata": {},
     "outputs": [],
     "prompt_number": 4
    },
    {
     "cell_type": "markdown",
     "metadata": {},
     "source": [
      "Fake reads\n",
      "----------\n",
      "\n",
      "OK, now we need to make some fake reads. Let's generate reads from the *Arabadopsis thaliana* TAIR10 chloroplast genome (ChrC). This is just so I can distribute a reproducible tarball. We'll generate 10M read pairs of 101bp each, simulating a typical HiSeq 2000+ run. We explicity don't simulate mutation, and simulate a base error rate of 2% (the default)."
     ]
    },
    {
     "cell_type": "code",
     "collapsed": false,
     "input": [
      "!md5sum data/ChrC.fa"
     ],
     "language": "python",
     "metadata": {},
     "outputs": [
      {
       "output_type": "stream",
       "stream": "stdout",
       "text": [
        "e98292ce15367c2ae30ad1b6df1d47f1  data/ChrC.fa\r\n"
       ]
      }
     ],
     "prompt_number": 5
    },
    {
     "cell_type": "code",
     "collapsed": false,
     "input": [
      "!binaries/wgsim -S 16384 -1 101 -2 101 -N 100000 -h -r 0.0 \\\n",
      " data/ChrC.fa generated_data/chrc_raw_r1.fq generated_data/chrc_raw_r2.fq"
     ],
     "language": "python",
     "metadata": {},
     "outputs": [
      {
       "output_type": "stream",
       "stream": "stdout",
       "text": [
        "[wgsim] seed = 16384\r\n",
        "[wgsim_core] calculating the total length of the reference sequence...\r\n",
        "[wgsim_core] 1 sequences, total length: 154478\r\n"
       ]
      }
     ],
     "prompt_number": 6
    },
    {
     "cell_type": "code",
     "collapsed": false,
     "input": [
      "!md5sum generated_data/chrc_raw_*.fq"
     ],
     "language": "python",
     "metadata": {},
     "outputs": [
      {
       "output_type": "stream",
       "stream": "stdout",
       "text": [
        "8cf4c0cf5bd7cf69f5e2b6a3060368d9  generated_data/chrc_raw_r1.fq\r\n"
       ]
      },
      {
       "output_type": "stream",
       "stream": "stdout",
       "text": [
        "debd6a7323f03afca19edcef76353f53  generated_data/chrc_raw_r2.fq\r\n"
       ]
      }
     ],
     "prompt_number": 7
    },
    {
     "cell_type": "markdown",
     "metadata": {},
     "source": [
      "So, we have some raw reads. We now need to add barcodes. Initially, we just add them with no mismatches. We add an N after all barcodes, so that the barcodes don't seem falsely assigned if the true barcode + a bit of the read matches a longer barcode. **THIS IS WHY YOU DON'T USE NESTED BARCODES**. I only use them here to try and trip AXE up."
     ]
    },
    {
     "cell_type": "code",
     "collapsed": false,
     "input": [
      "# setup python env\n",
      "import itertools\n",
      "import random\n",
      "from collections import Counter\n",
      "\n",
      "simple_barcodes = [\n",
      "\"AAAA\",\n",
      "\"CCCC\",\n",
      "\"GGGG\",\n",
      "\"TTTT\",\n",
      "]\n",
      "\n",
      "gbs_barcodes = [\"GTAA\",\n",
      "    \"TATTTTT\",\n",
      "    \"TAATA\",\n",
      "    \"CCGGATAT\",\n",
      "    \"TTCTG\",\n",
      "    \"CTAGG\",\n",
      "    \"AGGAT\",\n",
      "    \"ATGCCT\",\n",
      "    \"CGCGGAGA\",\n",
      "    \"CCTAG\",]\n",
      "\n",
      "nested_barcodes = [\n",
      "\"AAAA\",\n",
      "\"AAAAAAAA\",\n",
      "\"CCCC\",\n",
      "\"CCCCCCCC\",\n",
      "\"GGGG\",\n",
      "\"GGGGGGGG\",\n",
      "\"TTTT\",\n",
      "\"TTTTTTTT\",\n",
      "]\n",
      "\n",
      "barcodes = gbs_barcodes\n",
      "\n",
      "\n",
      "with open(\"generated_data/barcodes.axe\", \"w\") as bcd_fh:\n",
      "    for iii, bcd  in enumerate(barcodes):\n",
      "        bcd_fh.write(\"{}\\t{}\\n\".format(bcd, iii))\n",
      "\n",
      "def fqitr(fp):\n",
      "    \"\"\"Fastq iterator. Whoop for python golf! Just gives the 4 bits of it stripped\"\"\"\n",
      "    for h, s, _, q in itertools.izip(fp, fp, fp, fp):\n",
      "        yield [h.strip(), s.strip(), '+', q.strip()]"
     ],
     "language": "python",
     "metadata": {},
     "outputs": [],
     "prompt_number": 8
    },
    {
     "cell_type": "code",
     "collapsed": true,
     "input": [
      "random.seed(12345)\n",
      "r1fh = open('generated_data/chrc_raw_r1.fq')\n",
      "r2fh = open('generated_data/chrc_raw_r2.fq')\n",
      "outfh = open(\"generated_data/chrc_singlebarcoded_0mm_il.fq\", \"w\")\n",
      "counts = Counter()\n",
      "for r1, r2 in itertools.izip(fqitr(r1fh),  fqitr(r2fh)):\n",
      "    #print r1, r2\n",
      "    barcode = random.choice(barcodes)\n",
      "    counts[barcode] += 1\n",
      "    # Add barcode as a comment to the fastq header\n",
      "    r1[0] = r1[0] + \" \" + barcode\n",
      "    r1[1] = barcode + \"N\" + r1[1]\n",
      "    r1[3] = '2' * (len(barcode) + 1) + r1[3]\n",
      "    #print r1, r2\n",
      "    outfh.write(\"\\n\".join(r1) + '\\n')\n",
      "    outfh.write(\"\\n\".join(r2) + '\\n')\n",
      "outfh.close()\n",
      "r1fh.close()\n",
      "r2fh.close()\n",
      "for bcd, count in counts.most_common():\n",
      "    print bcd + \"\\t\" + str(count)"
     ],
     "language": "python",
     "metadata": {},
     "outputs": [
      {
       "output_type": "stream",
       "stream": "stdout",
       "text": [
        "GTAA\t10155\n",
        "CGCGGAGA\t10117\n",
        "TTCTG\t10061\n",
        "TATTTTT\t10048\n",
        "TAATA\t10028\n",
        "CCTAG\t10018\n",
        "CCGGATAT\t10003\n",
        "CTAGG\t9912\n",
        "ATGCCT\t9842\n",
        "AGGAT\t9816\n"
       ]
      }
     ],
     "prompt_number": 9
    },
    {
     "cell_type": "code",
     "collapsed": false,
     "input": [
      "!md5sum generated_data/chrc_singlebarcoded_0mm_il.fq"
     ],
     "language": "python",
     "metadata": {},
     "outputs": [
      {
       "output_type": "stream",
       "stream": "stdout",
       "text": [
        "12df96321a81a249996ab674d6e75f3f  generated_data/chrc_singlebarcoded_0mm_il.fq\r\n"
       ]
      }
     ],
     "prompt_number": 10
    },
    {
     "cell_type": "markdown",
     "metadata": {},
     "source": [
      "So we now have a file, generated_data/chrc_singlebarcoded_0mm_il.fq, that contains the generated reads with a barcode spliced into the R1 read only."
     ]
    },
    {
     "cell_type": "markdown",
     "metadata": {},
     "source": [
      "Test axe in single barcode mode\n",
      "-------------------------------"
     ]
    },
    {
     "cell_type": "code",
     "collapsed": false,
     "input": [
      "!binaries/axe \\\n",
      "    -b generated_data/barcodes.axe \\\n",
      "    -i generated_data/chrc_singlebarcoded_0mm_il.fq \\\n",
      "    -I out/axe/se_0mm \\\n",
      "    -u out/axe/se_0mm_unbarcoded.ilfq \\\n",
      "    -t out/axe/se_0mm.tab"
     ],
     "language": "python",
     "metadata": {},
     "outputs": [
      {
       "output_type": "stream",
       "stream": "stdout",
       "text": [
        "[process_file] (22:38:33) Starting demultiplexing\r\n"
       ]
      },
      {
       "output_type": "stream",
       "stream": "stdout",
       "text": [
        "22:38:33: Processed 0.1M read pairs\r",
        "\r",
        "[process_file] (22:38:33) Finished demultiplexing\r\n",
        "\r\n",
        "Run Summary:\r\n",
        "Processed 100000 read pairs in 0.2 seconds (449.596k read pairs/sec)\r\n",
        "100000 read pairs contained valid barcodes\r\n",
        "0 read pairs could not be demultiplexed\r\n"
       ]
      }
     ],
     "prompt_number": 11
    },
    {
     "cell_type": "code",
     "collapsed": false,
     "input": [
      "!cat out/axe/se_0mm.tab"
     ],
     "language": "python",
     "metadata": {},
     "outputs": [
      {
       "output_type": "stream",
       "stream": "stdout",
       "text": [
        "Barcode\tSample\tCount\r\n",
        "GTAA\t0\t10155\r\n",
        "TATTTTT\t1\t10048\r\n",
        "TAATA\t2\t10028\r\n",
        "CCGGATAT\t3\t10003\r\n",
        "TTCTG\t4\t10061\r\n",
        "CTAGG\t5\t9912\r\n",
        "AGGAT\t6\t9816\r\n",
        "ATGCCT\t7\t9842\r\n",
        "CGCGGAGA\t8\t10117\r\n",
        "CCTAG\t9\t10018\r\n",
        "N\tNo Barcode\t0\r\n"
       ]
      }
     ],
     "prompt_number": 12
    },
    {
     "cell_type": "markdown",
     "metadata": {},
     "source": [
      "Looks familiar, eh! To my eye, that's a perfect match. But wait, there's more! Let's grab out the barcode from the header of the R1 reads, and check what they are!"
     ]
    },
    {
     "cell_type": "code",
     "collapsed": false,
     "input": [
      "%%bash\n",
      "for file in out/axe/se_0mm*.ilfq;\n",
      "do\n",
      "    echo -ne \"$file\\t\"\n",
      "    grep '^@ChrC.*/1' $file | cut -d ' ' -f 2 | sort -u\n",
      "done"
     ],
     "language": "python",
     "metadata": {},
     "outputs": [
      {
       "output_type": "stream",
       "stream": "stdout",
       "text": [
        "out/axe/se_0mm_0.ilfq\tGTAA\n",
        "out/axe/se_0mm_1.ilfq\tTATTTTT\n",
        "out/axe/se_0mm_2.ilfq\tTAATA\n",
        "out/axe/se_0mm_3.ilfq\tCCGGATAT\n",
        "out/axe/se_0mm_4.ilfq\tTTCTG\n",
        "out/axe/se_0mm_5.ilfq\tCTAGG\n",
        "out/axe/se_0mm_6.ilfq\tAGGAT\n",
        "out/axe/se_0mm_7.ilfq\tATGCCT\n",
        "out/axe/se_0mm_8.ilfq\tCGCGGAGA\n",
        "out/axe/se_0mm_9.ilfq\tCCTAG\n",
        "out/axe/se_0mm_unbarcoded.ilfq\t"
       ]
      }
     ],
     "prompt_number": 13
    },
    {
     "cell_type": "markdown",
     "metadata": {},
     "source": [
      "Yep, It's a match. Awesome."
     ]
    },
    {
     "cell_type": "markdown",
     "metadata": {},
     "source": [
      "And now for something much the same - mismatches\n",
      "------------------------------------------------\n",
      "\n",
      "If it were that easy, someone else would have done it...\n",
      "\n",
      "So, mismatches. Time for a lot of copy pasting. Basically, we need to mutate a percentage of the reads. If we take the base error rate to be about 1% across all bases of all reads on average (dodgy I know, but bear with me...), then we want to mutate `len(barcode) * 0.01` bases in each barcode (or 1 in every `1/(len(barcode) * 0.01)` barcodes). In my experience, this is an overestimate of the error rate, expecially at the start of reads, but just call it a bad lane :). And we have real data below anyhow..."
     ]
    },
    {
     "cell_type": "code",
     "collapsed": false,
     "input": [
      "def mutate_bcd(seq, dist):                                                             \n",
      "    idx = list(range(len(seq)))                                                 \n",
      "    random.shuffle(idx)                                                         \n",
      "    nts = list(\"AGTC\")                                                          \n",
      "    seq = list(seq)                                                             \n",
      "    for i in range(dist):                                                       \n",
      "        rep = random.choice(nts)                                                \n",
      "        while seq[idx[i]] == rep:                                               \n",
      "            rep = random.choice(nts)                                            \n",
      "        seq[idx[i]] = rep                                                       \n",
      "    return \"\".join(seq)"
     ],
     "language": "python",
     "metadata": {},
     "outputs": [],
     "prompt_number": 14
    },
    {
     "cell_type": "code",
     "collapsed": false,
     "input": [
      "random.seed(12345)\n",
      "r1fh = open('generated_data/chrc_raw_r1.fq')\n",
      "r2fh = open('generated_data/chrc_raw_r2.fq')\n",
      "outfh = open(\"generated_data/chrc_singlebarcoded_1mm_il.fq\", \"w\")\n",
      "counts = Counter()\n",
      "errcount = Counter()\n",
      "\n",
      "for r1, r2 in itertools.izip(fqitr(r1fh),  fqitr(r2fh)):\n",
      "    #print r1, r2\n",
      "    barcode = random.choice(barcodes)\n",
      "    barcode_orig = barcode\n",
      "    if random.random() < (0.06):\n",
      "        errcount[barcode] += 1\n",
      "        barcode = mutate_bcd(barcode, 1)\n",
      "    counts[barcode_orig] += 1\n",
      "    # Add barcode as a comment to the fastq header\n",
      "    r1[0] = r1[0] + \" \" + barcode + ' ' + barcode_orig\n",
      "    r1[1] = barcode +  \"N\" + r1[1]\n",
      "    r1[3] = '2' * (len(barcode) + 1) + r1[3]\n",
      "    #print r1, r2\n",
      "    outfh.write(\"\\n\".join(r1) + '\\n')\n",
      "    outfh.write(\"\\n\".join(r2) + '\\n')\n",
      "outfh.close()\n",
      "r1fh.close()\n",
      "r2fh.close()\n",
      "for bcd, count in counts.most_common():\n",
      "    print bcd.ljust(9) + \"\\t\" + str(count)"
     ],
     "language": "python",
     "metadata": {},
     "outputs": [
      {
       "output_type": "stream",
       "stream": "stdout",
       "text": [
        "TAATA    \t10156\n",
        "CGCGGAGA \t10120\n",
        "CCGGATAT \t10103\n",
        "GTAA     \t10079\n",
        "ATGCCT   \t9980\n",
        "CCTAG    \t9963\n",
        "TTCTG    \t9951\n",
        "AGGAT    \t9923\n",
        "TATTTTT  \t9909\n",
        "CTAGG    \t9816\n"
       ]
      }
     ],
     "prompt_number": 15
    },
    {
     "cell_type": "markdown",
     "metadata": {},
     "source": [
      "./binaries/axe \\"
     ]
    },
    {
     "cell_type": "code",
     "collapsed": false,
     "input": [
      "!binaries/axe \\\n",
      "    -b generated_data/barcodes.axe \\\n",
      "    -i generated_data/chrc_singlebarcoded_1mm_il.fq \\\n",
      "    -I out/axe/se_1mm \\\n",
      "    -u out/axe/se_1mm_unbarcoded.ilfq \\\n",
      "    -t out/axe/se_1mm.tab"
     ],
     "language": "python",
     "metadata": {},
     "outputs": [
      {
       "output_type": "stream",
       "stream": "stdout",
       "text": [
        "[process_file] (22:38:40) Starting demultiplexing\r\n"
       ]
      },
      {
       "output_type": "stream",
       "stream": "stdout",
       "text": [
        "22:38:40: Processed 0.1M read pairs\r",
        "\r",
        "[process_file] (22:38:40) Finished demultiplexing\r\n",
        "\r\n",
        "Run Summary:\r\n",
        "Processed 100000 read pairs in 0.2 seconds (414.527k read pairs/sec)\r\n",
        "100000 read pairs contained valid barcodes\r\n",
        "0 read pairs could not be demultiplexed\r\n"
       ]
      }
     ],
     "prompt_number": 16
    },
    {
     "cell_type": "code",
     "collapsed": false,
     "input": [
      "!grep -v '^Barcode' out/axe/se_1mm.tab | cut -f 1,3 | sort -nrk2 |column -t"
     ],
     "language": "python",
     "metadata": {},
     "outputs": [
      {
       "output_type": "stream",
       "stream": "stdout",
       "text": [
        "TAATA     10156\r\n",
        "CGCGGAGA  10120\r\n",
        "CCGGATAT  10103\r\n",
        "GTAA      10079\r\n",
        "ATGCCT    9980\r\n",
        "CCTAG     9963\r\n",
        "TTCTG     9951\r\n",
        "AGGAT     9923\r\n",
        "TATTTTT   9909\r\n",
        "CTAGG     9816\r\n",
        "N         0\r\n"
       ]
      }
     ],
     "prompt_number": 17
    },
    {
     "cell_type": "markdown",
     "metadata": {},
     "source": [
      "Even with mismatches,  and nested barcodes, that's perfect."
     ]
    },
    {
     "cell_type": "code",
     "collapsed": false,
     "input": [
      "%%bash\n",
      "for file in out/axe/se_1mm*.ilfq;\n",
      "do\n",
      "    echo -ne \"$file\\t\"\n",
      "    # grab the barcode from the file header\n",
      "    grep '^@ChrC.*/1' $file | cut -d ' ' -f 2 | sort -u |tr '\\n' ' '\n",
      "    # the fancy counting version:\n",
      "    #echo \"$file\"\n",
      "    #grep '^@ChrC.*/1' $file | cut -d ' ' -f 2 | sort |uniq -c| sort -nrk1|sed 's/^/\\t/'\n",
      "    echo\n",
      "done"
     ],
     "language": "python",
     "metadata": {},
     "outputs": [
      {
       "output_type": "stream",
       "stream": "stdout",
       "text": [
        "out/axe/se_1mm_0.ilfq\tATAA CTAA GAAA GCAA GGAA GTAA GTAC GTAG GTAT GTCA GTGA GTTA TTAA \n",
        "out/axe/se_1mm_1.ilfq\tAATTTTT CATTTTT GATTTTT TAATTTT TACTTTT TAGTTTT TATATTT TATCTTT TATGTTT TATTATT TATTCTT TATTGTT TATTTAT TATTTCT TATTTGT TATTTTA TATTTTC TATTTTG TATTTTT TCTTTTT TGTTTTT TTTTTTT \n",
        "out/axe/se_1mm_2.ilfq\tAAATA CAATA GAATA TAAAA TAACA TAAGA TAATA TAATC TAATG TAATT TACTA TAGTA TATTA TCATA TGATA TTATA \n",
        "out/axe/se_1mm_3.ilfq\tACGGATAT CAGGATAT CCAGATAT CCCGATAT CCGAATAT CCGCATAT CCGGAAAT CCGGACAT CCGGAGAT CCGGATAA CCGGATAC CCGGATAG CCGGATAT CCGGATCT CCGGATGT CCGGATTT CCGGCTAT CCGGGTAT CCGGTTAT CCGTATAT CCTGATAT CGGGATAT CTGGATAT GCGGATAT TCGGATAT \n",
        "out/axe/se_1mm_4.ilfq\tATCTG CTCTG GTCTG TACTG TCCTG TGCTG TTATG TTCAG TTCCG TTCGG TTCTA TTCTC TTCTG TTCTT TTGTG TTTTG \n",
        "out/axe/se_1mm_5.ilfq\tATAGG CAAGG CCAGG CGAGG CTAAG CTACG CTAGA CTAGC CTAGG CTAGT CTATG CTCGG CTGGG CTTGG GTAGG TTAGG \n",
        "out/axe/se_1mm_6.ilfq\tAAGAT ACGAT AGAAT AGCAT AGGAA AGGAC AGGAG AGGAT AGGCT AGGGT AGGTT AGTAT ATGAT CGGAT GGGAT TGGAT \n",
        "out/axe/se_1mm_7.ilfq\tAAGCCT ACGCCT AGGCCT ATACCT ATCCCT ATGACT ATGCAT ATGCCA ATGCCC ATGCCG ATGCCT ATGCGT ATGCTT ATGGCT ATGTCT ATTCCT CTGCCT GTGCCT TTGCCT \n",
        "out/axe/se_1mm_8.ilfq\tAGCGGAGA CACGGAGA CCCGGAGA CGAGGAGA CGCAGAGA CGCCGAGA CGCGAAGA CGCGCAGA CGCGGAAA CGCGGACA CGCGGAGA CGCGGAGC CGCGGAGG CGCGGAGT CGCGGATA CGCGGCGA CGCGGGGA CGCGGTGA CGCGTAGA CGCTGAGA CGGGGAGA CGTGGAGA CTCGGAGA GGCGGAGA TGCGGAGA \n",
        "out/axe/se_1mm_9.ilfq\tACTAG CATAG CCAAG CCCAG CCGAG CCTAA CCTAC CCTAG CCTAT CCTCG CCTGG CCTTG CGTAG CTTAG GCTAG TCTAG \n",
        "out/axe/se_1mm_unbarcoded.ilfq\t\n"
       ]
      }
     ],
     "prompt_number": 18
    },
    {
     "cell_type": "markdown",
     "metadata": {},
     "source": [
      "Fairly nice!"
     ]
    },
    {
     "cell_type": "code",
     "collapsed": false,
     "input": [
      "!grep -P '@ChrC.+/1' out/axe/se_1mm_unbarcoded.ilfq |cut -d ' ' -f 2-3 |sort -u"
     ],
     "language": "python",
     "metadata": {},
     "outputs": [],
     "prompt_number": 19
    },
    {
     "cell_type": "code",
     "collapsed": false,
     "input": [],
     "language": "python",
     "metadata": {},
     "outputs": []
    }
   ],
   "metadata": {}
  }
 ]
}