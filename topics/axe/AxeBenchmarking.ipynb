{
 "metadata": {
  "name": "",
  "signature": "sha256:472f056415d537f2e6b363a64c8dbb1e999eeb2e8e8deaada62c8da2a2719c38"
 },
 "nbformat": 3,
 "nbformat_minor": 0,
 "worksheets": [
  {
   "cells": [
    {
     "cell_type": "markdown",
     "metadata": {},
     "source": [
      "Benchmarking Axe\n",
      "================\n",
      "\n",
      "This notebook is about benchmarking axe, both in terms of speed and accuracy. It's a work in progress, as I have time. I intend to benchmark axe against several comparable tools:\n",
      "\n",
      " - [sabre](https://github.com/najoshi/sabre) \n",
      " - [flexbar](http://sourceforge.net/projects/flexbar/)"
     ]
    },
    {
     "cell_type": "markdown",
     "metadata": {},
     "source": [
      "Setup\n",
      "-----\n",
      "\n",
      "Lets get started. For reproduceability's sake, lets get versions etc of all tools.\n",
      "\n",
      "These are:\n",
      "\n",
      "- axe, built from version `0.1.4+git=9e8af9e` with libqes version `0.1.3 (gebe6f36)`. \n",
      "- sabre, build from git revision `039a55e`, on github [here](https://github.com/najoshi/sabre/tree/039a55e500ba07b7e6432ea6ec2ddcfb3471d949)\n",
      "- pairs, from Vince Buffalo's `seqqs` tool, built from git revision `3d05375`, on github [here](https://github.com/vsbuffalo/seqqs/tree/3d05375004c26c29b15e390c7cd904da8dc3d78c)"
     ]
    },
    {
     "cell_type": "code",
     "collapsed": false,
     "input": [
      "!md5sum binaries/*"
     ],
     "language": "python",
     "metadata": {},
     "outputs": [
      {
       "output_type": "stream",
       "stream": "stdout",
       "text": [
        "50efe7d75a422f8550a1719293aa1cbc  binaries/axe\r\n",
        "f73f4e910ac470551091779250bcc395  binaries/pairs\r\n",
        "c010b6c75bfc216576b3b7dbd55d6cce  binaries/sabre\r\n",
        "c84171334b193676d650cabeae3e720f  binaries/wgsim\r\n"
       ]
      }
     ],
     "prompt_number": 1
    },
    {
     "cell_type": "code",
     "collapsed": false,
     "input": [
      "!binaries/axe -V"
     ],
     "language": "python",
     "metadata": {},
     "outputs": [
      {
       "output_type": "stream",
       "stream": "stdout",
       "text": [
        "axe Version 0.1.4+git=9e8af9e\r\n"
       ]
      }
     ],
     "prompt_number": 2
    },
    {
     "cell_type": "code",
     "collapsed": false,
     "input": [
      "!binaries/wgsim"
     ],
     "language": "python",
     "metadata": {},
     "outputs": [
      {
       "output_type": "stream",
       "stream": "stdout",
       "text": [
        "\r\n",
        "Program: wgsim (short read simulator)\r\n",
        "Version: 0.3.1-r13\r\n",
        "Contact: Heng Li <lh3@sanger.ac.uk>\r\n",
        "\r\n",
        "Usage:   wgsim [options] <in.ref.fa> <out.read1.fq> <out.read2.fq>\r\n",
        "\r\n",
        "Options: -e FLOAT      base error rate [0.020]\r\n",
        "         -d INT        outer distance between the two ends [500]\r\n",
        "         -s INT        standard deviation [50]\r\n",
        "         -N INT        number of read pairs [1000000]\r\n",
        "         -1 INT        length of the first read [70]\r\n",
        "         -2 INT        length of the second read [70]\r\n",
        "         -r FLOAT      rate of mutations [0.0010]\r\n",
        "         -R FLOAT      fraction of indels [0.15]\r\n",
        "         -X FLOAT      probability an indel is extended [0.30]\r\n",
        "         -S INT        seed for random generator [-1]\r\n",
        "         -A FLOAT      disgard if the fraction of ambiguous bases higher than FLOAT [0.05]\r\n",
        "         -h            haplotype mode\r\n",
        "\r\n"
       ]
      }
     ],
     "prompt_number": 3
    },
    {
     "cell_type": "markdown",
     "metadata": {},
     "source": [
      "We should clean up all previous runs. This means removing things from `./generated_data`, and `./out` then `mkdir`ing them again\n"
     ]
    },
    {
     "cell_type": "code",
     "collapsed": false,
     "input": [
      "%%bash\n",
      "test -d generated_data/ && rm -r generated_data/\n",
      "test -d out/ && rm -r out/\n",
      "mkdir generated_data/\n",
      "mkdir out/\n",
      "mkdir out/axe\n",
      "mkdir out/sabre\n",
      "mkdir out/flexbar"
     ],
     "language": "python",
     "metadata": {},
     "outputs": [],
     "prompt_number": 4
    },
    {
     "cell_type": "markdown",
     "metadata": {},
     "source": [
      "Fake reads\n",
      "----------\n",
      "\n",
      "OK, now we need to make some fake reads. Let's generate reads from the *Arabadopsis thaliana* TAIR10 chloroplast genome (ChrC). This is just so I can distribute a reproducible tarball. We'll generate 10M read pairs of 101bp each, simulating a typical HiSeq 2000+ run. We explicity don't simulate mutation, and simulate a base error rate of 2% (the default)."
     ]
    },
    {
     "cell_type": "code",
     "collapsed": false,
     "input": [
      "!md5sum data/ChrC.fa"
     ],
     "language": "python",
     "metadata": {},
     "outputs": [
      {
       "output_type": "stream",
       "stream": "stdout",
       "text": [
        "e98292ce15367c2ae30ad1b6df1d47f1  data/ChrC.fa\r\n"
       ]
      }
     ],
     "prompt_number": 5
    },
    {
     "cell_type": "code",
     "collapsed": false,
     "input": [
      "!binaries/wgsim -S 16384 -1 101 -2 101 -N 1000000 -h -r 0.0 \\\n",
      " data/ChrC.fa generated_data/chrc_raw_r1.fq generated_data/chrc_raw_r2.fq"
     ],
     "language": "python",
     "metadata": {},
     "outputs": [
      {
       "output_type": "stream",
       "stream": "stdout",
       "text": [
        "[wgsim] seed = 16384\r\n",
        "[wgsim_core] calculating the total length of the reference sequence...\r\n",
        "[wgsim_core] 1 sequences, total length: 154478\r\n"
       ]
      }
     ],
     "prompt_number": 6
    },
    {
     "cell_type": "code",
     "collapsed": false,
     "input": [
      "!md5sum generated_data/chrc_raw_*.fq"
     ],
     "language": "python",
     "metadata": {},
     "outputs": [
      {
       "output_type": "stream",
       "stream": "stdout",
       "text": [
        "93a3fa374a1f165268b00e03003fb2c4  generated_data/chrc_raw_r1.fq\r\n"
       ]
      },
      {
       "output_type": "stream",
       "stream": "stdout",
       "text": [
        "eb6a52c44f15f69b758397339ca36d15  generated_data/chrc_raw_r2.fq\r\n"
       ]
      }
     ],
     "prompt_number": 7
    },
    {
     "cell_type": "markdown",
     "metadata": {},
     "source": [
      "So, we have some raw reads. We now need to add barcodes. Initially, we just add them with no mismatches. We add an N after all barcodes, so that the barcodes don't seem falsely assigned if the true barcode + a bit of the read matches a longer barcode. **THIS IS WHY YOU DON'T USE NESTED BARCODES**. I only use them here to try and trip AXE up."
     ]
    },
    {
     "cell_type": "code",
     "collapsed": false,
     "input": [
      "# setup python env\n",
      "import itertools\n",
      "import random\n",
      "from collections import Counter\n",
      "\n",
      "simple_barcodes = [\n",
      "    \"AAAA\",\n",
      "    \"CCCC\",\n",
      "    \"GGGG\",\n",
      "    \"TTTT\",\n",
      "    ]\n",
      "\n",
      "gbs_barcodes = [\n",
      "    \"GTAA\",\n",
      "    \"TATTTTT\",\n",
      "    \"TAATA\",\n",
      "    \"CCGGATAT\",\n",
      "    \"TTCTG\",\n",
      "    \"CTAGG\",\n",
      "    \"AGGAT\",\n",
      "    \"ATGCCT\",\n",
      "    \"CGCGGAGA\",\n",
      "    \"CCTAG\",\n",
      "    ]\n",
      "\n",
      "nested_barcodes = [\n",
      "    \"AAAA\",\n",
      "    \"AAAAAAAA\",\n",
      "    \"CCCC\",\n",
      "    \"CCCCCCCC\",\n",
      "    \"GGGG\",\n",
      "    \"GGGGGGGG\",\n",
      "    \"TTTT\",\n",
      "    \"TTTTTTTT\",\n",
      "    ]\n",
      "\n",
      "barcodes = gbs_barcodes\n",
      "\n",
      "with open(\"generated_data/barcodes.axe\", \"w\") as bcd_fh:\n",
      "    for iii, bcd  in enumerate(barcodes):\n",
      "        bcd_fh.write(\"{}\\t{}\\n\".format(bcd, iii))\n",
      "\n",
      "def fqitr(fp):\n",
      "    \"\"\"Fastq iterator. Whoop for python golf! Just gives the 4 bits of it stripped\"\"\"\n",
      "    for h, s, _, q in itertools.izip(fp, fp, fp, fp):\n",
      "        yield [h.strip(), s.strip(), '+', q.strip()]"
     ],
     "language": "python",
     "metadata": {},
     "outputs": [],
     "prompt_number": 53
    },
    {
     "cell_type": "code",
     "collapsed": true,
     "input": [
      "random.seed(12345)\n",
      "r1fh = open('generated_data/chrc_raw_r1.fq')\n",
      "r2fh = open('generated_data/chrc_raw_r2.fq')\n",
      "outfh = open(\"generated_data/chrc_singlebarcoded_0mm_il.fq\", \"w\")\n",
      "counts = Counter()\n",
      "for r1, r2 in itertools.izip(fqitr(r1fh),  fqitr(r2fh)):\n",
      "    #print r1, r2\n",
      "    barcode = random.choice(barcodes)\n",
      "    counts[barcode] += 1\n",
      "    # Add barcode as a comment to the fastq header\n",
      "    r1[0] = r1[0] + \" \" + barcode\n",
      "    r1[1] = barcode + \"N\" + r1[1]\n",
      "    r1[3] = '2' * (len(barcode) + 1) + r1[3]\n",
      "    #print r1, r2\n",
      "    outfh.write(\"\\n\".join(r1) + '\\n')\n",
      "    outfh.write(\"\\n\".join(r2) + '\\n')\n",
      "outfh.close()\n",
      "r1fh.close()\n",
      "r2fh.close()\n",
      "for bcd, count in counts.most_common():\n",
      "    print bcd + \"\\t\" + str(count)"
     ],
     "language": "python",
     "metadata": {},
     "outputs": [
      {
       "output_type": "stream",
       "stream": "stdout",
       "text": [
        "GTAA\t100307\n",
        "CCGGATAT\t100136\n",
        "CGCGGAGA\t100135\n",
        "CCTAG\t100133\n",
        "AGGAT\t100120\n",
        "TTCTG\t100102\n",
        "TATTTTT\t99928\n",
        "ATGCCT\t99896\n",
        "CTAGG\t99712\n",
        "TAATA\t99531\n"
       ]
      }
     ],
     "prompt_number": 9
    },
    {
     "cell_type": "code",
     "collapsed": false,
     "input": [
      "!md5sum generated_data/chrc_singlebarcoded_0mm_il.fq"
     ],
     "language": "python",
     "metadata": {},
     "outputs": [
      {
       "output_type": "stream",
       "stream": "stdout",
       "text": [
        "255ab5e517513dd70447cbd45a587842  generated_data/chrc_singlebarcoded_0mm_il.fq\r\n"
       ]
      }
     ],
     "prompt_number": 10
    },
    {
     "cell_type": "markdown",
     "metadata": {},
     "source": [
      "So we now have a file, generated_data/chrc_singlebarcoded_0mm_il.fq, that contains the generated reads with a barcode spliced into the R1 read only."
     ]
    },
    {
     "cell_type": "markdown",
     "metadata": {},
     "source": [
      "Test axe in single barcode mode\n",
      "-------------------------------"
     ]
    },
    {
     "cell_type": "code",
     "collapsed": false,
     "input": [
      "!binaries/axe \\\n",
      "    -b generated_data/barcodes.axe \\\n",
      "    -i generated_data/chrc_singlebarcoded_0mm_il.fq \\\n",
      "    -I out/axe/se_0mm \\\n",
      "    -t out/axe/se_0mm.tab"
     ],
     "language": "python",
     "metadata": {},
     "outputs": [
      {
       "output_type": "stream",
       "stream": "stdout",
       "text": [
        "[process_file] (13:18:20) Starting demultiplexing\r\n"
       ]
      },
      {
       "output_type": "stream",
       "stream": "stdout",
       "text": [
        "13:18:21: Processed 0.1M read pairs\r"
       ]
      },
      {
       "output_type": "stream",
       "stream": "stdout",
       "text": [
        "13:18:21: Processed 0.2M read pairs\r"
       ]
      },
      {
       "output_type": "stream",
       "stream": "stdout",
       "text": [
        "13:18:21: Processed 0.3M read pairs\r"
       ]
      },
      {
       "output_type": "stream",
       "stream": "stdout",
       "text": [
        "13:18:21: Processed 0.4M read pairs\r"
       ]
      },
      {
       "output_type": "stream",
       "stream": "stdout",
       "text": [
        "13:18:21: Processed 0.5M read pairs\r"
       ]
      },
      {
       "output_type": "stream",
       "stream": "stdout",
       "text": [
        "13:18:21: Processed 0.6M read pairs\r"
       ]
      },
      {
       "output_type": "stream",
       "stream": "stdout",
       "text": [
        "13:18:21: Processed 0.7M read pairs\r"
       ]
      },
      {
       "output_type": "stream",
       "stream": "stdout",
       "text": [
        "13:18:21: Processed 0.8M read pairs\r"
       ]
      },
      {
       "output_type": "stream",
       "stream": "stdout",
       "text": [
        "13:18:22: Processed 0.9M read pairs\r"
       ]
      },
      {
       "output_type": "stream",
       "stream": "stdout",
       "text": [
        "13:18:22: Processed 1.0M read pairs\r",
        "\r",
        "[process_file] (13:18:22) Finished demultiplexing\r\n",
        "\r\n",
        "Run Summary:\r\n",
        "Processed 1000000 read pairs in 1.3 seconds (767.189k read pairs/sec)\r\n",
        "1000000 read pairs contained valid barcodes\r\n",
        "0 read pairs could not be demultiplexed\r\n"
       ]
      }
     ],
     "prompt_number": 11
    },
    {
     "cell_type": "code",
     "collapsed": false,
     "input": [
      "!cat out/axe/se_0mm.tab"
     ],
     "language": "python",
     "metadata": {},
     "outputs": [
      {
       "output_type": "stream",
       "stream": "stdout",
       "text": [
        "Barcode\tSample\tCount\r\n",
        "GTAA\t0\t100307\r\n",
        "TATTTTT\t1\t99928\r\n",
        "TAATA\t2\t99531\r\n",
        "CCGGATAT\t3\t100136\r\n",
        "TTCTG\t4\t100102\r\n",
        "CTAGG\t5\t99712\r\n",
        "AGGAT\t6\t100120\r\n",
        "ATGCCT\t7\t99896\r\n",
        "CGCGGAGA\t8\t100135\r\n",
        "CCTAG\t9\t100133\r\n",
        "N\tNo Barcode\t0\r\n"
       ]
      }
     ],
     "prompt_number": 12
    },
    {
     "cell_type": "markdown",
     "metadata": {},
     "source": [
      "Looks familiar, eh! To my eye, that's a perfect match. But wait, there's more! Let's grab out the barcode from the header of the R1 reads, and check what they are!"
     ]
    },
    {
     "cell_type": "code",
     "collapsed": false,
     "input": [
      "%%bash\n",
      "for file in out/axe/se_0mm_[1-9]_il.fastq;\n",
      "do\n",
      "    echo -ne \"$file\\t\"\n",
      "    grep '^@ChrC.*/1' $file | cut -d ' ' -f 2 | sort -u\n",
      "done"
     ],
     "language": "python",
     "metadata": {},
     "outputs": [
      {
       "output_type": "stream",
       "stream": "stdout",
       "text": [
        "out/axe/se_0mm_1_il.fastq\tTATTTTT\n",
        "out/axe/se_0mm_2_il.fastq\tTAATA\n",
        "out/axe/se_0mm_3_il.fastq\tCCGGATAT\n",
        "out/axe/se_0mm_4_il.fastq\tTTCTG\n",
        "out/axe/se_0mm_5_il.fastq\tCTAGG\n",
        "out/axe/se_0mm_6_il.fastq\tAGGAT\n",
        "out/axe/se_0mm_7_il.fastq\tATGCCT\n",
        "out/axe/se_0mm_8_il.fastq\tCGCGGAGA\n",
        "out/axe/se_0mm_9_il.fastq\tCCTAG\n"
       ]
      }
     ],
     "prompt_number": 13
    },
    {
     "cell_type": "markdown",
     "metadata": {},
     "source": [
      "Yep, It's a match. Awesome."
     ]
    },
    {
     "cell_type": "markdown",
     "metadata": {},
     "source": [
      "And now for something much the same - mismatches\n",
      "------------------------------------------------\n",
      "\n",
      "If it were that easy, someone else would have done it...\n",
      "\n",
      "So, mismatches. Time for a lot of copy pasting. Basically, we need to mutate a percentage of the reads. If we take the base error rate to be about 1% across all bases of all reads on average (dodgy I know, but bear with me...), then we want to mutate `len(barcode) * 0.01` bases in each barcode (or 1 in every `1/(len(barcode) * 0.01)` barcodes). In my experience, this is an overestimate of the error rate, expecially at the start of reads, but just call it a bad lane :). And we have real data below anyhow..."
     ]
    },
    {
     "cell_type": "code",
     "collapsed": false,
     "input": [
      "def mutate_bcd(seq, dist):                                                             \n",
      "    idx = list(range(len(seq)))                                                 \n",
      "    random.shuffle(idx)                                                         \n",
      "    nts = list(\"AGTC\")                                                          \n",
      "    seq = list(seq)                                                             \n",
      "    for i in range(dist):                                                       \n",
      "        rep = random.choice(nts)                                                \n",
      "        while seq[idx[i]] == rep:                                               \n",
      "            rep = random.choice(nts)                                            \n",
      "        seq[idx[i]] = rep                                                       \n",
      "    return \"\".join(seq)"
     ],
     "language": "python",
     "metadata": {},
     "outputs": [],
     "prompt_number": 14
    },
    {
     "cell_type": "code",
     "collapsed": false,
     "input": [
      "random.seed(12345)\n",
      "r1fh = open('generated_data/chrc_raw_r1.fq')\n",
      "r2fh = open('generated_data/chrc_raw_r2.fq')\n",
      "outfh = open(\"generated_data/chrc_singlebarcoded_1mm_il.fq\", \"w\")\n",
      "counts = Counter()\n",
      "errcount = Counter()\n",
      "\n",
      "for r1, r2 in itertools.izip(fqitr(r1fh),  fqitr(r2fh)):\n",
      "    #print r1, r2\n",
      "    barcode = random.choice(barcodes)\n",
      "    barcode_orig = barcode\n",
      "    if 1: #random.random() < (0.06):\n",
      "        errcount[barcode] += 1\n",
      "        barcode = mutate_bcd(barcode, 1)\n",
      "    counts[barcode_orig] += 1\n",
      "    # Add barcode as a comment to the fastq header\n",
      "    r1[0] = r1[0] + \" \" + barcode + ' ' + barcode_orig\n",
      "    #r1[1] = barcode +  \"N\" + r1[1]\n",
      "    r1[1] = barcode +  r1[1]\n",
      "    #r1[3] = '2' * (len(barcode) + 1) + r1[3]\n",
      "    r1[3] = '2' * (len(barcode)) + r1[3]\n",
      "    #print r1, r2\n",
      "    outfh.write(\"\\n\".join(r1) + '\\n')\n",
      "    outfh.write(\"\\n\".join(r2) + '\\n')\n",
      "outfh.close()\n",
      "r1fh.close()\n",
      "r2fh.close()\n",
      "for bcd, count in counts.most_common():\n",
      "    print bcd.ljust(9) + \"\\t\" + str(count)"
     ],
     "language": "python",
     "metadata": {},
     "outputs": [
      {
       "output_type": "stream",
       "stream": "stdout",
       "text": [
        "CTAGG    \t100573\n",
        "TAATA    \t100247\n",
        "CCGGATAT \t100167\n",
        "CGCGGAGA \t99996\n",
        "AGGAT    \t99933\n",
        "CCTAG    \t99932\n",
        "TATTTTT  \t99881\n",
        "TTCTG    \t99856\n",
        "GTAA     \t99830\n",
        "ATGCCT   \t99585\n"
       ]
      }
     ],
     "prompt_number": 15
    },
    {
     "cell_type": "code",
     "collapsed": false,
     "input": [
      "!binaries/axe \\\n",
      "    -b generated_data/barcodes.axe \\\n",
      "    -i generated_data/chrc_singlebarcoded_1mm_il.fq \\\n",
      "    -I out/axe/se_1mm \\\n",
      "    -t out/axe/se_1mm.tab"
     ],
     "language": "python",
     "metadata": {},
     "outputs": [
      {
       "output_type": "stream",
       "stream": "stdout",
       "text": [
        "[process_file] (13:18:40) Starting demultiplexing\r\n"
       ]
      },
      {
       "output_type": "stream",
       "stream": "stdout",
       "text": [
        "13:18:40: Processed 0.1M read pairs\r"
       ]
      },
      {
       "output_type": "stream",
       "stream": "stdout",
       "text": [
        "13:18:40: Processed 0.2M read pairs\r"
       ]
      },
      {
       "output_type": "stream",
       "stream": "stdout",
       "text": [
        "13:18:41: Processed 0.3M read pairs\r"
       ]
      },
      {
       "output_type": "stream",
       "stream": "stdout",
       "text": [
        "13:18:41: Processed 0.4M read pairs\r"
       ]
      },
      {
       "output_type": "stream",
       "stream": "stdout",
       "text": [
        "13:18:41: Processed 0.5M read pairs\r"
       ]
      },
      {
       "output_type": "stream",
       "stream": "stdout",
       "text": [
        "13:18:41: Processed 0.6M read pairs\r"
       ]
      },
      {
       "output_type": "stream",
       "stream": "stdout",
       "text": [
        "13:18:41: Processed 0.7M read pairs\r"
       ]
      },
      {
       "output_type": "stream",
       "stream": "stdout",
       "text": [
        "13:18:41: Processed 0.8M read pairs\r"
       ]
      },
      {
       "output_type": "stream",
       "stream": "stdout",
       "text": [
        "13:18:41: Processed 0.9M read pairs\r"
       ]
      },
      {
       "output_type": "stream",
       "stream": "stdout",
       "text": [
        "13:18:41: Processed 1.0M read pairs\r",
        "\r",
        "[process_file] (13:18:41) Finished demultiplexing\r\n",
        "\r\n",
        "Run Summary:\r\n",
        "Processed 1000000 read pairs in 1.3 seconds (765.048k read pairs/sec)\r\n",
        "1000000 read pairs contained valid barcodes\r\n",
        "0 read pairs could not be demultiplexed\r\n"
       ]
      }
     ],
     "prompt_number": 16
    },
    {
     "cell_type": "code",
     "collapsed": false,
     "input": [
      "!grep -v '^Barcode' out/axe/se_1mm.tab | cut -f 1,3 | sort -nrk2 |column -t"
     ],
     "language": "python",
     "metadata": {},
     "outputs": [
      {
       "output_type": "stream",
       "stream": "stdout",
       "text": [
        "CTAGG     103268\r\n",
        "TATTTTT   101474\r\n",
        "CGCGGAGA  100283\r\n",
        "CCGGATAT  100167\r\n",
        "AGGAT     99933\r\n",
        "CCTAG     99932\r\n",
        "TTCTG     99856\r\n",
        "ATGCCT    99585\r\n",
        "TAATA     98654\r\n",
        "GTAA      96848\r\n",
        "N         0\r\n"
       ]
      }
     ],
     "prompt_number": 17
    },
    {
     "cell_type": "markdown",
     "metadata": {},
     "source": [
      "Even with mismatches,  and nested barcodes, that's perfect."
     ]
    },
    {
     "cell_type": "code",
     "collapsed": false,
     "input": [
      "%%bash\n",
      "for file in out/axe/se_1mm_[0-9]_il.fastq;\n",
      "do\n",
      "    echo -ne \"$file\\t\"\n",
      "    # grab the barcode from the file header\n",
      "    grep '^@ChrC.*/1' $file | cut -d ' ' -f 2 | sort -u |tr '\\n' ' '\n",
      "    # the fancy counting version:\n",
      "    #echo \"$file\"\n",
      "    #grep '^@ChrC.*/1' $file | cut -d ' ' -f 2 | sort |uniq -c| sort -nrk1|sed 's/^/\\t/'\n",
      "    echo\n",
      "done"
     ],
     "language": "python",
     "metadata": {},
     "outputs": [
      {
       "output_type": "stream",
       "stream": "stdout",
       "text": [
        "out/axe/se_1mm_0_il.fastq\tATAA CTAA GAAA GCAA GGAA GTAC GTAG GTAT GTCA GTGA GTTA TTAA \n",
        "out/axe/se_1mm_1_il.fastq\tAATTTTT CATTTTT GATTTTT TAATT TAATTTT TACTTTT TAGTTTT TATATTT TATCTTT TATGTTT TATTA TATTATT TATTCTT TATTGTT TATTTAT TATTTCT TATTTGT TATTTTA TATTTTC TATTTTG TCTTTTT TGTTTTT TTTTTTT \n",
        "out/axe/se_1mm_2_il.fastq\tAAATA CAATA GAATA TAAAA TAACA TAAGA TAATC TAATG TAATT TACTA TAGTA TATTA TCATA TGATA TTATA \n",
        "out/axe/se_1mm_3_il.fastq\tACGGATAT CAGGATAT CCAGATAT CCCGATAT CCGAATAT CCGCATAT CCGGAAAT CCGGACAT CCGGAGAT CCGGATAA CCGGATAC CCGGATAG CCGGATCT CCGGATGT CCGGATTT CCGGCTAT CCGGGTAT CCGGTTAT CCGTATAT CCTGATAT CGGGATAT CTGGATAT GCGGATAT TCGGATAT \n",
        "out/axe/se_1mm_4_il.fastq\tATCTG CTCTG GTCTG TACTG TCCTG TGCTG TTATG TTCAG TTCCG TTCGG TTCTA TTCTC TTCTT TTGTG TTTTG \n",
        "out/axe/se_1mm_5_il.fastq\tATAGG CAAGG CCAGG CGAGG CTAA CTAAG CTACG CTAGA CTAGC CTAGT CTATG CTCGG CTGGG CTTGG GTAG GTAGG TTAGG \n",
        "out/axe/se_1mm_6_il.fastq\tAAGAT ACGAT AGAAT AGCAT AGGAA AGGAC AGGAG AGGCT AGGGT AGGTT AGTAT ATGAT CGGAT GGGAT TGGAT \n",
        "out/axe/se_1mm_7_il.fastq\tAAGCCT ACGCCT AGGCCT ATACCT ATCCCT ATGACT ATGCAT ATGCCA ATGCCC ATGCCG ATGCGT ATGCTT ATGGCT ATGTCT ATTCCT CTGCCT GTGCCT TTGCCT \n",
        "out/axe/se_1mm_8_il.fastq\tAGCGGAGA CACGGAGA CCCGGAGA CGAGG CGAGGAGA CGCAGAGA CGCCGAGA CGCGAAGA CGCGCAGA CGCGGAAA CGCGGACA CGCGGAGC CGCGGAGG CGCGGAGT CGCGGATA CGCGGCGA CGCGGGGA CGCGGTGA CGCGTAGA CGCTGAGA CGGGGAGA CGTGGAGA CTCGG CTCGGAGA GGCGGAGA TGCGGAGA \n",
        "out/axe/se_1mm_9_il.fastq\tACTAG CATAG CCAAG CCCAG CCGAG CCTAA CCTAC CCTAT CCTCG CCTGG CCTTG CGTAG CTTAG GCTAG TCTAG \n"
       ]
      }
     ],
     "prompt_number": 18
    },
    {
     "cell_type": "markdown",
     "metadata": {},
     "source": [
      "Fairly nice!\n",
      "\n",
      "Below, we grab any barcodes out of the seq header from reads that couldn't be demultiplexed."
     ]
    },
    {
     "cell_type": "code",
     "collapsed": false,
     "input": [
      "!grep -P '@ChrC.+/1' out/axe/se_1mm_unknown_il.fastq |cut -d ' ' -f 2-3 |sort -u"
     ],
     "language": "python",
     "metadata": {},
     "outputs": [],
     "prompt_number": 19
    },
    {
     "cell_type": "markdown",
     "metadata": {},
     "source": [
      "GBS-like Barcoding\n",
      "==================\n",
      "\n",
      "We want to simulate GBS, so we need to add RE sites to the start of our random reads from above.\n",
      "\n",
      "I'm going to pilfer wholesale the code above."
     ]
    },
    {
     "cell_type": "code",
     "collapsed": false,
     "input": [
      "random.seed(12345)\n",
      "r1fh = open('generated_data/chrc_raw_r1.fq')\n",
      "r2fh = open('generated_data/chrc_raw_r2.fq')\n",
      "outfh = open(\"generated_data/chrc_GBS_1mm_il.fq\", \"w\")\n",
      "counts = Counter()\n",
      "errcount = Counter()\n",
      "resite = \"TGCAG\"\n",
      "# use the worst-case barcodes\n",
      "barcodes = nested_barcodes\n",
      "with open(\"generated_data/gbs_barcodes.axe\", \"w\") as bcd_fh:\n",
      "    for iii, bcd  in enumerate(barcodes):\n",
      "        bcd_fh.write(\"{}\\t{}\\n\".format(bcd, iii))\n",
      "for r1, r2 in itertools.izip(fqitr(r1fh),  fqitr(r2fh)):\n",
      "    barcode = random.choice(barcodes)\n",
      "    barcode_orig = barcode\n",
      "    if random.random() < (0.06):\n",
      "        errcount[barcode] += 1\n",
      "        barcode = mutate_bcd(barcode, 1)\n",
      "    our_re = resite\n",
      "    if random.random() < (0.2): # Barcode is commonly mutated at a greater rate in our data\n",
      "        our_re = mutate_bcd(resite, 1)\n",
      "    counts[barcode_orig] += 1\n",
      "    # Add barcode as a comment to the fastq header\n",
      "    r1[0] = r1[0] + \" \" + barcode + ' ' + barcode_orig + ' ' + our_re\n",
      "    r1[1] = barcode +  our_re + r1[1]\n",
      "    r1[3] = '2' * (len(barcode) + len(our_re)) + r1[3]\n",
      "    outfh.write(\"\\n\".join(r1) + '\\n')\n",
      "    outfh.write(\"\\n\".join(r2) + '\\n')\n",
      "outfh.close()\n",
      "r1fh.close()\n",
      "r2fh.close()\n",
      "for bcd, count in counts.most_common():\n",
      "    print bcd.ljust(9) + \"\\t\" + str(count)"
     ],
     "language": "python",
     "metadata": {},
     "outputs": [
      {
       "output_type": "stream",
       "stream": "stdout",
       "text": [
        "TTTTTTTT \t125504\n",
        "AAAAAAAA \t125186\n",
        "TTTT     \t125008\n",
        "AAAA     \t124927\n",
        "CCCCCCCC \t124904\n",
        "CCCC     \t124898\n",
        "GGGG     \t124808\n",
        "GGGGGGGG \t124765\n"
       ]
      }
     ],
     "prompt_number": 20
    },
    {
     "cell_type": "code",
     "collapsed": false,
     "input": [
      "!binaries/axe \\\n",
      "    -b generated_data/gbs_barcodes.axe \\\n",
      "    -i generated_data/chrc_GBS_1mm_il.fq \\\n",
      "    -I out/axe/gbs_1mm \\\n",
      "    -t out/axe/gbs_1mm.tab"
     ],
     "language": "python",
     "metadata": {},
     "outputs": [
      {
       "output_type": "stream",
       "stream": "stdout",
       "text": [
        "[process_file] (13:18:57) Starting demultiplexing\r\n"
       ]
      },
      {
       "output_type": "stream",
       "stream": "stdout",
       "text": [
        "13:18:57: Processed 0.1M read pairs\r"
       ]
      },
      {
       "output_type": "stream",
       "stream": "stdout",
       "text": [
        "13:18:57: Processed 0.2M read pairs\r"
       ]
      },
      {
       "output_type": "stream",
       "stream": "stdout",
       "text": [
        "13:18:58: Processed 0.3M read pairs\r"
       ]
      },
      {
       "output_type": "stream",
       "stream": "stdout",
       "text": [
        "13:18:58: Processed 0.4M read pairs\r"
       ]
      },
      {
       "output_type": "stream",
       "stream": "stdout",
       "text": [
        "13:18:58: Processed 0.5M read pairs\r"
       ]
      },
      {
       "output_type": "stream",
       "stream": "stdout",
       "text": [
        "13:18:58: Processed 0.6M read pairs\r"
       ]
      },
      {
       "output_type": "stream",
       "stream": "stdout",
       "text": [
        "13:18:58: Processed 0.7M read pairs\r"
       ]
      },
      {
       "output_type": "stream",
       "stream": "stdout",
       "text": [
        "13:18:58: Processed 0.8M read pairs\r"
       ]
      },
      {
       "output_type": "stream",
       "stream": "stdout",
       "text": [
        "13:18:58: Processed 0.9M read pairs\r"
       ]
      },
      {
       "output_type": "stream",
       "stream": "stdout",
       "text": [
        "13:18:59: Processed 1.0M read pairs\r",
        "\r",
        "[process_file] (13:18:59) Finished demultiplexing\r\n",
        "\r\n",
        "Run Summary:\r\n",
        "Processed 1000000 read pairs in 1.5 seconds (682.720k read pairs/sec)\r\n",
        "1000000 read pairs contained valid barcodes\r\n",
        "0 read pairs could not be demultiplexed\r\n"
       ]
      }
     ],
     "prompt_number": 21
    },
    {
     "cell_type": "code",
     "collapsed": false,
     "input": [
      "!grep -v '^Barcode' out/axe/gbs_1mm.tab | cut -f 1,3 | sort -nrk2 |column -t"
     ],
     "language": "python",
     "metadata": {},
     "outputs": [
      {
       "output_type": "stream",
       "stream": "stdout",
       "text": [
        "TTTTTTTT  125504\r\n",
        "AAAAAAAA  125186\r\n",
        "TTTT      125008\r\n",
        "AAAA      124927\r\n",
        "CCCCCCCC  124904\r\n",
        "CCCC      124898\r\n",
        "GGGG      124808\r\n",
        "GGGGGGGG  124765\r\n",
        "N         0\r\n"
       ]
      }
     ],
     "prompt_number": 22
    },
    {
     "cell_type": "markdown",
     "metadata": {},
     "source": [
      "This looks like a perfect demultiplexing again."
     ]
    },
    {
     "cell_type": "code",
     "collapsed": false,
     "input": [
      "%%bash\n",
      "for file in out/axe/gbs_1mm_[0-9]_il.fastq;\n",
      "do\n",
      "    echo -ne \"$file\\t\"\n",
      "    # grab the barcode from the file header\n",
      "    grep '^@ChrC.*/1' $file | cut -d ' ' -f 2 | sort -u |tr '\\n' ' '\n",
      "    # the fancy counting version:\n",
      "    #echo \"$file\"\n",
      "    #grep '^@ChrC.*/1' $file | cut -d ' ' -f 2 | sort |uniq -c| sort -nrk1|sed 's/^/\\t/'\n",
      "    echo\n",
      "done"
     ],
     "language": "python",
     "metadata": {},
     "outputs": [
      {
       "output_type": "stream",
       "stream": "stdout",
       "text": [
        "out/axe/gbs_1mm_0_il.fastq\tAAAA AAAC AAAG AAAT AACA AAGA AATA ACAA AGAA ATAA CAAA GAAA TAAA \n",
        "out/axe/gbs_1mm_1_il.fastq\tAAAAAAAA AAAAAAAC AAAAAAAG AAAAAAAT AAAAAACA AAAAAAGA AAAAAATA AAAAACAA AAAAAGAA AAAAATAA AAAACAAA AAAAGAAA AAAATAAA AAACAAAA AAAGAAAA AAATAAAA AACAAAAA AAGAAAAA AATAAAAA ACAAAAAA AGAAAAAA ATAAAAAA CAAAAAAA GAAAAAAA TAAAAAAA \n",
        "out/axe/gbs_1mm_2_il.fastq\tACCC CACC CCAC CCCA CCCC CCCG CCCT CCGC CCTC CGCC CTCC GCCC TCCC \n",
        "out/axe/gbs_1mm_3_il.fastq\tACCCCCCC CACCCCCC CCACCCCC CCCACCCC CCCCACCC CCCCCACC CCCCCCAC CCCCCCCA CCCCCCCC CCCCCCCG CCCCCCCT CCCCCCGC CCCCCCTC CCCCCGCC CCCCCTCC CCCCGCCC CCCCTCCC CCCGCCCC CCCTCCCC CCGCCCCC CCTCCCCC CGCCCCCC CTCCCCCC GCCCCCCC TCCCCCCC \n",
        "out/axe/gbs_1mm_4_il.fastq\tAGGG CGGG GAGG GCGG GGAG GGCG GGGA GGGC GGGG GGGT GGTG GTGG TGGG \n",
        "out/axe/gbs_1mm_5_il.fastq\tAGGGGGGG CGGGGGGG GAGGGGGG GCGGGGGG GGAGGGGG GGCGGGGG GGGAGGGG GGGCGGGG GGGGAGGG GGGGCGGG GGGGGAGG GGGGGCGG GGGGGGAG GGGGGGCG GGGGGGGA GGGGGGGC GGGGGGGG GGGGGGGT GGGGGGTG GGGGGTGG GGGGTGGG GGGTGGGG GGTGGGGG GTGGGGGG TGGGGGGG \n",
        "out/axe/gbs_1mm_6_il.fastq\tATTT CTTT GTTT TATT TCTT TGTT TTAT TTCT TTGT TTTA TTTC TTTG TTTT \n",
        "out/axe/gbs_1mm_7_il.fastq\tATTTTTTT CTTTTTTT GTTTTTTT TATTTTTT TCTTTTTT TGTTTTTT TTATTTTT TTCTTTTT TTGTTTTT TTTATTTT TTTCTTTT TTTGTTTT TTTTATTT TTTTCTTT TTTTGTTT TTTTTATT TTTTTCTT TTTTTGTT TTTTTTAT TTTTTTCT TTTTTTGT TTTTTTTA TTTTTTTC TTTTTTTG TTTTTTTT \n"
       ]
      }
     ],
     "prompt_number": 23
    },
    {
     "cell_type": "markdown",
     "metadata": {},
     "source": [
      "Combinatoral Barcoding\n",
      "----------------------\n",
      "\n",
      "A main feature of AXE is its ability to demultiplex combinatorially barcoded reads."
     ]
    },
    {
     "cell_type": "code",
     "collapsed": false,
     "input": [
      "random.seed(12345)\n",
      "\n",
      "resite = \"TGCAG\"\n",
      "barcodes = gbs_barcodes\n",
      "barcode_pairs = list(itertools.product(barcodes, barcodes))\n",
      "\n",
      "with open(\"generated_data/comb_barcodes.axe\", \"w\") as bcd_fh:\n",
      "    for iii, (bcd1, bcd2) in enumerate(barcode_pairs):\n",
      "        bcd_fh.write(\"{}\\t{}\\t{}\\n\".format(bcd1, bcd2, iii))"
     ],
     "language": "python",
     "metadata": {},
     "outputs": [],
     "prompt_number": 36
    },
    {
     "cell_type": "code",
     "collapsed": false,
     "input": [
      "counts = Counter()\n",
      "r1fh = open('generated_data/chrc_raw_r1.fq')\n",
      "r2fh = open('generated_data/chrc_raw_r2.fq')\n",
      "outfh = open(\"generated_data/chrc_comb_1mm_il.fq\", \"w\")\n",
      "\n",
      "for r1, r2 in itertools.izip(fqitr(r1fh),  fqitr(r2fh)):\n",
      "    bcd1, bcd2 = random.choice(barcode_pairs)\n",
      "    barcode_orig = (bcd1, bcd2)\n",
      "    counts[barcode_orig] += 1\n",
      "    # Mutate the two barcodes seperately\n",
      "    if random.random() < (0.06):\n",
      "        bcd1 = mutate_bcd(bcd1, 1)\n",
      "    if random.random() < (0.06):\n",
      "        bcd2 = mutate_bcd(bcd2, 1)\n",
      "    # Mutate the RE site\n",
      "    our_re = resite\n",
      "    if random.random() < (0.2): # Barcode is commonly mutated at a greater rate in our data\n",
      "        our_re = mutate_bcd(resite, 1)\n",
      "    # Add barcode as a comment to the fastq header\n",
      "    r1[0] = r1[0] + \" \" + bcd1 + ' ' + barcode_orig[0] + ' ' + our_re\n",
      "    r1[1] = bcd1 +  our_re + r1[1]\n",
      "    r1[3] = '2' * (len(bcd1) + len(our_re)) + r1[3]\n",
      "    # R2, with bcd2\n",
      "    r2[0] = r2[0] + \" \" + bcd2 + ' ' + barcode_orig[1] + ' ' + our_re\n",
      "    r2[1] = bcd2 +  our_re + r2[1]\n",
      "    r2[3] = '2' * (len(bcd2) + len(our_re)) + r2[3]\n",
      "    outfh.write(\"\\n\".join(r1) + '\\n')\n",
      "    outfh.write(\"\\n\".join(r2) + '\\n')\n",
      "outfh.close()\n",
      "r1fh.close()\n",
      "r2fh.close()\n",
      "for bcd, count in counts.most_common():\n",
      "    print bcd[0].ljust(9) + \"\\t\" + bcd[1].ljust(9) + \"\\t\" + str(count)"
     ],
     "language": "python",
     "metadata": {},
     "outputs": [
      {
       "output_type": "stream",
       "stream": "stdout",
       "text": [
        "ATGCCT   \tATGCCT   \t10279\n",
        "CCTAG    \tCTAGG    \t10168\n",
        "ATGCCT   \tCCGGATAT \t10167\n",
        "CTAGG    \tTTCTG    \t10167\n",
        "CTAGG    \tGTAA     \t10164\n",
        "CTAGG    \tATGCCT   \t10164\n",
        "CCTAG    \tCCGGATAT \t10159\n",
        "ATGCCT   \tTAATA    \t10156\n",
        "CCGGATAT \tATGCCT   \t10142\n",
        "GTAA     \tGTAA     \t10141\n",
        "TATTTTT  \tCGCGGAGA \t10137\n",
        "CGCGGAGA \tCCGGATAT \t10134\n",
        "TAATA    \tAGGAT    \t10133\n",
        "TTCTG    \tTTCTG    \t10132\n",
        "TATTTTT  \tGTAA     \t10125\n",
        "TATTTTT  \tCTAGG    \t10107\n",
        "TAATA    \tGTAA     \t10104\n",
        "CGCGGAGA \tCTAGG    \t10100\n",
        "TTCTG    \tATGCCT   \t10099\n",
        "TATTTTT  \tTAATA    \t10099\n",
        "AGGAT    \tAGGAT    \t10095\n",
        "CCGGATAT \tAGGAT    \t10090\n",
        "CCTAG    \tAGGAT    \t10081\n",
        "AGGAT    \tTATTTTT  \t10080\n",
        "TAATA    \tATGCCT   \t10078\n",
        "TAATA    \tCTAGG    \t10078\n",
        "CTAGG    \tCGCGGAGA \t10077\n",
        "ATGCCT   \tTATTTTT  \t10076\n",
        "AGGAT    \tTTCTG    \t10072\n",
        "AGGAT    \tTAATA    \t10072\n",
        "CGCGGAGA \tATGCCT   \t10065\n",
        "CTAGG    \tCCTAG    \t10061\n",
        "TTCTG    \tTAATA    \t10057\n",
        "ATGCCT   \tCTAGG    \t10050\n",
        "CTAGG    \tCCGGATAT \t10045\n",
        "CCTAG    \tGTAA     \t10045\n",
        "CCGGATAT \tCTAGG    \t10043\n",
        "GTAA     \tTAATA    \t10043\n",
        "AGGAT    \tCCTAG    \t10041\n",
        "CTAGG    \tAGGAT    \t10040\n",
        "ATGCCT   \tAGGAT    \t10036\n",
        "ATGCCT   \tCCTAG    \t10034\n",
        "AGGAT    \tCTAGG    \t10031\n",
        "CGCGGAGA \tCCTAG    \t10027\n",
        "CCTAG    \tTAATA    \t10021\n",
        "CGCGGAGA \tTTCTG    \t10015\n",
        "CCGGATAT \tGTAA     \t10009\n",
        "TAATA    \tCCTAG    \t10008\n",
        "TTCTG    \tCTAGG    \t10008\n",
        "AGGAT    \tGTAA     \t10004\n",
        "CCTAG    \tTTCTG    \t10004\n",
        "GTAA     \tCCGGATAT \t10001\n",
        "TAATA    \tTATTTTT  \t9999\n",
        "CCGGATAT \tTAATA    \t9995\n",
        "TATTTTT  \tCCGGATAT \t9991\n",
        "ATGCCT   \tGTAA     \t9988\n",
        "CCGGATAT \tTATTTTT  \t9986\n",
        "CTAGG    \tTATTTTT  \t9985\n",
        "CCGGATAT \tCGCGGAGA \t9985\n",
        "CTAGG    \tCTAGG    \t9977\n",
        "CGCGGAGA \tGTAA     \t9967\n",
        "GTAA     \tCTAGG    \t9964\n",
        "TTCTG    \tCGCGGAGA \t9962\n",
        "TAATA    \tTTCTG    \t9958\n",
        "CCGGATAT \tCCTAG    \t9955\n",
        "TTCTG    \tCCTAG    \t9955\n",
        "TAATA    \tCCGGATAT \t9955\n",
        "AGGAT    \tCGCGGAGA \t9947\n",
        "CCGGATAT \tCCGGATAT \t9945\n",
        "CCTAG    \tTATTTTT  \t9945\n",
        "CGCGGAGA \tTAATA    \t9936\n",
        "GTAA     \tTTCTG    \t9928\n",
        "GTAA     \tAGGAT    \t9927\n",
        "CCTAG    \tATGCCT   \t9922\n",
        "GTAA     \tCCTAG    \t9919\n",
        "CGCGGAGA \tTATTTTT  \t9913\n",
        "TTCTG    \tGTAA     \t9911\n",
        "TATTTTT  \tATGCCT   \t9909\n",
        "ATGCCT   \tCGCGGAGA \t9896\n",
        "CTAGG    \tTAATA    \t9891\n",
        "TAATA    \tTAATA    \t9889\n",
        "AGGAT    \tCCGGATAT \t9883\n",
        "GTAA     \tTATTTTT  \t9883\n",
        "TTCTG    \tAGGAT    \t9878\n",
        "TTCTG    \tCCGGATAT \t9871\n",
        "CCGGATAT \tTTCTG    \t9870\n",
        "TATTTTT  \tTATTTTT  \t9870\n",
        "TATTTTT  \tTTCTG    \t9867\n",
        "AGGAT    \tATGCCT   \t9867\n",
        "GTAA     \tCGCGGAGA \t9861\n",
        "ATGCCT   \tTTCTG    \t9856\n",
        "TATTTTT  \tAGGAT    \t9854\n",
        "CGCGGAGA \tAGGAT    \t9848\n",
        "CCTAG    \tCCTAG    \t9846\n",
        "GTAA     \tATGCCT   \t9845\n",
        "TAATA    \tCGCGGAGA \t9826\n",
        "TATTTTT  \tCCTAG    \t9825\n",
        "CCTAG    \tCGCGGAGA \t9825\n",
        "TTCTG    \tTATTTTT  \t9796\n",
        "CGCGGAGA \tCGCGGAGA \t9765\n"
       ]
      }
     ],
     "prompt_number": 37
    },
    {
     "cell_type": "code",
     "collapsed": false,
     "input": [
      "!binaries/axe \\\n",
      "    -c \\\n",
      "    -b generated_data/comb_barcodes.axe \\\n",
      "    -i generated_data/chrc_comb_1mm_il.fq\\\n",
      "    -I out/axe/comb_1mm \\\n",
      "    -t out/axe/comb_1mm.tab"
     ],
     "language": "python",
     "metadata": {},
     "outputs": [
      {
       "output_type": "stream",
       "stream": "stdout",
       "text": [
        "[process_file] (13:22:57) Starting demultiplexing\r\n"
       ]
      },
      {
       "output_type": "stream",
       "stream": "stdout",
       "text": [
        "13:22:57: Processed 0.1M read pairs\r"
       ]
      },
      {
       "output_type": "stream",
       "stream": "stdout",
       "text": [
        "13:22:57: Processed 0.2M read pairs\r"
       ]
      },
      {
       "output_type": "stream",
       "stream": "stdout",
       "text": [
        "13:22:57: Processed 0.3M read pairs\r"
       ]
      },
      {
       "output_type": "stream",
       "stream": "stdout",
       "text": [
        "13:22:57: Processed 0.4M read pairs\r"
       ]
      },
      {
       "output_type": "stream",
       "stream": "stdout",
       "text": [
        "13:22:58: Processed 0.5M read pairs\r"
       ]
      },
      {
       "output_type": "stream",
       "stream": "stdout",
       "text": [
        "13:22:58: Processed 0.6M read pairs\r"
       ]
      },
      {
       "output_type": "stream",
       "stream": "stdout",
       "text": [
        "13:22:58: Processed 0.7M read pairs\r"
       ]
      },
      {
       "output_type": "stream",
       "stream": "stdout",
       "text": [
        "13:22:58: Processed 0.8M read pairs\r"
       ]
      },
      {
       "output_type": "stream",
       "stream": "stdout",
       "text": [
        "13:22:58: Processed 0.9M read pairs\r"
       ]
      },
      {
       "output_type": "stream",
       "stream": "stdout",
       "text": [
        "13:22:59: Processed 1.0M read pairs\r",
        "\r",
        "[process_file] (13:22:59) Finished demultiplexing\r\n",
        "\r\n",
        "Run Summary:\r\n",
        "Processed 1000000 read pairs in 1.9 seconds (538.229k read pairs/sec)\r\n",
        "1000000 read pairs contained valid barcodes\r\n",
        "0 read pairs could not be demultiplexed\r\n"
       ]
      }
     ],
     "prompt_number": 38
    },
    {
     "cell_type": "code",
     "collapsed": false,
     "input": [
      "!grep -v 'R1Barcode' out/axe/comb_1mm.tab | cut -f 1,2,4 | sort -nrk3 |column -t"
     ],
     "language": "python",
     "metadata": {},
     "outputs": [
      {
       "output_type": "stream",
       "stream": "stdout",
       "text": [
        "ATGCCT    ATGCCT    10279\r\n",
        "CCTAG     CTAGG     10168\r\n",
        "CTAGG     TTCTG     10167\r\n",
        "CTAGG     ATGCCT    10167\r\n",
        "ATGCCT    CCGGATAT  10167\r\n",
        "CTAGG     GTAA      10163\r\n",
        "CCTAG     CCGGATAT  10159\r\n",
        "ATGCCT    TAATA     10155\r\n",
        "CCGGATAT  ATGCCT    10142\r\n",
        "TATTTTT   CGCGGAGA  10141\r\n",
        "GTAA      GTAA      10139\r\n",
        "CGCGGAGA  CCGGATAT  10134\r\n",
        "TAATA     AGGAT     10133\r\n",
        "TTCTG     TTCTG     10132\r\n",
        "TATTTTT   GTAA      10122\r\n",
        "TATTTTT   CTAGG     10111\r\n",
        "TAATA     GTAA      10101\r\n",
        "CGCGGAGA  CTAGG     10100\r\n",
        "TTCTG     ATGCCT    10099\r\n",
        "TATTTTT   TAATA     10096\r\n",
        "AGGAT     AGGAT     10095\r\n",
        "CCGGATAT  AGGAT     10090\r\n",
        "CCTAG     AGGAT     10081\r\n",
        "TAATA     CTAGG     10080\r\n",
        "AGGAT     TATTTTT   10080\r\n",
        "CTAGG     CGCGGAGA  10079\r\n",
        "TAATA     ATGCCT    10078\r\n",
        "ATGCCT    TATTTTT   10077\r\n",
        "AGGAT     TTCTG     10072\r\n",
        "AGGAT     TAATA     10072\r\n",
        "CGCGGAGA  ATGCCT    10065\r\n",
        "CTAGG     CCTAG     10063\r\n",
        "TTCTG     TAATA     10055\r\n",
        "ATGCCT    CTAGG     10051\r\n",
        "CTAGG     CCGGATAT  10046\r\n",
        "CCTAG     GTAA      10045\r\n",
        "CCGGATAT  CTAGG     10045\r\n",
        "CTAGG     AGGAT     10042\r\n",
        "AGGAT     CCTAG     10041\r\n",
        "GTAA      TAATA     10040\r\n",
        "ATGCCT    AGGAT     10036\r\n",
        "ATGCCT    CCTAG     10034\r\n",
        "AGGAT     CTAGG     10032\r\n",
        "CGCGGAGA  CCTAG     10027\r\n",
        "CCTAG     TAATA     10021\r\n",
        "CGCGGAGA  TTCTG     10015\r\n",
        "TTCTG     CTAGG     10009\r\n",
        "TAATA     CCTAG     10008\r\n",
        "CCGGATAT  GTAA      10007\r\n",
        "CCTAG     TTCTG     10004\r\n",
        "AGGAT     GTAA      10003\r\n",
        "GTAA      CCGGATAT  10000\r\n",
        "TAATA     TATTTTT   9996\r\n",
        "TATTTTT   CCGGATAT  9993\r\n",
        "CCGGATAT  TAATA     9993\r\n",
        "CCGGATAT  TATTTTT   9988\r\n",
        "ATGCCT    GTAA      9987\r\n",
        "CTAGG     TATTTTT   9985\r\n",
        "CCGGATAT  CGCGGAGA  9985\r\n",
        "CTAGG     CTAGG     9981\r\n",
        "CGCGGAGA  GTAA      9967\r\n",
        "GTAA      CTAGG     9963\r\n",
        "TTCTG     CGCGGAGA  9962\r\n",
        "TAATA     TTCTG     9956\r\n",
        "TTCTG     CCTAG     9955\r\n",
        "CCGGATAT  CCTAG     9955\r\n",
        "TAATA     CCGGATAT  9953\r\n",
        "AGGAT     CGCGGAGA  9947\r\n",
        "CCTAG     TATTTTT   9945\r\n",
        "CCGGATAT  CCGGATAT  9945\r\n",
        "CGCGGAGA  TAATA     9935\r\n",
        "GTAA      TTCTG     9928\r\n",
        "GTAA      AGGAT     9925\r\n",
        "CCTAG     ATGCCT    9922\r\n",
        "GTAA      CCTAG     9917\r\n",
        "CGCGGAGA  TATTTTT   9914\r\n",
        "TTCTG     GTAA      9910\r\n",
        "TATTTTT   ATGCCT    9909\r\n",
        "ATGCCT    CGCGGAGA  9896\r\n",
        "CTAGG     TAATA     9893\r\n",
        "TAATA     TAATA     9889\r\n",
        "GTAA      TATTTTT   9884\r\n",
        "AGGAT     CCGGATAT  9883\r\n",
        "TTCTG     AGGAT     9878\r\n",
        "TATTTTT   TATTTTT   9876\r\n",
        "TTCTG     CCGGATAT  9871\r\n",
        "CCGGATAT  TTCTG     9870\r\n",
        "TATTTTT   TTCTG     9869\r\n",
        "AGGAT     ATGCCT    9867\r\n",
        "GTAA      CGCGGAGA  9859\r\n",
        "ATGCCT    TTCTG     9856\r\n",
        "TATTTTT   AGGAT     9854\r\n",
        "CGCGGAGA  AGGAT     9848\r\n",
        "CCTAG     CCTAG     9846\r\n",
        "GTAA      ATGCCT    9842\r\n",
        "TATTTTT   CCTAG     9825\r\n",
        "CCTAG     CGCGGAGA  9825\r\n",
        "TAATA     CGCGGAGA  9822\r\n",
        "TTCTG     TATTTTT   9798\r\n",
        "CGCGGAGA  CGCGGAGA  9765\r\n",
        "N         N         0\r\n"
       ]
      }
     ],
     "prompt_number": 39
    },
    {
     "cell_type": "markdown",
     "metadata": {},
     "source": [
      "Cross-comparison with Sabre\n",
      "---------------------------\n",
      "\n",
      "\n",
      "Sabre doesn't support different lengthed barcodes, so we have to do the dodgy and just \"fill in\" the smaller ones with restriction site:"
     ]
    },
    {
     "cell_type": "code",
     "collapsed": false,
     "input": [
      "barcodes = nested_barcodes\n",
      "maxlen = max(map(len, barcodes))\n",
      "\n",
      "with open(\"generated_data/fixed_len_barcodes.sabre\", \"w\") as bcd_fh:\n",
      "    for iii, bcd  in enumerate(barcodes):\n",
      "        if len(bcd) < maxlen:\n",
      "            re_len_needed = maxlen - len(bcd)\n",
      "            bcd =  bcd + resite[0:re_len_needed]\n",
      "        bcd_fh.write(\"{}\\tout/sabre/gbs_1mm_{}_R1.fq\\tout/sabre/gbs_1mm_{}_R2.fq\\n\".format(bcd, iii, iii))\n",
      "\n",
      "with open(\"generated_data/nested.axe\", \"w\") as bcd_fh:\n",
      "    for iii, bcd  in enumerate(barcodes):\n",
      "        bcd_fh.write(\"{}\\t{}\\n\".format(bcd, iii))\n",
      "\n",
      "with open(\"generated_data/fixed_len_barcodes.axe\", \"w\") as bcd_fh:\n",
      "    for iii, bcd  in enumerate(barcodes):\n",
      "        if len(bcd) < maxlen:\n",
      "            re_len_needed = maxlen - len(bcd)\n",
      "            bcd =  bcd + resite[0:re_len_needed]\n",
      "        bcd_fh.write(\"{}\\t{}\\n\".format(bcd, iii))"
     ],
     "language": "python",
     "metadata": {},
     "outputs": [],
     "prompt_number": 59
    },
    {
     "cell_type": "code",
     "collapsed": false,
     "input": [
      "random.seed(12345)\n",
      "r1fh = open('generated_data/chrc_raw_r1.fq')\n",
      "r2fh = open('generated_data/chrc_raw_r2.fq')\n",
      "outfh = open(\"generated_data/chrc_xcomp_1mm_il.fq\", \"w\")\n",
      "counts = Counter()\n",
      "errcount = Counter()\n",
      "\n",
      "for r1, r2 in itertools.izip(fqitr(r1fh),  fqitr(r2fh)):\n",
      "    barcode = random.choice(barcodes)\n",
      "    barcode_orig = barcode\n",
      "    if random.random() < (0.06):\n",
      "        errcount[barcode] += 1\n",
      "        barcode = mutate_bcd(barcode, 1)\n",
      "    our_re = resite\n",
      "    if random.random() < (0.2): # Barcode is commonly mutated at a greater rate in our data\n",
      "        our_re = mutate_bcd(resite, 1)\n",
      "    counts[barcode_orig] += 1\n",
      "    # Add barcode as a comment to the fastq header\n",
      "    r1[0] = r1[0] + \" \" + barcode + ' ' + barcode_orig + ' ' + our_re\n",
      "    r1[1] = barcode +  our_re + r1[1]\n",
      "    r1[3] = '2' * (len(barcode) + len(our_re)) + r1[3]\n",
      "    outfh.write(\"\\n\".join(r1) + '\\n')\n",
      "    outfh.write(\"\\n\".join(r2) + '\\n')\n",
      "outfh.close()\n",
      "r1fh.close()\n",
      "r2fh.close()\n",
      "for bcd, count in counts.most_common():\n",
      "    print bcd.ljust(9) + \"\\t\" + str(count)"
     ],
     "language": "python",
     "metadata": {},
     "outputs": [
      {
       "output_type": "stream",
       "stream": "stdout",
       "text": [
        "TTTTTTTT \t125504\n",
        "AAAAAAAA \t125186\n",
        "TTTT     \t125008\n",
        "AAAA     \t124927\n",
        "CCCCCCCC \t124904\n",
        "CCCC     \t124898\n",
        "GGGG     \t124808\n",
        "GGGGGGGG \t124765\n"
       ]
      }
     ],
     "prompt_number": 60
    },
    {
     "cell_type": "markdown",
     "metadata": {},
     "source": [
      "we'll run sabre with the simulated gbs data with 1 mismatch as we did for axe above, but first we have to split the read file\n"
     ]
    },
    {
     "cell_type": "code",
     "collapsed": false,
     "input": [
      "!pairs split \\\n",
      "    -1 generated_data/chrc_GBS_1mm_R1.fq \\\n",
      "    -2 generated_data/chrc_GBS_1mm_R2.fq \\\n",
      "    -u /dev/null \\\n",
      "    generated_data/chrc_GBS_1mm_il.fq"
     ],
     "language": "python",
     "metadata": {},
     "outputs": [
      {
       "output_type": "stream",
       "stream": "stdout",
       "text": [
        "totals: 1000000 1000000\r\n",
        "removed: 0 0\r\n"
       ]
      }
     ],
     "prompt_number": 61
    },
    {
     "cell_type": "code",
     "collapsed": false,
     "input": [
      "%%bash \n",
      "time binaries/sabre pe \\\n",
      "    -b generated_data/fixed_len_barcodes.sabre \\\n",
      "    -f generated_data/chrc_GBS_1mm_R1.fq \\\n",
      "    -r generated_data/chrc_GBS_1mm_R2.fq \\\n",
      "    -u out/sabre/fgbs_1mm_unknown_R1.fq \\\n",
      "    -w out/sabre/fgbs_1mm_unknown_R2.fq \\\n",
      "    -m 1"
     ],
     "language": "python",
     "metadata": {},
     "outputs": [
      {
       "output_type": "stream",
       "stream": "stdout",
       "text": [
        "\n",
        "Total FastQ records: 2000000 (1000000 pairs)\n",
        "\n",
        "FastQ records for barcode TTTTTTTT: 251008 (125504 pairs)\n",
        "FastQ records for barcode TTTTTGCA: 247690 (123845 pairs)\n",
        "FastQ records for barcode GGGGGGGG: 249530 (124765 pairs)\n",
        "FastQ records for barcode GGGGTGCA: 247170 (123585 pairs)\n",
        "FastQ records for barcode CCCCCCCC: 249808 (124904 pairs)\n",
        "FastQ records for barcode CCCCTGCA: 247444 (123722 pairs)\n",
        "FastQ records for barcode AAAAAAAA: 250372 (125186 pairs)\n",
        "FastQ records for barcode AAAATGCA: 247554 (123777 pairs)\n",
        "\n",
        "FastQ records with no barcode match: 9424 (4712 pairs)\n",
        "\n",
        "Number of mismatches allowed: 1\n",
        "\n"
       ]
      },
      {
       "output_type": "stream",
       "stream": "stderr",
       "text": [
        "\n",
        "real\t0m3.714s\n",
        "user\t0m3.196s\n",
        "sys\t0m0.508s\n"
       ]
      }
     ],
     "prompt_number": 62
    },
    {
     "cell_type": "code",
     "collapsed": false,
     "input": [
      "%%bash\n",
      "time binaries/axe \\\n",
      "    -b generated_data/nested.axe \\\n",
      "    -f generated_data/chrc_GBS_1mm_R1.fq \\\n",
      "    -r generated_data/chrc_GBS_1mm_R2.fq \\\n",
      "    -F out/axe/fgbs_1mm \\\n",
      "    -R out/axe/fgbs_1mm \\\n",
      "    -t /dev/stdout \\\n",
      "    -m 1 -p"
     ],
     "language": "python",
     "metadata": {},
     "outputs": [
      {
       "output_type": "stream",
       "stream": "stdout",
       "text": [
        "Barcode\tSample\tCount\n",
        "AAAA\t0\t124927\n",
        "AAAAAAAA\t1\t125186\n",
        "CCCC\t2\t124898\n",
        "CCCCCCCC\t3\t124904\n",
        "GGGG\t4\t124808\n",
        "GGGGGGGG\t5\t124765\n",
        "TTTT\t6\t125008\n",
        "TTTTTTTT\t7\t125504\n",
        "N\tNo Barcode\t0\n"
       ]
      },
      {
       "output_type": "stream",
       "stream": "stderr",
       "text": [
        "[process_file] (13:32:10) Starting demultiplexing\n",
        "13:32:10: Processed 0.1M read pairs\r",
        "13:32:10: Processed 0.2M read pairs\r",
        "13:32:10: Processed 0.3M read pairs\r",
        "13:32:10: Processed 0.4M read pairs\r",
        "13:32:10: Processed 0.5M read pairs\r",
        "13:32:11: Processed 0.6M read pairs\r",
        "13:32:11: Processed 0.7M read pairs\r",
        "13:32:11: Processed 0.8M read pairs\r",
        "13:32:11: Processed 0.9M read pairs\r",
        "13:32:17: Processed 1.0M read pairs\r",
        "\r",
        "[process_file] (13:32:17) Finished demultiplexing\n",
        "\n",
        "Run Summary:\n",
        "Processed 1000000 read pairs in 1.4 seconds (711.192k read pairs/sec)\n",
        "1000000 read pairs contained valid barcodes\n",
        "0 read pairs could not be demultiplexed\n",
        "\n",
        "real\t0m7.952s\n",
        "user\t0m1.128s\n",
        "sys\t0m0.408s\n"
       ]
      }
     ],
     "prompt_number": 63
    },
    {
     "cell_type": "code",
     "collapsed": false,
     "input": [
      "%%bash\n",
      "time binaries/axe \\\n",
      "    -b generated_data/fixed_len_barcodes.axe \\\n",
      "    -f generated_data/chrc_GBS_1mm_R1.fq \\\n",
      "    -r generated_data/chrc_GBS_1mm_R2.fq \\\n",
      "    -F out/axe/fgbs_1mm \\\n",
      "    -R out/axe/fgbs_1mm \\\n",
      "    -t /dev/stdout"
     ],
     "language": "python",
     "metadata": {},
     "outputs": [
      {
       "output_type": "stream",
       "stream": "stdout",
       "text": [
        "Barcode\tSample\tCount\n",
        "AAAATGCA\t0\t123777\n",
        "AAAAAAAA\t1\t125186\n",
        "CCCCTGCA\t2\t123722\n",
        "CCCCCCCC\t3\t124904\n",
        "GGGGTGCA\t4\t123585\n",
        "GGGGGGGG\t5\t124765\n",
        "TTTTTGCA\t6\t123845\n",
        "TTTTTTTT\t7\t125504\n",
        "N\tNo Barcode\t4712\n"
       ]
      },
      {
       "output_type": "stream",
       "stream": "stderr",
       "text": [
        "[process_file] (13:33:31) Starting demultiplexing\n",
        "13:33:31: Processed 0.1M read pairs\r",
        "13:33:31: Processed 0.2M read pairs\r",
        "13:33:32: Processed 0.3M read pairs\r",
        "13:33:32: Processed 0.4M read pairs\r",
        "13:33:32: Processed 0.5M read pairs\r",
        "13:33:32: Processed 0.6M read pairs\r",
        "13:33:32: Processed 0.7M read pairs\r",
        "13:33:32: Processed 0.8M read pairs\r",
        "13:33:32: Processed 0.9M read pairs\r",
        "13:33:32: Processed 1.0M read pairs\r",
        "\r",
        "[process_file] (13:33:32) Finished demultiplexing\n",
        "\n",
        "Run Summary:\n",
        "Processed 1000000 read pairs in 1.3 seconds (748.217k read pairs/sec)\n",
        "995288 read pairs contained valid barcodes\n",
        "4712 read pairs could not be demultiplexed\n",
        "\n",
        "real\t0m3.143s\n",
        "user\t0m1.012s\n",
        "sys\t0m0.448s\n"
       ]
      }
     ],
     "prompt_number": 66
    },
    {
     "cell_type": "markdown",
     "metadata": {},
     "source": [
      "Clean Up\n",
      "--------\n",
      "\n",
      "We  best clean up things now. Don't run this if you want to keep the files around"
     ]
    },
    {
     "cell_type": "code",
     "collapsed": false,
     "input": [
      "!test -d generated_data/ && rm -r generated_data/\n",
      "!test -d out/ && rm -r out/"
     ],
     "language": "python",
     "metadata": {},
     "outputs": [],
     "prompt_number": 67
    }
   ],
   "metadata": {}
  }
 ]
}