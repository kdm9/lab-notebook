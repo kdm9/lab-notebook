{
 "metadata": {
  "name": "",
  "signature": "sha256:efca172c15a9bd4767ccef185c08a372631f86c16294b1b13cced78b7460ca75"
 },
 "nbformat": 3,
 "nbformat_minor": 0,
 "worksheets": [
  {
   "cells": [
    {
     "cell_type": "markdown",
     "metadata": {},
     "source": [
      "Benchmarking Axe\n",
      "================\n",
      "\n",
      "This notebook is about benchmarking axe, both in terms of speed and accuracy. It's a work in progress, as I have time. I intend to benchmark axe against several comparable tools:\n",
      "\n",
      " - [sabre](https://github.com/najoshi/sabre) \n",
      " - [flexbar](http://sourceforge.net/projects/flexbar/)"
     ]
    },
    {
     "cell_type": "markdown",
     "metadata": {},
     "source": [
      "Setup\n",
      "-----\n",
      "\n",
      "Lets get started. For reproduceability's sake, lets get versions etc of all tools.\n",
      "\n",
      "These are:\n",
      "\n",
      "- axe, built from git version `x` with libqes version `x`. \n",
      "- sabre, build from git revision `039a55e`, on github [here](https://github.com/najoshi/sabre/tree/039a55e500ba07b7e6432ea6ec2ddcfb3471d949)\n",
      "- pairs, from Vince Buffalo's `seqqs` tool, built from git revision `3d05375`, on github [here](https://github.com/vsbuffalo/seqqs/tree/3d05375004c26c29b15e390c7cd904da8dc3d78c)\n",
      "- "
     ]
    },
    {
     "cell_type": "code",
     "collapsed": false,
     "input": [
      "!md5sum binaries/*"
     ],
     "language": "python",
     "metadata": {},
     "outputs": []
    },
    {
     "cell_type": "code",
     "collapsed": false,
     "input": [
      "!binaries/axe -V"
     ],
     "language": "python",
     "metadata": {},
     "outputs": []
    },
    {
     "cell_type": "code",
     "collapsed": false,
     "input": [
      "!binaries/wgsim"
     ],
     "language": "python",
     "metadata": {},
     "outputs": []
    },
    {
     "cell_type": "markdown",
     "metadata": {},
     "source": [
      "We should clean up all previous runs. This means removing things from `./generated_data`, and `./out` then `mkdir`ing them again\n"
     ]
    },
    {
     "cell_type": "code",
     "collapsed": false,
     "input": [
      "%%bash\n",
      "rm -r generated_data/ out/\n",
      "mkdir generated_data/\n",
      "mkdir out/\n",
      "mkdir out/axe\n",
      "mkdir out/sabre\n",
      "mkdir out/flexbar"
     ],
     "language": "python",
     "metadata": {},
     "outputs": []
    },
    {
     "cell_type": "markdown",
     "metadata": {},
     "source": [
      "Fake reads\n",
      "----------\n",
      "\n",
      "OK, now we need to make some fake reads. Let's generate reads from the *Arabadopsis thaliana* TAIR10 chloroplast genome (ChrC). This is just so I can distribute a reproducible tarball. We'll generate 10M read pairs of 101bp each, simulating a typical HiSeq 2000+ run. We explicity don't simulate mutation, and simulate a base error rate of 2% (the default)."
     ]
    },
    {
     "cell_type": "code",
     "collapsed": false,
     "input": [
      "!md5sum data/ChrC.fa"
     ],
     "language": "python",
     "metadata": {},
     "outputs": []
    },
    {
     "cell_type": "code",
     "collapsed": false,
     "input": [
      "!binaries/wgsim -S 16384 -1 101 -2 101 -N 1000000 -h -r 0.0 \\\n",
      " data/ChrC.fa generated_data/chrc_raw_r1.fq generated_data/chrc_raw_r2.fq"
     ],
     "language": "python",
     "metadata": {},
     "outputs": []
    },
    {
     "cell_type": "code",
     "collapsed": false,
     "input": [
      "!md5sum generated_data/chrc_raw_*.fq"
     ],
     "language": "python",
     "metadata": {},
     "outputs": []
    },
    {
     "cell_type": "markdown",
     "metadata": {},
     "source": [
      "So, we have some raw reads. We now need to add barcodes. Initially, we just add them with no mismatches. We add an N after all barcodes, so that the barcodes don't seem falsely assigned if the true barcode + a bit of the read matches a longer barcode. **THIS IS WHY YOU DON'T USE NESTED BARCODES**. I only use them here to try and trip AXE up."
     ]
    },
    {
     "cell_type": "code",
     "collapsed": false,
     "input": [
      "# setup python env\n",
      "import itertools\n",
      "import random\n",
      "from collections import Counter\n",
      "\n",
      "simple_barcodes = [\n",
      "\"AAAA\",\n",
      "\"CCCC\",\n",
      "\"GGGG\",\n",
      "\"TTTT\",\n",
      "]\n",
      "\n",
      "gbs_barcodes = [\"GTAA\",\n",
      "    \"TATTTTT\",\n",
      "    \"TAATA\",\n",
      "    \"CCGGATAT\",\n",
      "    \"TTCTG\",\n",
      "    \"CTAGG\",\n",
      "    \"AGGAT\",\n",
      "    \"ATGCCT\",\n",
      "    \"CGCGGAGA\",\n",
      "    \"CCTAG\",]\n",
      "\n",
      "nested_barcodes = [\n",
      "\"AAAA\",\n",
      "\"AAAAAAAA\",\n",
      "\"CCCC\",\n",
      "\"CCCCCCCC\",\n",
      "\"GGGG\",\n",
      "\"GGGGGGGG\",\n",
      "\"TTTT\",\n",
      "\"TTTTTTTT\",\n",
      "]\n",
      "\n",
      "barcodes = nested_barcodes\n",
      "\n",
      "\n",
      "with open(\"generated_data/barcodes.axe\", \"w\") as bcd_fh:\n",
      "    for iii, bcd  in enumerate(barcodes):\n",
      "        bcd_fh.write(\"{}\\t{}\\n\".format(bcd, iii))\n",
      "\n",
      "def fqitr(fp):\n",
      "    \"\"\"Fastq iterator. Whoop for python golf! Just gives the 4 bits of it stripped\"\"\"\n",
      "    for h, s, _, q in itertools.izip(fp, fp, fp, fp):\n",
      "        yield [h.strip(), s.strip(), '+', q.strip()]"
     ],
     "language": "python",
     "metadata": {},
     "outputs": []
    },
    {
     "cell_type": "code",
     "collapsed": true,
     "input": [
      "random.seed(12345)\n",
      "r1fh = open('generated_data/chrc_raw_r1.fq')\n",
      "r2fh = open('generated_data/chrc_raw_r2.fq')\n",
      "outfh = open(\"generated_data/chrc_singlebarcoded_0mm_il.fq\", \"w\")\n",
      "counts = Counter()\n",
      "for r1, r2 in itertools.izip(fqitr(r1fh),  fqitr(r2fh)):\n",
      "    #print r1, r2\n",
      "    barcode = random.choice(barcodes)\n",
      "    counts[barcode] += 1\n",
      "    # Add barcode as a comment to the fastq header\n",
      "    r1[0] = r1[0] + \" \" + barcode\n",
      "    r1[1] = barcode + \"N\" + r1[1]\n",
      "    r1[3] = '2' * (len(barcode) + 1) + r1[3]\n",
      "    #print r1, r2\n",
      "    outfh.write(\"\\n\".join(r1) + '\\n')\n",
      "    outfh.write(\"\\n\".join(r2) + '\\n')\n",
      "outfh.close()\n",
      "r1fh.close()\n",
      "r2fh.close()\n",
      "for bcd, count in counts.most_common():\n",
      "    print bcd + \"\\t\" + str(count)"
     ],
     "language": "python",
     "metadata": {},
     "outputs": []
    },
    {
     "cell_type": "code",
     "collapsed": false,
     "input": [
      "!md5sum generated_data/chrc_singlebarcoded_0mm_il.fq"
     ],
     "language": "python",
     "metadata": {},
     "outputs": []
    },
    {
     "cell_type": "markdown",
     "metadata": {},
     "source": [
      "So we now have a file, generated_data/chrc_singlebarcoded_0mm_il.fq, that contains the generated reads with a barcode spliced into the R1 read only."
     ]
    },
    {
     "cell_type": "markdown",
     "metadata": {},
     "source": [
      "Test axe in single barcode mode\n",
      "-------------------------------"
     ]
    },
    {
     "cell_type": "code",
     "collapsed": false,
     "input": [
      "!./binaries/axe \\\n",
      "    -b generated_data/barcodes.axe \\\n",
      "    -i generated_data/chrc_singlebarcoded_0mm_il.fq \\\n",
      "    -I out/axe/se_0mm \\\n",
      "    -u out/axe/se_0mm_unbarcoded.ilfq \\\n",
      "    -t out/axe/se_0mm.tab"
     ],
     "language": "python",
     "metadata": {},
     "outputs": []
    },
    {
     "cell_type": "code",
     "collapsed": false,
     "input": [
      "!cat out/axe/se_0mm.tab"
     ],
     "language": "python",
     "metadata": {},
     "outputs": []
    },
    {
     "cell_type": "markdown",
     "metadata": {},
     "source": [
      "Looks familiar, eh! To my eye, that's a perfect match. But wait, there's more! Let's grab out the barcode from the header of the R1 reads, and check what they are!"
     ]
    },
    {
     "cell_type": "code",
     "collapsed": false,
     "input": [
      "%%bash\n",
      "for file in out/axe/se_0mm*.ilfq;\n",
      "do\n",
      "    echo -ne \"$file\\t\"\n",
      "    grep '^@ChrC.*/1' $file | cut -d ' ' -f 2 | sort -u\n",
      "done"
     ],
     "language": "python",
     "metadata": {},
     "outputs": []
    },
    {
     "cell_type": "markdown",
     "metadata": {},
     "source": [
      "Yep, It's a match. Awesome."
     ]
    },
    {
     "cell_type": "markdown",
     "metadata": {},
     "source": [
      "And now for something much the same - mismatches\n",
      "------------------------------------------------\n",
      "\n",
      "If it were that easy, someone else would have done it...\n",
      "\n",
      "So, mismatches. Time for a lot of copy pasting. Basically, we need to mutate a percentage of the reads. If we take the base error rate to be about 1% across all bases of all reads on average (dodgy I know, but bear with me...), then we want to mutate `len(barcode) * 0.01` bases in each barcode (or 1 in every `1/(len(barcode) * 0.01)` barcodes). In my experience, this is an overestimate of the error rate, expecially at the start of reads, but just call it a bad lane :). And we have real data below anyhow..."
     ]
    },
    {
     "cell_type": "code",
     "collapsed": false,
     "input": [
      "def mutate_bcd(seq, dist):                                                             \n",
      "    idx = list(range(len(seq)))                                                 \n",
      "    random.shuffle(idx)                                                         \n",
      "    nts = list(\"AGTC\")                                                          \n",
      "    seq = list(seq)                                                             \n",
      "    for i in range(dist):                                                       \n",
      "        rep = random.choice(nts)                                                \n",
      "        while seq[idx[i]] == rep:                                               \n",
      "            rep = random.choice(nts)                                            \n",
      "        seq[idx[i]] = rep                                                       \n",
      "    return \"\".join(seq)"
     ],
     "language": "python",
     "metadata": {},
     "outputs": []
    },
    {
     "cell_type": "code",
     "collapsed": false,
     "input": [
      "random.seed(12345)\n",
      "r1fh = open('generated_data/chrc_raw_r1.fq')\n",
      "r2fh = open('generated_data/chrc_raw_r2.fq')\n",
      "outfh = open(\"generated_data/chrc_singlebarcoded_1mm_il.fq\", \"w\")\n",
      "counts = Counter()\n",
      "errcount = Counter()\n",
      "\n",
      "for r1, r2 in itertools.izip(fqitr(r1fh),  fqitr(r2fh)):\n",
      "    #print r1, r2\n",
      "    barcode = random.choice(barcodes)\n",
      "    barcode_orig = barcode\n",
      "    if random.random() < (0.06):\n",
      "        errcount[barcode] += 1\n",
      "        barcode = mutate_bcd(barcode, 1)\n",
      "    counts[barcode_orig] += 1\n",
      "    # Add barcode as a comment to the fastq header\n",
      "    r1[0] = r1[0] + \" \" + barcode + ' ' + barcode_orig\n",
      "    r1[1] = barcode +  \"N\" + r1[1]\n",
      "    r1[3] = '2' * (len(barcode) + 1) + r1[3]\n",
      "    #print r1, r2\n",
      "    outfh.write(\"\\n\".join(r1) + '\\n')\n",
      "    outfh.write(\"\\n\".join(r2) + '\\n')\n",
      "outfh.close()\n",
      "r1fh.close()\n",
      "r2fh.close()\n",
      "for bcd, count in counts.most_common():\n",
      "    print bcd.ljust(9) + \"\\t\" + str(count)"
     ],
     "language": "python",
     "metadata": {},
     "outputs": []
    },
    {
     "cell_type": "markdown",
     "metadata": {},
     "source": [
      "./binaries/axe \\"
     ]
    },
    {
     "cell_type": "code",
     "collapsed": false,
     "input": [
      "!/home/kevin/prog/bio/axe/build/bin/axe \\\n",
      "    -b generated_data/barcodes.axe \\\n",
      "    -i generated_data/chrc_singlebarcoded_1mm_il.fq \\\n",
      "    -I out/axe/se_1mm \\\n",
      "    -u out/axe/se_1mm_unbarcoded.ilfq \\\n",
      "    -t out/axe/se_1mm.tab >/dev/null"
     ],
     "language": "python",
     "metadata": {},
     "outputs": []
    },
    {
     "cell_type": "code",
     "collapsed": false,
     "input": [
      "!grep -v '^Barcode' out/axe/se_1mm.tab | cut -f 1,3 | sort -nrk2 |column -t"
     ],
     "language": "python",
     "metadata": {},
     "outputs": []
    },
    {
     "cell_type": "markdown",
     "metadata": {},
     "source": [
      "Even with mismatches,  and nested barcodes, that's perfect."
     ]
    },
    {
     "cell_type": "code",
     "collapsed": false,
     "input": [
      "%%bash\n",
      "for file in out/axe/se_1mm*.ilfq;\n",
      "do\n",
      "    echo -ne \"$file\\t\"\n",
      "    # grab the barcode from the file header\n",
      "    grep '^@ChrC.*/1' $file | cut -d ' ' -f 2 | sort -u |tr '\\n' ' '\n",
      "    # the fancy counting version:\n",
      "    #echo \"$file\"\n",
      "    #grep '^@ChrC.*/1' $file | cut -d ' ' -f 2 | sort |uniq -c| sort -nrk1|sed 's/^/\\t/'\n",
      "    echo\n",
      "done"
     ],
     "language": "python",
     "metadata": {},
     "outputs": []
    },
    {
     "cell_type": "markdown",
     "metadata": {},
     "source": [
      "Fairly nice!"
     ]
    },
    {
     "cell_type": "code",
     "collapsed": false,
     "input": [
      "!grep -P '@ChrC.+/1' out/axe/se_1mm_unbarcoded.ilfq |cut -d ' ' -f 2-3 |sort -u"
     ],
     "language": "python",
     "metadata": {},
     "outputs": []
    }
   ],
   "metadata": {}
  }
 ]
}