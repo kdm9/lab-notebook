{
 "metadata": {
  "name": "",
  "signature": "sha256:e5f08ac7b92df8beb0f9a3c8b5399a29597b42156d5e53cd33ca893a2318fb9d"
 },
 "nbformat": 3,
 "nbformat_minor": 0,
 "worksheets": [
  {
   "cells": [
    {
     "cell_type": "markdown",
     "metadata": {},
     "source": [
      "Benchmarking Axe\n",
      "================\n",
      "\n",
      "This notebook is about benchmarking axe, both in terms of speed and accuracy. It's a work in progress, as I have time. I intend to benchmark axe against several comparable tools:\n",
      "\n",
      " - [sabre](https://github.com/najoshi/sabre)\n",
      " - [flexbar](http://sourceforge.net/projects/flexbar/)"
     ]
    },
    {
     "cell_type": "markdown",
     "metadata": {},
     "source": [
      "Setup\n",
      "-----\n",
      "\n",
      "Lets get started. For reproduceability's sake, lets get versions etc of all tools."
     ]
    },
    {
     "cell_type": "code",
     "collapsed": false,
     "input": [
      "!md5sum binaries/*"
     ],
     "language": "python",
     "metadata": {},
     "outputs": [
      {
       "output_type": "stream",
       "stream": "stdout",
       "text": [
        "68a7c620fb57d842fd63bb875770112c  binaries/axe\r\n",
        "c84171334b193676d650cabeae3e720f  binaries/wgsim\r\n"
       ]
      }
     ],
     "prompt_number": 3
    },
    {
     "cell_type": "code",
     "collapsed": false,
     "input": [
      "!binaries/axe -V"
     ],
     "language": "python",
     "metadata": {},
     "outputs": [
      {
       "output_type": "stream",
       "stream": "stdout",
       "text": [
        "axe Version 0.1.1+git.2a98896\r\n"
       ]
      }
     ],
     "prompt_number": 4
    },
    {
     "cell_type": "code",
     "collapsed": false,
     "input": [
      "!binaries/wgsim"
     ],
     "language": "python",
     "metadata": {},
     "outputs": [
      {
       "output_type": "stream",
       "stream": "stdout",
       "text": [
        "\r\n",
        "Program: wgsim (short read simulator)\r\n",
        "Version: 0.3.1-r13\r\n",
        "Contact: Heng Li <lh3@sanger.ac.uk>\r\n",
        "\r\n",
        "Usage:   wgsim [options] <in.ref.fa> <out.read1.fq> <out.read2.fq>\r\n",
        "\r\n",
        "Options: -e FLOAT      base error rate [0.020]\r\n",
        "         -d INT        outer distance between the two ends [500]\r\n",
        "         -s INT        standard deviation [50]\r\n",
        "         -N INT        number of read pairs [1000000]\r\n",
        "         -1 INT        length of the first read [70]\r\n",
        "         -2 INT        length of the second read [70]\r\n",
        "         -r FLOAT      rate of mutations [0.0010]\r\n",
        "         -R FLOAT      fraction of indels [0.15]\r\n",
        "         -X FLOAT      probability an indel is extended [0.30]\r\n",
        "         -S INT        seed for random generator [-1]\r\n",
        "         -A FLOAT      disgard if the fraction of ambiguous bases higher than FLOAT [0.05]\r\n",
        "         -h            haplotype mode\r\n",
        "\r\n"
       ]
      }
     ],
     "prompt_number": 5
    },
    {
     "cell_type": "markdown",
     "metadata": {},
     "source": [
      "Fake reads\n",
      "----------\n",
      "\n",
      "OK, now we need to make some fake reads. Let's generate reads from the *Arabadopsis thaliana* TAIR10 chloroplast genome (ChrC). This is just so I can distribute a reproducible tarball. We'll generate 10M read pairs of 101bp each, simulating a typical HiSeq 2000+ run. We explicity don't simulate mutation, and simulate a base error rate of 2% (the default)."
     ]
    },
    {
     "cell_type": "code",
     "collapsed": false,
     "input": [
      "!md5sum data/ChrC.fa"
     ],
     "language": "python",
     "metadata": {},
     "outputs": [
      {
       "output_type": "stream",
       "stream": "stdout",
       "text": [
        "e98292ce15367c2ae30ad1b6df1d47f1  data/ChrC.fa\r\n"
       ]
      }
     ],
     "prompt_number": 6
    },
    {
     "cell_type": "code",
     "collapsed": false,
     "input": [
      "!binaries/wgsim -S 16384 -1 101 -2 101 -N 100000 -h -r 0.0 \\\n",
      " data/ChrC.fa generated_data/chrc_raw_r1.fq generated_data/chrc_raw_r2.fq"
     ],
     "language": "python",
     "metadata": {},
     "outputs": [
      {
       "output_type": "stream",
       "stream": "stdout",
       "text": [
        "[wgsim] seed = 16384\r\n",
        "[wgsim_core] calculating the total length of the reference sequence...\r\n",
        "[wgsim_core] 1 sequences, total length: 154478\r\n"
       ]
      }
     ],
     "prompt_number": 7
    },
    {
     "cell_type": "code",
     "collapsed": false,
     "input": [
      "!md5sum generated_data/chrc_raw_*.fq"
     ],
     "language": "python",
     "metadata": {},
     "outputs": [
      {
       "output_type": "stream",
       "stream": "stdout",
       "text": [
        "8cf4c0cf5bd7cf69f5e2b6a3060368d9  generated_data/chrc_raw_r1.fq\r\n"
       ]
      },
      {
       "output_type": "stream",
       "stream": "stdout",
       "text": [
        "debd6a7323f03afca19edcef76353f53  generated_data/chrc_raw_r2.fq\r\n"
       ]
      }
     ],
     "prompt_number": 8
    },
    {
     "cell_type": "markdown",
     "metadata": {},
     "source": [
      "So, we have some raw reads. We now need to add barcodes. Initially, we just add them with no mismatches."
     ]
    },
    {
     "cell_type": "code",
     "collapsed": false,
     "input": [
      "# setup python env\n",
      "import itertools\n",
      "import random\n",
      "from collections import Counter\n",
      "\n",
      "barcodes = [\"GTAA\",\n",
      "    \"TATTTTT\",\n",
      "    \"TAATA\",\n",
      "    \"CCGGATAT\",\n",
      "    \"TTCTG\",\n",
      "    \"CTAGG\",\n",
      "    \"AGGAT\",\n",
      "    \"ATGCCT\",\n",
      "    \"CGCGGAGA\",\n",
      "    \"CCTAG\",]\n",
      "\n",
      "def fqitr(fp):\n",
      "    \"\"\"Fastq iterator. Whoop for python golf! Just gives \"\"\"\n",
      "    for h, s, _, q in itertools.izip(fp, fp, fp, fp):\n",
      "        yield [h.strip(), s.strip(), '+', q.strip()]"
     ],
     "language": "python",
     "metadata": {},
     "outputs": [],
     "prompt_number": 9
    },
    {
     "cell_type": "code",
     "collapsed": true,
     "input": [
      "random.seed(12345)\n",
      "r1fh = open('generated_data/chrc_raw_r1.fq')\n",
      "r2fh = open('generated_data/chrc_raw_r2.fq')\n",
      "outfh = open(\"generated_data/chrc_singlebarcoded_0mm_il.fq\", \"w\")\n",
      "counts = Counter()\n",
      "for r1, r2 in itertools.izip(fqitr(r1fh),  fqitr(r2fh)):\n",
      "    #print r1, r2\n",
      "    barcode = random.choice(barcodes)\n",
      "    counts[barcode] += 1\n",
      "    # Add barcode as a comment to the fastq header\n",
      "    r1[0] = r1[0] + \" \" + barcode\n",
      "    r1[1] = barcode + r1[1]\n",
      "    r1[3] = '2' * len(barcode) + r1[3]\n",
      "    #print r1, r2\n",
      "    outfh.write(\"\\n\".join(r1) + '\\n')\n",
      "    outfh.write(\"\\n\".join(r2) + '\\n')\n",
      "outfh.close()\n",
      "r1fh.close()\n",
      "r2fh.close()\n",
      "for bcd, count in counts.most_common():\n",
      "    print bcd + \"\\t\" + str(count)"
     ],
     "language": "python",
     "metadata": {},
     "outputs": [
      {
       "output_type": "stream",
       "stream": "stdout",
       "text": [
        "GTAA\t10155\n",
        "CGCGGAGA\t10117\n",
        "TTCTG\t10061\n",
        "TATTTTT\t10048\n",
        "TAATA\t10028\n",
        "CCTAG\t10018\n",
        "CCGGATAT\t10003\n",
        "CTAGG\t9912\n",
        "ATGCCT\t9842\n",
        "AGGAT\t9816\n"
       ]
      }
     ],
     "prompt_number": 10
    },
    {
     "cell_type": "code",
     "collapsed": false,
     "input": [
      "!md5sum generated_data/chrc_singlebarcoded_0mm_il.fq"
     ],
     "language": "python",
     "metadata": {},
     "outputs": [
      {
       "output_type": "stream",
       "stream": "stdout",
       "text": [
        "577c032fb7c310158fff9856285433b7  generated_data/chrc_singlebarcoded_0mm_il.fq\r\n"
       ]
      }
     ],
     "prompt_number": 11
    },
    {
     "cell_type": "markdown",
     "metadata": {},
     "source": [
      "So we now have a file, generated_data/chrc_singlebarcoded_0mm_il.fq, that contains the generated reads with a barcode spliced into the R1 read only."
     ]
    },
    {
     "cell_type": "markdown",
     "metadata": {},
     "source": [
      "Test axe in single barcode mode\n",
      "-------------------------------"
     ]
    },
    {
     "cell_type": "code",
     "collapsed": false,
     "input": [
      "!./binaries/axe \\\n",
      "    -b data/fake_barcodes.axe \\\n",
      "    -i generated_data/chrc_singlebarcoded_0mm_il.fq \\\n",
      "    -I out/axe/se_0mm \\\n",
      "    -u out/axe/se_0mm_unbarcoded.ilfq \\\n",
      "    -t out/axe/se_0mm.tab"
     ],
     "language": "python",
     "metadata": {},
     "outputs": [
      {
       "output_type": "stream",
       "stream": "stdout",
       "text": [
        "[process_file] (13:56:41) Starting demultiplexing\r\n"
       ]
      },
      {
       "output_type": "stream",
       "stream": "stdout",
       "text": [
        "13:56:41: Processed 0.1M read pairs\r",
        "\r",
        "[process_file] (13:56:41) Finished demultiplexing\r\n",
        "\r\n",
        "Run Summary:\r\n",
        "Processed 100000 read pairs in 0.1 seconds (863.275k read pairs/sec)\r\n",
        "100000 read pairs contained valid barcodes\r\n",
        "0 read pairs could not be demultiplexed\r\n"
       ]
      }
     ],
     "prompt_number": 12
    },
    {
     "cell_type": "code",
     "collapsed": false,
     "input": [
      "!cat out/axe/se_0mm.tab"
     ],
     "language": "python",
     "metadata": {},
     "outputs": [
      {
       "output_type": "stream",
       "stream": "stdout",
       "text": [
        "Barcode\tSample\tCount\r\n",
        "GTAA\tGTAA\t10155\r\n",
        "TATTTTT\tTATTTTT\t10048\r\n",
        "TAATA\tTAATA\t10028\r\n",
        "CCGGATAT\tCCGGATAT\t10003\r\n",
        "TTCTG\tTTCTG\t10061\r\n",
        "CTAGG\tCTAGG\t9912\r\n",
        "AGGAT\tAGGAT\t9816\r\n",
        "ATGCCT\tATGCCT\t9842\r\n",
        "CGCGGAGA\tCGCGGAGA\t10117\r\n",
        "CCTAG\tCCTAG\t10018\r\n",
        "N\tNo Barcode\t0\r\n"
       ]
      }
     ],
     "prompt_number": 13
    },
    {
     "cell_type": "markdown",
     "metadata": {},
     "source": [
      "Looks familiar, eh! To my eye, that's a perfect match. But wait, there's more! Let's grab out the barcode from the header of the R1 reads, and check what they are!"
     ]
    },
    {
     "cell_type": "code",
     "collapsed": false,
     "input": [
      "%%bash\n",
      "for file in out/axe/se_0mm*.ilfq;\n",
      "do\n",
      "    echo -ne \"$file\\t\"\n",
      "    grep '^@ChrC.*/1' $file | cut -d ' ' -f 2 | sort -u\n",
      "done"
     ],
     "language": "python",
     "metadata": {},
     "outputs": [
      {
       "output_type": "stream",
       "stream": "stdout",
       "text": [
        "out/axe/se_0mm_AGGAT.ilfq\tAGGAT\n",
        "out/axe/se_0mm_ATGCCT.ilfq\tATGCCT\n",
        "out/axe/se_0mm_CCGGATAT.ilfq\tCCGGATAT\n",
        "out/axe/se_0mm_CCTAG.ilfq\tCCTAG\n",
        "out/axe/se_0mm_CGCGGAGA.ilfq\tCGCGGAGA\n",
        "out/axe/se_0mm_CTAGG.ilfq\tCTAGG\n",
        "out/axe/se_0mm_GTAA.ilfq\tGTAA\n",
        "out/axe/se_0mm_TAATA.ilfq\tTAATA\n",
        "out/axe/se_0mm_TATTTTT.ilfq\tTATTTTT\n",
        "out/axe/se_0mm_TTCTG.ilfq\tTTCTG\n",
        "out/axe/se_0mm_unbarcode.ilfq\t"
       ]
      }
     ],
     "prompt_number": 14
    },
    {
     "cell_type": "markdown",
     "metadata": {},
     "source": [
      "Yep, It's a match. Awesome."
     ]
    },
    {
     "cell_type": "markdown",
     "metadata": {},
     "source": [
      "And now for something much the same - mismatches\n",
      "------------------------------------------------\n",
      "\n",
      "If it were that easy, someone else would have done it...\n",
      "\n",
      "So, mismatches. Time for a lot of copy pasting. Basically, we need to mutate a percentage of the reads. If we take the base error rate to be about 1% across all bases of all reads on average (dodgy I know, but bear with me...), then we want to mutate `len(barcode) * 0.01` bases in each barcode (or 1 in every `1/(len(barcode) * 0.01)` barcodes). In my experience, this is an overestimate of the error rate, expecially at the start of reads, but just call it a bad lane :). And we have real data below anyhow..."
     ]
    },
    {
     "cell_type": "code",
     "collapsed": false,
     "input": [
      "def mutate_bcd(seq, dist):                                                             \n",
      "    idx = list(range(len(seq)))                                                 \n",
      "    random.shuffle(idx)                                                         \n",
      "    nts = list(\"AGTC\")                                                          \n",
      "    seq = list(seq)                                                             \n",
      "    for i in range(dist):                                                       \n",
      "        rep = random.choice(nts)                                                \n",
      "        while seq[idx[i]] == rep:                                               \n",
      "            rep = random.choice(nts)                                            \n",
      "        seq[idx[i]] = rep                                                       \n",
      "    return \"\".join(seq)"
     ],
     "language": "python",
     "metadata": {},
     "outputs": [],
     "prompt_number": 15
    },
    {
     "cell_type": "code",
     "collapsed": false,
     "input": [
      "random.seed(12345)\n",
      "r1fh = open('generated_data/chrc_raw_r1.fq')\n",
      "r2fh = open('generated_data/chrc_raw_r2.fq')\n",
      "outfh = open(\"generated_data/chrc_singlebarcoded_1mm_il.fq\", \"w\")\n",
      "counts = Counter()\n",
      "errcount = Counter()\n",
      "\n",
      "for r1, r2 in itertools.izip(fqitr(r1fh),  fqitr(r2fh)):\n",
      "    #print r1, r2\n",
      "    barcode = random.choice(barcodes)\n",
      "    barcode_orig = barcode\n",
      "    if random.random() < (0.06):\n",
      "        errcount[barcode] += 1\n",
      "        barcode = mutate_bcd(barcode, 1)\n",
      "    counts[barcode_orig] += 1\n",
      "    # Add barcode as a comment to the fastq header\n",
      "    r1[0] = r1[0] + \" \" + barcode + ' ' + barcode_orig\n",
      "    r1[1] = barcode + r1[1]\n",
      "    r1[3] = '2' * len(barcode) + r1[3]\n",
      "    #print r1, r2\n",
      "    outfh.write(\"\\n\".join(r1) + '\\n')\n",
      "    outfh.write(\"\\n\".join(r2) + '\\n')\n",
      "outfh.close()\n",
      "r1fh.close()\n",
      "r2fh.close()\n",
      "for bcd, count in counts.most_common():\n",
      "    print bcd + \"\\t\" + str(count) + '\\t' + str(count - errcount[bcd])"
     ],
     "language": "python",
     "metadata": {},
     "outputs": [
      {
       "output_type": "stream",
       "stream": "stdout",
       "text": [
        "TAATA\t10156\t9532\n",
        "CGCGGAGA\t10120\t9529\n",
        "CCGGATAT\t10103\t9480\n",
        "GTAA\t10079\t9457\n",
        "ATGCCT\t9980\t9423\n",
        "CCTAG\t9963\t9314\n",
        "TTCTG\t9951\t9301\n",
        "AGGAT\t9923\t9347\n",
        "TATTTTT\t9909\t9338\n",
        "CTAGG\t9816\t9183\n"
       ]
      }
     ],
     "prompt_number": 36
    },
    {
     "cell_type": "code",
     "collapsed": false,
     "input": [
      "!./binaries/axe \\\n",
      "    -b data/fake_barcodes.axe \\\n",
      "    -i generated_data/chrc_singlebarcoded_1mm_il.fq \\\n",
      "    -I out/axe/se_1mm \\\n",
      "    -u out/axe/se_1mm_unbarcoded.ilfq \\\n",
      "    -t out/axe/se_1mm.tab"
     ],
     "language": "python",
     "metadata": {},
     "outputs": [
      {
       "output_type": "stream",
       "stream": "stdout",
       "text": [
        "[process_file] (14:02:58) Starting demultiplexing\r\n"
       ]
      },
      {
       "output_type": "stream",
       "stream": "stdout",
       "text": [
        "14:02:58: Processed 0.1M read pairs\r",
        "\r",
        "[process_file] (14:02:58) Finished demultiplexing\r\n",
        "\r\n",
        "Run Summary:\r\n",
        "Processed 100000 read pairs in 0.1 seconds (849.697k read pairs/sec)\r\n",
        "98868 read pairs contained valid barcodes\r\n",
        "1132 read pairs could not be demultiplexed\r\n"
       ]
      }
     ],
     "prompt_number": 37
    },
    {
     "cell_type": "code",
     "collapsed": false,
     "input": [
      "!grep -v '^Barcode' out/axe/se_1mm.tab | sort -nrk3"
     ],
     "language": "python",
     "metadata": {},
     "outputs": [
      {
       "output_type": "stream",
       "stream": "stdout",
       "text": [
        "CGCGGAGA\tCGCGGAGA\t10044\r\n",
        "CCGGATAT\tCCGGATAT\t10018\r\n",
        "TAATA\tTAATA\t9989\r\n",
        "GTAA\tGTAA\t9968\r\n",
        "ATGCCT\tATGCCT\t9890\r\n",
        "CCTAG\tCCTAG\t9831\r\n",
        "TATTTTT\tTATTTTT\t9830\r\n",
        "AGGAT\tAGGAT\t9810\r\n",
        "TTCTG\tTTCTG\t9804\r\n",
        "CTAGG\tCTAGG\t9684\r\n",
        "N\tNo Barcode\t1132\r\n"
       ]
      }
     ],
     "prompt_number": 38
    },
    {
     "cell_type": "markdown",
     "metadata": {},
     "source": [
      "A bit less impressive. Let's check for false assignments, which is what really matters."
     ]
    },
    {
     "cell_type": "code",
     "collapsed": false,
     "input": [
      "%%bash\n",
      "for file in out/axe/se_1mm*.ilfq;\n",
      "do\n",
      "    echo -ne \"$file\\t\"\n",
      "    # grab the barcode from the file header\n",
      "    grep '^@ChrC.*/1' $file | cut -d ' ' -f 2 | sort -u | tr '\\n' ' '\n",
      "    echo\n",
      "done"
     ],
     "language": "python",
     "metadata": {},
     "outputs": [
      {
       "output_type": "stream",
       "stream": "stdout",
       "text": [
        "out/axe/se_1mm_AGGAT.ilfq\tAAGAT ACGAT AGAAT AGCAT AGGAA AGGAC AGGAG AGGAT AGGCT AGGGT AGGTT AGTAT ATGAT \n",
        "out/axe/se_1mm_ATGCCT.ilfq\tAAGCCT ACGCCT AGGCCT ATACCT ATCCCT ATGACT ATGCAT ATGCCA ATGCCC ATGCCG ATGCCT ATGCGT ATGCTT ATGGCT ATGTCT ATTCCT \n",
        "out/axe/se_1mm_CCGGATAT.ilfq\tCAGGATAT CCAGATAT CCCGATAT CCGAATAT CCGCATAT CCGGAAAT CCGGACAT CCGGAGAT CCGGATAA CCGGATAC CCGGATAG CCGGATAT CCGGATCT CCGGATGT CCGGATTT CCGGCTAT CCGGGTAT CCGGTTAT CCGTATAT CCTGATAT CGGGATAT CTGGATAT \n",
        "out/axe/se_1mm_CCTAG.ilfq\tCATAG CCAAG CCCAG CCGAG CCTAA CCTAC CCTAG CCTAT CCTCG CCTGG CCTTG CGTAG CTTAG \n",
        "out/axe/se_1mm_CGCGGAGA.ilfq\tCACGGAGA CCCGGAGA CGAGG CGAGGAGA CGCAGAGA CGCCGAGA CGCGAAGA CGCGCAGA CGCGGAAA CGCGGACA CGCGGAGA CGCGGAGC CGCGGAGG CGCGGAGT CGCGGATA CGCGGCGA CGCGGGGA CGCGGTGA CGCGTAGA CGCTGAGA CGGGGAGA CGTGGAGA CTCGGAGA \n",
        "out/axe/se_1mm_CTAGG.ilfq\tCAAGG CCAGG CGAGG CTAA CTAAG CTACG CTAGA CTAGC CTAGG CTAGT CTATG CTCGG CTGGG CTTGG \n",
        "out/axe/se_1mm_GTAA.ilfq\tGAAA GCAA GGAA GTAA GTAC GTAG GTAGG GTAT GTCA GTGA GTTA \n",
        "out/axe/se_1mm_TAATA.ilfq\tTAAAA TAACA TAAGA TAATA TAATC TAATG TAATT TACTA TAGTA TATTA TCATA TGATA TTATA \n",
        "out/axe/se_1mm_TATTTTT.ilfq\tTAATT TAATTTT TACTTTT TAGTTTT TATATTT TATCTTT TATGTTT TATTA TATTATT TATTCTT TATTGTT TATTTAT TATTTCT TATTTGT TATTTTA TATTTTC TATTTTG TATTTTT TCTTTTT TGTTTTT TTTTTTT \n",
        "out/axe/se_1mm_TTCTG.ilfq\tTACTG TCCTG TGCTG TTATG TTCAG TTCCG TTCGG TTCTA TTCTC TTCTG TTCTT TTGTG TTTTG \n",
        "out/axe/se_1mm_unbarcoded.ilfq\tAAATA AATTTTT ACGGATAT ACTAG AGCGGAGA ATAA ATAGG ATCTG CAATA CATTTTT CGAGG CGGAT CTAA CTCGG CTCTG CTGCCT GAATA GATTTTT GCGGATAT GCTAG GGCGGAGA GGGAT GTCTG GTGCCT TAATT TATTA TCGGATAT TCTAG TGCGGAGA TGGAT TTAA TTAGG TTGCCT \n"
       ]
      }
     ],
     "prompt_number": 41
    },
    {
     "cell_type": "markdown",
     "metadata": {},
     "source": [
      "Whelp... This ain't good, and in fact is a major bug."
     ]
    },
    {
     "cell_type": "code",
     "collapsed": false,
     "input": [],
     "language": "python",
     "metadata": {},
     "outputs": []
    }
   ],
   "metadata": {}
  }
 ]
}