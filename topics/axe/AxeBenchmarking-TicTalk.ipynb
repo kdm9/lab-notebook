{
 "metadata": {
  "name": "",
  "signature": "sha256:5edb38832eb29ed67742d5664353f3ba9057980b79592daa571e3d7b2d9092b3"
 },
 "nbformat": 3,
 "nbformat_minor": 0,
 "worksheets": [
  {
   "cells": [
    {
     "cell_type": "markdown",
     "metadata": {},
     "source": [
      "Benchmarking Axe\n",
      "================\n",
      "\n",
      "This notebook is about benchmarking axe, both in terms of speed and accuracy. It's a work in progress, as I have time. I intend to benchmark axe against several comparable tools:\n",
      "\n",
      " - [sabre](https://github.com/najoshi/sabre) \n",
      " - [flexbar](http://sourceforge.net/projects/flexbar/)\n",
      " - [fastx_barcode_splitter.pl](abcde)"
     ]
    },
    {
     "cell_type": "markdown",
     "metadata": {},
     "source": [
      "Setup\n",
      "-----\n",
      "\n",
      "Lets get started. For reproduceability's sake, lets get versions etc of all tools.\n",
      "\n",
      "These are:\n",
      "\n",
      "- axe, built from version `0.1.4+git=9e8af9e` with libqes version `0.1.3 (gebe6f36)`. \n",
      "- sabre, build from git revision `039a55e`, on github [here](https://github.com/najoshi/sabre/tree/039a55e500ba07b7e6432ea6ec2ddcfb3471d949)\n",
      "- pairs, from Vince Buffalo's `seqqs` tool, built from git revision `3d05375`, on github [here](https://github.com/vsbuffalo/seqqs/tree/3d05375004c26c29b15e390c7cd904da8dc3d78c)"
     ]
    },
    {
     "cell_type": "markdown",
     "metadata": {},
     "source": [
      "#### setup python env"
     ]
    },
    {
     "cell_type": "code",
     "collapsed": false,
     "input": [
      "%pylab inline\n",
      "import pandas as pd\n",
      "import itertools\n",
      "import random\n",
      "from collections import Counter\n",
      "import glob\n",
      "import re"
     ],
     "language": "python",
     "metadata": {},
     "outputs": [
      {
       "output_type": "stream",
       "stream": "stdout",
       "text": [
        "Populating the interactive namespace from numpy and matplotlib\n"
       ]
      }
     ],
     "prompt_number": 2
    },
    {
     "cell_type": "markdown",
     "metadata": {},
     "source": [
      "#### Define common python functions"
     ]
    },
    {
     "cell_type": "code",
     "collapsed": false,
     "input": [
      "def mutate_bcd(seq, dist):\n",
      "    \"\"\"Mutates seq by dist nucleotides\"\"\"\n",
      "    idx = list(range(len(seq)))                                                 \n",
      "    random.shuffle(idx)                                                         \n",
      "    nts = list(\"AGTC\")                                                          \n",
      "    seq = list(seq)                                                             \n",
      "    for i in range(dist):                                                       \n",
      "        rep = random.choice(nts)                                                \n",
      "        while seq[idx[i]] == rep:                                               \n",
      "            rep = random.choice(nts)                                            \n",
      "        seq[idx[i]] = rep                                                       \n",
      "    return \"\".join(seq)\n",
      "\n",
      "def fqitr(fp):\n",
      "    \"\"\"Fastq iterator. Whoop for python golf! Just\n",
      "       gives the 4 bits of it stripped, and avoids depending on\n",
      "       biopython or pycogent\"\"\"\n",
      "    for hdr, seq, _, qual in itertools.izip(fp, fp, fp, fp):\n",
      "        yield [hdr.strip(), seq.strip(), '+', qual.strip()]\n",
      "\n",
      "\n",
      "def get_true_bcd_from_header(hdr):\n",
      "    return hdr.strip().split(' ')[2]"
     ],
     "language": "python",
     "metadata": {},
     "outputs": [],
     "prompt_number": 3
    },
    {
     "cell_type": "markdown",
     "metadata": {},
     "source": [
      "#### Clean up workspace\n",
      "We should clean up all previous runs. This means removing things from `./generated_data`, and `./out` then `mkdir`ing them again\n"
     ]
    },
    {
     "cell_type": "code",
     "collapsed": false,
     "input": [
      "%%bash\n",
      "test -d generated_data/ && rm -r generated_data/\n",
      "test -d out/ && rm -r out/\n",
      "mkdir generated_data/\n",
      "mkdir out/\n",
      "mkdir out/axe\n",
      "mkdir out/sabre\n",
      "mkdir out/fastx\n",
      "mkdir out/flexbar"
     ],
     "language": "python",
     "metadata": {},
     "outputs": [],
     "prompt_number": 4
    },
    {
     "cell_type": "markdown",
     "metadata": {},
     "source": [
      "#### Check tool versions"
     ]
    },
    {
     "cell_type": "code",
     "collapsed": false,
     "input": [
      "!binaries/axe -V\n",
      "!binaries/wgsim 2>&1 | head -n 3"
     ],
     "language": "python",
     "metadata": {},
     "outputs": [
      {
       "output_type": "stream",
       "stream": "stdout",
       "text": [
        "axe Version 0.1.4+git=9e8af9e\r\n"
       ]
      },
      {
       "output_type": "stream",
       "stream": "stdout",
       "text": [
        "\r\n",
        "Program: wgsim (short read simulator)\r\n",
        "Version: 0.3.1-r13\r\n"
       ]
      }
     ],
     "prompt_number": 5
    },
    {
     "cell_type": "markdown",
     "metadata": {},
     "source": [
      "Fake reads\n",
      "----------\n",
      "\n",
      "OK, now we need to make some fake reads. Let's generate reads from the *Arabadopsis thaliana* TAIR10 chloroplast genome (ChrC). This is just so I can distribute a reproducible tarball. We'll generate 1M read pairs of 101bp each, simulating a typical HiSeq 2000+ run. We explicity don't simulate mutation, and simulate a base error rate of 2% (the default)."
     ]
    },
    {
     "cell_type": "code",
     "collapsed": false,
     "input": [
      "n_reads = 250000"
     ],
     "language": "python",
     "metadata": {},
     "outputs": [],
     "prompt_number": 6
    },
    {
     "cell_type": "code",
     "collapsed": false,
     "input": [
      "!md5sum data/ChrC.fa"
     ],
     "language": "python",
     "metadata": {},
     "outputs": [
      {
       "output_type": "stream",
       "stream": "stdout",
       "text": [
        "e98292ce15367c2ae30ad1b6df1d47f1  data/ChrC.fa\r\n"
       ]
      }
     ],
     "prompt_number": 7
    },
    {
     "cell_type": "code",
     "collapsed": false,
     "input": [
      "!binaries/wgsim \\\n",
      "    -S 16384 \\\n",
      "    -1 10 -2 10 \\\n",
      "    -N $n_reads \\\n",
      "    -h -r 0.0 \\\n",
      "    data/ChrC.fa \\\n",
      "    generated_data/chrc_raw_r1.fq \\\n",
      "    generated_data/chrc_raw_r2.fq"
     ],
     "language": "python",
     "metadata": {},
     "outputs": [
      {
       "output_type": "stream",
       "stream": "stdout",
       "text": [
        "[wgsim] seed = 16384\r\n",
        "[wgsim_core] calculating the total length of the reference sequence...\r\n",
        "[wgsim_core] 1 sequences, total length: 154478\r\n"
       ]
      }
     ],
     "prompt_number": 8
    },
    {
     "cell_type": "markdown",
     "metadata": {},
     "source": [
      "#### Ensure that we've generated the right reads\n",
      "The output of this (with 1M reads) should be:\n",
      "```\n",
      "f08e3626d6c9dad5bde09b69eb8cfe8c  generated_data/chrc_raw_r1.fq\n",
      "ede4386cf0d0b46fc09e3883f5583b5c  generated_data/chrc_raw_r2.fq\n",
      "```\n",
      "If the below cell does't output this, you milage may vary, but everything should still work, provided the files aren't empty."
     ]
    },
    {
     "cell_type": "code",
     "collapsed": false,
     "input": [
      "!md5sum generated_data/chrc_raw_*.fq"
     ],
     "language": "python",
     "metadata": {},
     "outputs": [
      {
       "output_type": "stream",
       "stream": "stdout",
       "text": [
        "4eddd4dcd7641750059202d084ad61e7  generated_data/chrc_raw_r1.fq\r\n",
        "65f63e0d31229c3c7667eb8a814bb07c  generated_data/chrc_raw_r2.fq\r\n"
       ]
      }
     ],
     "prompt_number": 9
    },
    {
     "cell_type": "markdown",
     "metadata": {},
     "source": [
      "#### Adding simple barcodes\n",
      "So, we have some raw reads. We now need to add barcodes. Initially, we just add them with no mismatches. First, we define the barcodes we'll use and write both a AXE barcode file and a sabre config file"
     ]
    },
    {
     "cell_type": "code",
     "collapsed": false,
     "input": [
      "barcodes = [\n",
      "    \"AAAA\",\n",
      "    \"CCCC\",\n",
      "    \"GGGG\",\n",
      "    \"TTTT\",\n",
      "    ]\n",
      "\n",
      "\n",
      "with open(\"generated_data/simple_barcodes.axe\", \"w\") as bcd_fh:\n",
      "    for iii, bcd  in enumerate(barcodes):\n",
      "        bcd_fh.write(\"{}\\t{}\\n\".format(bcd, bcd))\n",
      "\n",
      "with open(\"generated_data/simple_barcodes.flexbar\", \"w\") as bcd_fh:\n",
      "    for iii, bcd  in enumerate(barcodes):\n",
      "        bcd_fh.write(\">{}\\n{}\\n\".format(bcd, bcd))\n",
      "\n",
      "def make_sabre_se(analysis_name):\n",
      "    with open(\"generated_data/simple_barcodes.sabre\", \"w\") as bcd_fh:\n",
      "        for iii, bcd  in enumerate(barcodes):\n",
      "            bcd_fh.write(\"{}\\tout/sabre/{}_{}.fq\\n\".format(\n",
      "                        bcd, analysis_name, iii))\n",
      "\n",
      "def make_sabre_pe(analysis_name):\n",
      "    with open(\"generated_data/simple_barcodes.sabre\", \"w\") as bcd_fh:\n",
      "        for iii, bcd  in enumerate(barcodes):\n",
      "            bcd_fh.write(\"{}\\tout/sabre/{}_{}_R1.fq\\tout/sabre/{}_{}_R2.fq\\n\".format(\n",
      "                        bcd, analysis_name, iii, analysis_name, iii))\n",
      "\n",
      "\n",
      "make_sabre_se(\"simple_0mm\")"
     ],
     "language": "python",
     "metadata": {},
     "outputs": [],
     "prompt_number": 10
    },
    {
     "cell_type": "code",
     "collapsed": false,
     "input": [
      "random.seed(16384)\n",
      "\n",
      "r1fh = open('generated_data/chrc_raw_r1.fq')\n",
      "r2fh = open('generated_data/chrc_raw_r2.fq')\n",
      "outfh = open(\"generated_data/chrc_singlebarcoded_0mm_il.fq\", \"w\")\n",
      "counts = Counter()\n",
      "for r1, r2 in itertools.izip(fqitr(r1fh),  fqitr(r2fh)):\n",
      "    for read in (r1, r2):\n",
      "        # grab a barcode\n",
      "        barcode = random.choice(barcodes)\n",
      "        counts[barcode] += 1\n",
      "        # Add barcode as a comment to the fastq header\n",
      "        read[0] = read[0] + \" \" + barcode + \" \" + barcode\n",
      "        read[1] = barcode + read[1]\n",
      "        read[3] = '2' * len(barcode) + read[3]\n",
      "        outfh.write(\"\\n\".join(read) + '\\n')\n",
      "outfh.close()\n",
      "r1fh.close()\n",
      "r2fh.close()\n",
      "for bcd, count in counts.most_common():\n",
      "    print bcd + \"\\t\" + str(count)"
     ],
     "language": "python",
     "metadata": {},
     "outputs": [
      {
       "output_type": "stream",
       "stream": "stdout",
       "text": [
        "TTTT\t125212\n",
        "CCCC\t125200\n",
        "GGGG\t124847\n",
        "AAAA\t124741\n"
       ]
      }
     ],
     "prompt_number": 11
    },
    {
     "cell_type": "code",
     "collapsed": true,
     "input": [
      "# hack the counter into a pandas dataframe\n",
      "real_dct = dict(counts.most_common())\n",
      "real_dct[\"No Barcode\"] = 0\n",
      "real_df = pd.DataFrame({\"Reality\":real_dct.values()},\n",
      "                       index=real_dct.keys())"
     ],
     "language": "python",
     "metadata": {},
     "outputs": [],
     "prompt_number": 12
    },
    {
     "cell_type": "code",
     "collapsed": false,
     "input": [
      "!md5sum generated_data/chrc_singlebarcoded_0mm_il.fq"
     ],
     "language": "python",
     "metadata": {},
     "outputs": [
      {
       "output_type": "stream",
       "stream": "stdout",
       "text": [
        "ee56595eda0a9df961e767b670b7a930  generated_data/chrc_singlebarcoded_0mm_il.fq\r\n"
       ]
      }
     ],
     "prompt_number": 13
    },
    {
     "cell_type": "markdown",
     "metadata": {},
     "source": [
      "So we now have a file, generated_data/chrc_singlebarcoded_0mm_il.fq, that contains the generated reads with a barcode spliced into the R1 read only."
     ]
    },
    {
     "cell_type": "markdown",
     "metadata": {},
     "source": [
      "Cross-compare axe in single barcode mode\n",
      "----------------------------------------"
     ]
    },
    {
     "cell_type": "code",
     "collapsed": false,
     "input": [
      "%%bash\n",
      "/usr/bin/time -f \"U:%U S:%S W:%E RSS:%M\" binaries/axe \\\n",
      "    -b generated_data/simple_barcodes.axe \\\n",
      "    -f generated_data/chrc_singlebarcoded_0mm_il.fq \\\n",
      "    -F out/axe/se_0mm \\\n",
      "    -t out/axe/se_0mm.tab"
     ],
     "language": "python",
     "metadata": {},
     "outputs": [
      {
       "output_type": "stream",
       "stream": "stderr",
       "text": [
        "[process_file] (13:12:41) Starting demultiplexing\n",
        "13:12:41: Processed 0.1M reads\r",
        "13:12:41: Processed 0.2M reads\r",
        "13:12:41: Processed 0.3M reads\r",
        "13:12:42: Processed 0.4M reads\r",
        "13:12:42: Processed 0.5M reads\r",
        "\r",
        "[process_file] (13:12:42) Finished demultiplexing\n",
        "\n",
        "Run Summary:\n",
        "Processed 500000 reads in 0.3 seconds (1571.423k reads/sec)\n",
        "500000 reads contained valid barcodes\n",
        "0 reads could not be demultiplexed\n",
        "U:0.29 S:0.02 W:0:00.32 RSS:3012\n"
       ]
      }
     ],
     "prompt_number": 14
    },
    {
     "cell_type": "code",
     "collapsed": false,
     "input": [
      "#!cat out/axe/se_0mm.tab"
     ],
     "language": "python",
     "metadata": {},
     "outputs": [],
     "prompt_number": 15
    },
    {
     "cell_type": "code",
     "collapsed": false,
     "input": [
      "%%bash --out sabre_se_out\n",
      "\n",
      "/usr/bin/time -f \"U:%U S:%S W:%E RSS:%M\" binaries/sabre se \\\n",
      "    -f generated_data/chrc_singlebarcoded_0mm_il.fq \\\n",
      "    -b generated_data/simple_barcodes.sabre \\\n",
      "    -u out/sabre/se_0mm_unknown.fastq"
     ],
     "language": "python",
     "metadata": {},
     "outputs": [
      {
       "output_type": "stream",
       "stream": "stderr",
       "text": [
        "U:0.38 S:0.02 W:0:00.41 RSS:1520\n"
       ]
      }
     ],
     "prompt_number": 16
    },
    {
     "cell_type": "code",
     "collapsed": false,
     "input": [
      "#print sabre_se_out"
     ],
     "language": "python",
     "metadata": {},
     "outputs": [],
     "prompt_number": 17
    },
    {
     "cell_type": "code",
     "collapsed": true,
     "input": [
      "%%bash --out fastx_out\n",
      "cat generated_data/chrc_singlebarcoded_0mm_il.fq |\n",
      "/usr/bin/time -f \"U:%U S:%S W:%E RSS:%M\" fastx_barcode_splitter.pl \\\n",
      "    --bcfile generated_data/simple_barcodes.axe \\\n",
      "    --bol --prefix out/fastx/se_0mm_ --suffix _il.fq"
     ],
     "language": "python",
     "metadata": {},
     "outputs": [
      {
       "output_type": "stream",
       "stream": "stderr",
       "text": [
        "U:3.50 S:0.03 W:0:03.58 RSS:7412\n"
       ]
      }
     ],
     "prompt_number": 18
    },
    {
     "cell_type": "code",
     "collapsed": false,
     "input": [
      "# print fastx_out"
     ],
     "language": "python",
     "metadata": {},
     "outputs": [],
     "prompt_number": 19
    },
    {
     "cell_type": "code",
     "collapsed": false,
     "input": [
      "%%bash --out flexbar_out\n",
      "/usr/bin/time -f \"U:%U S:%S W:%E RSS:%M\" flexbar -m 1 \\\n",
      "    -r generated_data/chrc_singlebarcoded_0mm_il.fq \\\n",
      "    -t out/flexbar/se_0mm_ \\\n",
      "    -b generated_data/simple_barcodes.flexbar"
     ],
     "language": "python",
     "metadata": {},
     "outputs": [
      {
       "output_type": "stream",
       "stream": "stderr",
       "text": [
        "U:11.02 S:0.06 W:0:11.28 RSS:4616\n"
       ]
      }
     ],
     "prompt_number": 20
    },
    {
     "cell_type": "code",
     "collapsed": false,
     "input": [
      "#print flexbar_out"
     ],
     "language": "python",
     "metadata": {},
     "outputs": [],
     "prompt_number": 21
    },
    {
     "cell_type": "markdown",
     "metadata": {},
     "source": [
      "And now for something much the same - mismatches\n",
      "------------------------------------------------\n",
      "\n",
      "If it were that easy, someone else would have done it...\n",
      "\n",
      "So, mismatches. Time for a lot of copy pasting. Basically, we need to mutate a percentage of the reads. If we take the base error rate to be about 1% across all bases of all reads on average (dodgy I know, but bear with me...), then we want to mutate `len(barcode) * 0.01` bases in each barcode (or 1 in every `1/(len(barcode) * 0.01)` barcodes). In my experience, this is an overestimate of the error rate, expecially at the start of reads, but just call it a bad lane :). And we have real data below anyhow..."
     ]
    },
    {
     "cell_type": "code",
     "collapsed": false,
     "input": [
      "random.seed(12345)\n",
      "r1fh = open('generated_data/chrc_raw_r1.fq')\n",
      "r2fh = open('generated_data/chrc_raw_r2.fq')\n",
      "outfh = open(\"generated_data/chrc_singlebarcoded_1mm_il.fq\", \"w\")\n",
      "counts = Counter()\n",
      "errcount = Counter()\n",
      "for r1, r2 in itertools.izip(fqitr(r1fh),  fqitr(r2fh)):\n",
      "     for read in (r1, r2):\n",
      "        # grab a barcode\n",
      "        barcode = random.choice(barcodes)\n",
      "        barcode_orig = barcode\n",
      "        if random.random() < (0.5):\n",
      "            errcount[barcode] += 1\n",
      "            barcode = mutate_bcd(barcode, 1)\n",
      "        counts[barcode_orig] += 1\n",
      "        # Add barcode as a comment to the fastq header\n",
      "        read[0] = read[0] + \" \" + barcode + \" \" + barcode_orig\n",
      "        read[1] = barcode + read[1]\n",
      "        read[3] = '2' * len(barcode) + read[3]\n",
      "        outfh.write(\"\\n\".join(read) + '\\n')\n",
      "outfh.close()\n",
      "r1fh.close()\n",
      "r2fh.close()\n",
      "for bcd in barcodes:\n",
      "    print bcd.ljust(9) + \"\\t\" + str(counts[bcd])"
     ],
     "language": "python",
     "metadata": {},
     "outputs": [
      {
       "output_type": "stream",
       "stream": "stdout",
       "text": [
        "AAAA     \t124905\n",
        "CCCC     \t124633\n",
        "GGGG     \t125819\n",
        "TTTT     \t124643\n"
       ]
      }
     ],
     "prompt_number": 22
    },
    {
     "cell_type": "code",
     "collapsed": false,
     "input": [
      "%%bash\n",
      "/usr/bin/time -f \"U:%U S:%S W:%E RSS:%M\" binaries/axe -m 1 \\\n",
      "    -b generated_data/simple_barcodes.axe \\\n",
      "    -f generated_data/chrc_singlebarcoded_1mm_il.fq \\\n",
      "    -F out/axe/se_1mm \\\n",
      "    -t out/axe/se_1mm.tab"
     ],
     "language": "python",
     "metadata": {},
     "outputs": [
      {
       "output_type": "stream",
       "stream": "stderr",
       "text": [
        "[process_file] (13:13:01) Starting demultiplexing\n",
        "13:13:01: Processed 0.1M reads\r",
        "13:13:01: Processed 0.2M reads\r",
        "13:13:01: Processed 0.3M reads\r",
        "13:13:01: Processed 0.4M reads\r",
        "13:13:01: Processed 0.5M reads\r",
        "\r",
        "[process_file] (13:13:01) Finished demultiplexing\n",
        "\n",
        "Run Summary:\n",
        "Processed 500000 reads in 0.3 seconds (1445.864k reads/sec)\n",
        "500000 reads contained valid barcodes\n",
        "0 reads could not be demultiplexed\n",
        "U:0.31 S:0.02 W:0:00.34 RSS:2972\n"
       ]
      }
     ],
     "prompt_number": 23
    },
    {
     "cell_type": "code",
     "collapsed": false,
     "input": [
      "#!cat out/axe/se_1mm.tab"
     ],
     "language": "python",
     "metadata": {},
     "outputs": [],
     "prompt_number": 24
    },
    {
     "cell_type": "code",
     "collapsed": false,
     "input": [
      "%%bash --out sabre_se_out\n",
      "\n",
      "/usr/bin/time -f \"U:%U S:%S W:%E RSS:%M\" binaries/sabre se -m 1 \\\n",
      "    -f generated_data/chrc_singlebarcoded_1mm_il.fq \\\n",
      "    -b generated_data/simple_barcodes.sabre \\\n",
      "    -u out/sabre/se_1mm_unknown.fastq"
     ],
     "language": "python",
     "metadata": {},
     "outputs": [
      {
       "output_type": "stream",
       "stream": "stderr",
       "text": [
        "U:0.37 S:0.04 W:0:00.55 RSS:1652\n"
       ]
      }
     ],
     "prompt_number": 25
    },
    {
     "cell_type": "code",
     "collapsed": false,
     "input": [
      "#print sabre_se_out"
     ],
     "language": "python",
     "metadata": {},
     "outputs": [],
     "prompt_number": 26
    },
    {
     "cell_type": "markdown",
     "metadata": {},
     "source": [
      "Results with mismatches\n",
      "-----------------------\n",
      "\n",
      "barcode | sabre |\taxe\n",
      "--- | --- | ---\n",
      "AAAA |\t124905 |\t124905\n",
      "CCCC |\t124633 |\t124633\n",
      "GGGG |\t125819 |\t125819\n",
      "TTTT |\t124643 |\t124643\n",
      "\n",
      "\n",
      "Even with mismatches,  and nested barcodes, that's perfect."
     ]
    },
    {
     "cell_type": "markdown",
     "metadata": {},
     "source": [
      "GBS-like Barcoding\n",
      "==================\n",
      "\n",
      "We want to simulate GBS, so we need to add RE sites to the start of our random reads from above.\n",
      "\n",
      "I'm going to pilfer wholesale the code above."
     ]
    },
    {
     "cell_type": "code",
     "collapsed": false,
     "input": [
      "barcodes = [\n",
      "    \"AAAA\",\n",
      "    \"AAAAAAAA\",\n",
      "    \"CCCC\",\n",
      "    \"CCCCCCCC\",\n",
      "    \"GGGG\",\n",
      "    \"GGGGGGGG\",\n",
      "    \"TTTT\",\n",
      "    \"TTTTTTTT\",\n",
      "    ]\n",
      "\n",
      "\n",
      "random.seed(12345)\n",
      "r1fh = open('generated_data/chrc_raw_r1.fq')\n",
      "r2fh = open('generated_data/chrc_raw_r2.fq')\n",
      "\n",
      "counts = Counter()\n",
      "resite = \"TGCAG\"\n",
      "\n",
      "with open(\"generated_data/gbs_barcodes.axe\", \"w\") as bcd_fh:\n",
      "    for iii, bcd  in enumerate(barcodes):\n",
      "        bcd_fh.write(\"{}\\t{}\\t{}\\n\".format(bcd, bcd, bcd))\n",
      "\n",
      "outfh = open(\"generated_data/chrc_GBS_1mm_il.fq\", \"w\")\n",
      "for r1, r2 in itertools.izip(fqitr(r1fh),  fqitr(r2fh)):\n",
      "    # grab a barcode\n",
      "    barcode = random.choice(barcodes)\n",
      "    counts[barcode] += 1\n",
      "    barcode_orig = barcode\n",
      "    if random.random() < (0.5):\n",
      "        barcode = mutate_bcd(barcode, 1)\n",
      "\n",
      "    for read in (r1, r2):\n",
      "        our_re = resite\n",
      "        # Barcode is commonly mutated at a greater rate in our data\n",
      "        if random.random() < (0.2):\n",
      "            our_re = mutate_bcd(resite, 1)\n",
      "        # Add barcode as a comment to the fastq header\n",
      "        read[0] = read[0] + \" \" + barcode + \" \" + barcode_orig\n",
      "        read[1] = barcode + our_re + read[1]\n",
      "        read[3] = '2' * (len(barcode) + len(our_re)) + read[3]\n",
      "        outfh.write(\"\\n\".join(read) + '\\n')\n",
      "outfh.close()\n",
      "r1fh.close()\n",
      "r2fh.close()\n",
      "for bcd in barcodes:\n",
      "    print bcd.ljust(9) + \"\\t\" + str(counts[bcd])"
     ],
     "language": "python",
     "metadata": {},
     "outputs": [
      {
       "output_type": "stream",
       "stream": "stdout",
       "text": [
        "AAAA     \t31285\n",
        "AAAAAAAA \t31313\n",
        "CCCC     \t31280\n",
        "CCCCCCCC \t31114\n",
        "GGGG     \t31236\n",
        "GGGGGGGG \t31499\n",
        "TTTT     \t31147\n",
        "TTTTTTTT \t31126\n"
       ]
      }
     ],
     "prompt_number": 27
    },
    {
     "cell_type": "code",
     "collapsed": false,
     "input": [
      "%%bash\n",
      "/usr/bin/time -f \"U:%U S:%S W:%E RSS:%M\" binaries/axe \\\n",
      "    -c \\\n",
      "    -b generated_data/gbs_barcodes.axe \\\n",
      "    -i generated_data/chrc_GBS_1mm_il.fq \\\n",
      "    -I out/axe/gbs_1mm \\\n",
      "    -t out/axe/gbs_1mm.tab"
     ],
     "language": "python",
     "metadata": {},
     "outputs": [
      {
       "output_type": "stream",
       "stream": "stderr",
       "text": [
        "[process_file] (13:13:06) Starting demultiplexing\n",
        "13:13:06: Processed 0.1M read pairs\r",
        "13:13:06: Processed 0.2M read pairs\r",
        "\r",
        "[process_file] (13:13:06) Finished demultiplexing\n",
        "\n",
        "Run Summary:\n",
        "Processed 250000 read pairs in 0.4 seconds (709.721k read pairs/sec)\n",
        "250000 read pairs contained valid barcodes\n",
        "0 read pairs could not be demultiplexed\n",
        "U:0.32 S:0.02 W:0:00.35 RSS:2920\n"
       ]
      }
     ],
     "prompt_number": 28
    },
    {
     "cell_type": "code",
     "collapsed": false,
     "input": [
      "#!cat out/axe/gbs_1mm.tab |column -t"
     ],
     "language": "python",
     "metadata": {},
     "outputs": [],
     "prompt_number": 29
    },
    {
     "cell_type": "markdown",
     "metadata": {},
     "source": [
      "This looks like a perfect demultiplexing again."
     ]
    },
    {
     "cell_type": "markdown",
     "metadata": {},
     "source": [
      "Cross-comparison with Sabre\n",
      "---------------------------\n",
      "\n",
      "\n",
      "Sabre doesn't support different lengthed barcodes, so we have to do the dodgy and just \"fill in\" the smaller ones with restriction site:"
     ]
    },
    {
     "cell_type": "code",
     "collapsed": false,
     "input": [
      "maxlen = max(map(len, barcodes))\n",
      "\n",
      "with open(\"generated_data/fixed_len_barcodes.sabre\", \"w\") as bcd_fh:\n",
      "    for iii, bcd  in enumerate(barcodes):\n",
      "        if len(bcd) < maxlen:\n",
      "            re_len_needed = maxlen - len(bcd)\n",
      "            bcd =  bcd + resite[0:re_len_needed]\n",
      "        bcd_fh.write(\"{}\\tout/sabre/gbs_1mm_{}.fq\\n\".format(bcd, iii))\n"
     ],
     "language": "python",
     "metadata": {},
     "outputs": [],
     "prompt_number": 30
    },
    {
     "cell_type": "markdown",
     "metadata": {},
     "source": [
      "we'll run sabre with the simulated gbs data with 1 mismatch as we did for axe above, but first we have to split the read file\n"
     ]
    },
    {
     "cell_type": "code",
     "collapsed": false,
     "input": [
      "%%bash --out sabre_se_out\n",
      "\n",
      "/usr/bin/time -f \"U:%U S:%S W:%E RSS:%M\" binaries/sabre se \\\n",
      "    -b generated_data/fixed_len_barcodes.sabre \\\n",
      "    -f generated_data/chrc_GBS_1mm_il.fq \\\n",
      "    -u out/sabre/gbs_1mm_unknown.fq \\\n",
      "    -m 1"
     ],
     "language": "python",
     "metadata": {},
     "outputs": [
      {
       "output_type": "stream",
       "stream": "stderr",
       "text": [
        "U:0.46 S:0.02 W:0:00.49 RSS:1656\n"
       ]
      }
     ],
     "prompt_number": 31
    },
    {
     "cell_type": "code",
     "collapsed": false,
     "input": [
      "print sabre_se_out"
     ],
     "language": "python",
     "metadata": {},
     "outputs": [
      {
       "output_type": "stream",
       "stream": "stdout",
       "text": [
        "\n",
        "Total FastQ records: 500000\n",
        "\n",
        "FastQ records for barcode TTTTTTTT: 62252\n",
        "FastQ records for barcode TTTTTGCA: 57296\n",
        "FastQ records for barcode GGGGGGGG: 62998\n",
        "FastQ records for barcode GGGGTGCA: 57552\n",
        "FastQ records for barcode CCCCCCCC: 62228\n",
        "FastQ records for barcode CCCCTGCA: 57559\n",
        "FastQ records for barcode AAAAAAAA: 62626\n",
        "FastQ records for barcode AAAATGCA: 57602\n",
        "\n",
        "FastQ records with no barcode match: 19887\n",
        "\n",
        "Number of mismatches allowed: 1\n",
        "\n",
        "\n"
       ]
      }
     ],
     "prompt_number": 32
    },
    {
     "cell_type": "markdown",
     "metadata": {},
     "source": [
      "Results of different-length barcode trial\n",
      "-----------------------------------------\n",
      "\n",
      "barcode | axe | sabre\n",
      "--- | --- | ---\n",
      "AAAA | 31285 | 28801\n",
      "AAAAAAAA | 31313 | 31313\n",
      "CCCC | 31280 | 28780\n",
      "CCCCCCCC | 31114 | 31114\n",
      "GGGG | 31236 | 28776\n",
      "GGGGGGGG | 31499 | 31499\n",
      "TTTT | 31147 | 28648\n",
      "TTTTTTTT | 31126 | 31126\n",
      "None | 0 | 9943 \n"
     ]
    },
    {
     "cell_type": "markdown",
     "metadata": {},
     "source": [
      "Clean Up\n",
      "--------\n",
      "\n",
      "We  best clean up things now. Don't run this if you want to keep the files around"
     ]
    },
    {
     "cell_type": "code",
     "collapsed": false,
     "input": [
      "!test -d generated_data/ && rm -r generated_data/\n",
      "!test -d out/ && rm -r out/"
     ],
     "language": "python",
     "metadata": {},
     "outputs": [],
     "prompt_number": 33
    }
   ],
   "metadata": {}
  }
 ]
}