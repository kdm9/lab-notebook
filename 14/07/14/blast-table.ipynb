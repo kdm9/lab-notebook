{
 "metadata": {
  "name": "",
  "signature": "sha256:54682526e7bfd7b674e88cd901bcb885c1ec388e43bc749dab880f86dd1b877a"
 },
 "nbformat": 3,
 "nbformat_minor": 0,
 "worksheets": [
  {
   "cells": [
    {
     "cell_type": "markdown",
     "metadata": {},
     "source": [
      "Blast Table Parser\n",
      "==================\n",
      "\n",
      "Goes thru the assembly blast table and grabs contigs that match a Lottia seq.\n",
      "\n",
      "You need the following:\n",
      "\n",
      "    pip install biopython"
     ]
    },
    {
     "cell_type": "code",
     "collapsed": false,
     "input": [
      "import Bio.Seq\n",
      "import Bio.SeqIO\n",
      "import csv\n",
      "import gzip\n",
      "from itertools import izip, cycle, imap\n",
      "from os import path"
     ],
     "language": "python",
     "metadata": {},
     "outputs": [],
     "prompt_number": 39
    },
    {
     "cell_type": "code",
     "collapsed": false,
     "input": [
      "blast_tab = \"blast_tabs/Ampullariidae_Pomacea_bridgesii_AMC479872_FK114_S3_trinity_blastx_229.txt\"\n",
      "assembly = \"assemblies/Ampullariidae_Pomacea_bridgesii_AMC479872_FK114_S3_12PUP.Trinity.fasta\"\n",
      "sp_name = \"P.bridgesii\"\n",
      "ref_fasta = \"blast_ref_lottia_aa/lottia_aa.fasta\"\n",
      "out_dir = \"hit_outseqs_nt\"\n",
      "blast_fields = ['qseqid', 'sseqid', 'pident', 'length', 'mismatch', 'gapopen', 'qstart', 'qend',\n",
      "                'sstart', 'send', 'evalue', 'bitscore', 'qlen', 'slen', 'gaps', 'ppos', 'frames',\n",
      "                'qframe', 'sframe', 'sallgi']"
     ],
     "language": "python",
     "metadata": {},
     "outputs": [],
     "prompt_number": 40
    },
    {
     "cell_type": "code",
     "collapsed": false,
     "input": [
      "# def make_db():\n",
      "assem_db = Bio.SeqIO.index(assembly, \"fasta\")\n",
      "ref_db = Bio.SeqIO.index(ref_fasta, \"fasta\")"
     ],
     "language": "python",
     "metadata": {},
     "outputs": [],
     "prompt_number": 41
    },
    {
     "cell_type": "code",
     "collapsed": false,
     "input": [
      "# ifh = gzip.open(\"Blast_table_4_kevin.csv.gz\")\n",
      "ifh = open(blast_tab)\n",
      "icsv = csv.DictReader(ifh, fieldnames=blast_fields, dialect=csv.excel_tab)"
     ],
     "language": "python",
     "metadata": {},
     "outputs": [],
     "prompt_number": 42
    },
    {
     "cell_type": "code",
     "collapsed": false,
     "input": [
      "def fix_ref_id(id):\n",
      "    split = id.strip().split(\"|\")\n",
      "    return \"~\".join(split[1:3])"
     ],
     "language": "python",
     "metadata": {},
     "outputs": [],
     "prompt_number": 53
    },
    {
     "cell_type": "code",
     "collapsed": false,
     "input": [
      "def fix_frame(seq, frames):\n",
      "    frame = int(frames.strip().split('/')[0])\n",
      "    true_frame = abs(frame) - 1\n",
      "    if frame < 0: # i.e on -ve strand\n",
      "        seq = seq.reverse_complement()\n",
      "    seq_str = \"N\" * true_frame + seq.tostring()\n",
      "    return Bio.Seq.Seq(seq_str)"
     ],
     "language": "python",
     "metadata": {},
     "outputs": [],
     "prompt_number": 82
    },
    {
     "cell_type": "code",
     "collapsed": false,
     "input": [
      "iii = 0\n",
      "for hit in icsv:\n",
      "    ref_seqrecord = ref_db[hit[\"sseqid\"]]\n",
      "    ref_id = fix_ref_id(hit[\"sseqid\"])\n",
      "    ref_seqrecord.id = ref_id\n",
      "    tx_seqrecord = assem_db[hit[\"qseqid\"]]\n",
      "    tx_seq = fix_frame(tx_seqrecord.seq, hit[\"frames\"])\n",
      "    # print ref_seqrecord.seq\n",
      "    # print\n",
      "    # print tx_seq\n",
      "    # Uncomment this to make the output translated\n",
      "    # tx_seqrecord.seq = tx_seq.translate()\n",
      "    tx_seqrecord.id = \"{}~{}\".format(sp_name, tx_seqrecord.name)\n",
      "    to_write = []\n",
      "    out_file = \"{}.fasta\".format(path.join(out_dir, ref_id))\n",
      "    if not path.exists(out_file):\n",
      "        to_write.append(ref_seqrecord)\n",
      "    to_write.append(tx_seqrecord)\n",
      "    with open(out_file, \"a\") as outfh:\n",
      "        Bio.SeqIO.write(to_write, outfh, \"fasta\")\n",
      "    if iii % 1000 == 0:\n",
      "        print \"Processed\", iii, \"rows of blast table\"\n",
      "    iii += 1\n",
      "print \"Processed all\", iii, \"rows of blast table\""
     ],
     "language": "python",
     "metadata": {},
     "outputs": [
      {
       "output_type": "stream",
       "stream": "stdout",
       "text": [
        "CGWYWGPLSYEEAEATLQNKPDGSFLVRDSSNENYILSLSFISHSIVRHTRIEHNKGLFSFWSQPESHGRVTIKEFIEQTVENSRNGNFHYFLRPPGPGMPPLPIQLVHPISRFVQFRSLQHMCRFLILRWVRRDHIDRLPVPEKVKNYLRENQYYVESVEDM*\n",
        "\n",
        "XRLSRESQDMPVHRTDCRVLQKWSLPVLFASCWSWFSSLAHPAAVSGLKILSSALPSAYVSLPGTSLGEDGPY*SPPPSSES*GLLVRKTVLCGKP*RRLKSANILMVTVLCEKS*KRQTCKHPLGDR*YTVMN*TKAKVT*HLQK*IILTSVVNQSF\n",
        "Processed all 0 rows of blast table\n"
       ]
      }
     ],
     "prompt_number": 89
    },
    {
     "cell_type": "raw",
     "metadata": {},
     "source": [
      "next(icsv)\n",
      "{'RC': '0',\n",
      " 'SpGenContig': 'allouarni_S5119784_7_17_3comp741_c0_seq1',\n",
      " 'bitscore': '324',\n",
      " 'evalue': '0',\n",
      " 'gapopen': '0',\n",
      " 'gaps': '0',\n",
      " 'length': '162',\n",
      " 'mismatch': '26',\n",
      " 'pident': '83.95',\n",
      " 'ppos': '90.74',\n",
      " 'qend': '3',\n",
      " 'qframe': '-1',\n",
      " 'qlen': '1157',\n",
      " 'qseq': 'SLDCLIAVKLAVESSLCCLMADEPEAVSSFSCLLADEPEAESSLGCLKADECEAGLSFGCLVAYEPIAESSLGPPIADEPEADPII*AGKAEDLLLNASFLWLTCDVPNVESDCFISSCSSTASVFTAGWSGDSFSGFTTPIAGLTSSINDIFWLCTTAIEL',\n",
      " 'qseqid': '119784_7_17_3',\n",
      " 'qstart': '488',\n",
      " 'send': '189',\n",
      " 'sframe': '-1',\n",
      " 'slen': '1544',\n",
      " 'species': 'allouarni_S5',\n",
      " 'sseqid': 'comp741_c0_seq1',\n",
      " 'sstart': '674'}"
     ]
    }
   ],
   "metadata": {}
  }
 ]
}