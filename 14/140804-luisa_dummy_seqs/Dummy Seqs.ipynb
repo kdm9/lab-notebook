{
 "metadata": {
  "name": "",
  "signature": "sha256:15be5422304587414bb402686dc808459c088b5329048f4a7dea2d056f37a82c"
 },
 "nbformat": 3,
 "nbformat_minor": 0,
 "worksheets": [
  {
   "cells": [
    {
     "cell_type": "code",
     "collapsed": false,
     "input": [
      "import Bio\n",
      "from Bio.SeqIO import index as index_seqfile\n",
      "from Bio.SeqIO import write as write_seqfile\n",
      "from Bio.Seq import Seq\n",
      "from Bio.SeqRecord import  SeqRecord\n",
      "import glob\n",
      "from os import path"
     ],
     "language": "python",
     "metadata": {},
     "outputs": [],
     "prompt_number": 23
    },
    {
     "cell_type": "code",
     "collapsed": false,
     "input": [
      "def split_id_line(line):\n",
      "    return line.strip().split('~~')[0]"
     ],
     "language": "python",
     "metadata": {},
     "outputs": [],
     "prompt_number": 24
    },
    {
     "cell_type": "code",
     "collapsed": false,
     "input": [
      "def process_gene_file(fle):\n",
      "    with open(fle) as fh:\n",
      "        idx = index_seqfile(fle, \"fasta\", key_function=split_id_line)\n",
      "    seqs = []\n",
      "    for id, seq in idx.iteritems():\n",
      "        seqs.append(seq)\n",
      "    len_of_seq = len(seqs[0].seq)\n",
      "    dummy = '~' * len_of_seq\n",
      "    for sp in list_of_sp:\n",
      "        if sp not in idx:\n",
      "            name = sp + \"~~dummy\"\n",
      "            dummy_s = Seq(dummy)\n",
      "            dummy_sr = SeqRecord(dummy_s, id=name, name=name, description='KDM FUCKED THIS UP')\n",
      "            seqs.append(dummy_sr)\n",
      "    outfile = path.join(\"fixed\", path.basename(path.splitext(fle)[0] + \"_fixed.fas\"))\n",
      "    seqs = sorted(seqs, key=lambda s: s.id)\n",
      "    with open(outfile, \"w\") as ofh:\n",
      "        write_seqfile(seqs, ofh, \"fasta\")\n",
      "    return seqs"
     ],
     "language": "python",
     "metadata": {},
     "outputs": [],
     "prompt_number": 36
    },
    {
     "cell_type": "code",
     "collapsed": true,
     "input": [
      "alignments  = glob.glob(\"data/*.fas\")\n",
      "with open(\"species.txt\") as fh:\n",
      "    list_of_sp = [s.strip() for s in fh.readlines()]\n",
      "    # List comprehension fucking rocks\n",
      "    # it's the same as:\n",
      "    \"\"\"\n",
      "    list_of_sp = []\n",
      "    dict_of_sp = {}\n",
      "    for s in fh.readlines():\n",
      "        list_of_sp.append(s.strip())\n",
      "        # dict_of_sp = {s.strip(): 42 for s in fh.readlines()}\n",
      "        dict_of_sp[s.strip] = 42\n",
      "    \"\"\""
     ],
     "language": "python",
     "metadata": {},
     "outputs": [],
     "prompt_number": 37
    },
    {
     "cell_type": "code",
     "collapsed": true,
     "input": [
      "for gene_file in alignments:\n",
      "    print \"Procesing\", gene_file, \n",
      "    process_gene_file(gene_file)\n",
      "    print \"done\""
     ],
     "language": "python",
     "metadata": {},
     "outputs": [
      {
       "output_type": "stream",
       "stream": "stdout",
       "text": [
        "Procesing data/108787_pulm_heliacus.fas done\n",
        "Procesing data/212711_pulm_aligned.fas done\n",
        "Procesing data/197181_pulm_aligned.fas done\n",
        "Procesing data/105979_pulm_aligned.fas done\n",
        "Procesing data/203677_pulm_aligned.fas done\n",
        "Procesing data/196960_pulm_aligned.fas done\n",
        "Procesing data/205412_pulm_aligned.fas done\n",
        "Procesing data/142681_pulm_aligned.fas done\n",
        "Procesing data/103560_pulm_aligned.fas "
       ]
      },
      {
       "output_type": "stream",
       "stream": "stdout",
       "text": [
        "done\n",
        "Procesing data/152785_pulm_aligned.fas done\n",
        "Procesing data/180428_pulm_aligned.fas done\n",
        "Procesing data/155494_pulm_aligned.fas done\n",
        "Procesing data/96262_pulm_aligned_rissoella.fas done\n",
        "Procesing data/225615_pulm_aligned.fas done\n",
        "Procesing data/206284_pulm_aligned.fas done\n",
        "Procesing data/154698_pulm_aligned.fas done\n",
        "Procesing data/154620_pulm_aligned.fas "
       ]
      },
      {
       "output_type": "stream",
       "stream": "stdout",
       "text": [
        "done\n",
        "Procesing data/181759_pulm_aligned.fas done\n",
        "Procesing data/190227_pulm_aligned.fas done\n",
        "Procesing data/193840_pulm_aligned.fas done\n",
        "Procesing data/165337_pulm_aligned.fas done\n",
        "Procesing data/150117_pulm_aligned_heilacus.fas done\n",
        "Procesing data/216779_pulm_aligned.fas done\n",
        "Procesing data/228377_pulm_aligned.fas done\n",
        "Procesing data/59279_pulm_aligned.fas done\n",
        "Procesing data/185481_pulm_aligned.fas done\n",
        "Procesing data/200903_pulm_aligned.fas "
       ]
      },
      {
       "output_type": "stream",
       "stream": "stdout",
       "text": [
        "done\n",
        "Procesing data/56892_pulm_aligned.fas done\n",
        "Procesing data/103711_pulm_aligned.fas done\n",
        "Procesing data/110063_pulm_aligned.fas done\n",
        "Procesing data/126234_pulm_aligned.fas done\n",
        "Procesing data/156936_pulm_aligned.fas done\n",
        "Procesing data/68595_pulm_aligned.fas done\n",
        "Procesing data/214610_pulm_aligned.fas done\n",
        "Procesing data/190525_pulm_aligned.fas done\n",
        "Procesing data/186799_pulm_aligned.fas "
       ]
      },
      {
       "output_type": "stream",
       "stream": "stdout",
       "text": [
        "done\n",
        "Procesing data/118510_pulm_aligned.fas done\n",
        "Procesing data/195390_pulm_aligned.fas done\n",
        "Procesing data/204590_pulm_aligned.fas done\n",
        "Procesing data/181127_pulm_aligned.fas done\n",
        "Procesing data/203990_pulm_aligned.fas done\n",
        "Procesing data/104548_pulm_aligned.fas done\n",
        "Procesing data/205140_pulm_aligned.fas done\n",
        "Procesing data/205831_pulm_aligned.fas done\n",
        "Procesing data/183100_pulm_aligned.fas done\n",
        "Procesing data/118654_pulm_aligned.fas "
       ]
      },
      {
       "output_type": "stream",
       "stream": "stdout",
       "text": [
        "done\n",
        "Procesing data/185700_pulm_aligned.fas done\n",
        "Procesing data/97481_pulm_aligned.fas done\n",
        "Procesing data/210048_pulm_aligned.fas done\n",
        "Procesing data/57629_pulm_aligned.fas done\n",
        "Procesing data/66926_pulm_aligned.fas done\n",
        "Procesing data/196504_pulm_aligned.fas done\n",
        "Procesing data/184295_pulm_aligned.fas done\n",
        "Procesing data/199122_pulm_aligned.fas done\n",
        "Procesing data/209758_pulm_aligned.fas done\n",
        "Procesing data/208666_pulm_aligned.fas done\n",
        "Procesing data/109608_pulm_aligned.fas "
       ]
      },
      {
       "output_type": "stream",
       "stream": "stdout",
       "text": [
        "done\n",
        "Procesing data/159839_pulm_aligned.fas done\n",
        "Procesing data/141904_pulm_aligned.fas done\n",
        "Procesing data/210079_pulm_aligned.fas done\n",
        "Procesing data/98069_pulm_aligned.fas done\n",
        "Procesing data/102889_pulm_aligned.fas done\n",
        "Procesing data/200332_pulm_aligned.fas done\n",
        "Procesing data/136847_pulm_aligned_rissoella.fas done\n",
        "Procesing data/101919_pulm_aligned.fas done\n",
        "Procesing data/229474_pulm_aligned.fas done\n",
        "Procesing data/219222_pulm_aligned.fas "
       ]
      },
      {
       "output_type": "stream",
       "stream": "stdout",
       "text": [
        "done\n",
        "Procesing data/96885_pulm_aligned.fas done\n",
        "Procesing data/100771_pulm_aligned.fas done\n",
        "Procesing data/101578_pulm_aligned.fas done\n",
        "Procesing data/189380_pulm_aligned.fas done\n",
        "Procesing data/210400_pulm_aligned.fas done\n",
        "Procesing data/119246_pulm_aligned.fas done\n",
        "Procesing data/120210_pulm_aligned.fas done\n",
        "Procesing data/194459_pulm_aligned.fas done\n",
        "Procesing data/206392_pulm_aligned.fas done\n",
        "Procesing data/114503_pulm_aligned.fas done\n",
        "Procesing data/127678_pulm_aligned.fas "
       ]
      },
      {
       "output_type": "stream",
       "stream": "stdout",
       "text": [
        "done\n",
        "Procesing data/141873_pulm_aligned_tylodina.fas done\n",
        "Procesing data/126181_pulm_aligned.fas done\n",
        "Procesing data/213741_pulm_aligned.fas done\n",
        "Procesing data/217988_pulm_aligned.fas done\n",
        "Procesing data/124038_pulm_aligned.fas done\n"
       ]
      }
     ],
     "prompt_number": 38
    },
    {
     "cell_type": "code",
     "collapsed": false,
     "input": [],
     "language": "python",
     "metadata": {},
     "outputs": []
    }
   ],
   "metadata": {}
  }
 ]
}